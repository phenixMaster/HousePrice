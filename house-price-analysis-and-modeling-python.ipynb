{
 "cells": [
  {
   "cell_type": "code",
   "execution_count": 1,
   "id": "166fafc3",
   "metadata": {
    "_cell_guid": "b1076dfc-b9ad-4769-8c92-a6c4dae69d19",
    "_uuid": "8f2839f25d086af736a60e9eeb907d3b93b6e0e5",
    "execution": {
     "iopub.execute_input": "2024-08-22T07:09:58.491947Z",
     "iopub.status.busy": "2024-08-22T07:09:58.491538Z",
     "iopub.status.idle": "2024-08-22T07:10:00.971510Z",
     "shell.execute_reply": "2024-08-22T07:10:00.970383Z"
    },
    "papermill": {
     "duration": 2.499465,
     "end_time": "2024-08-22T07:10:00.974339",
     "exception": false,
     "start_time": "2024-08-22T07:09:58.474874",
     "status": "completed"
    },
    "tags": []
   },
   "outputs": [],
   "source": [
    "import numpy as np # linear algebra\n",
    "import pandas as pd # data processing, CSV file I/O (e.g. pd.read_csv)\n",
    "import sklearn as skl\n",
    "import matplotlib as mp\n",
    "import seaborn as sn\n",
    "import statistics as stats\n",
    "\n",
    "\n",
    "import os\n",
    "#for dirname, _, filenames in os.walk('/kaggle/input'):\n",
    "    #for filename in filenames:\n",
    "        #print(os.path.join(dirname, filename))\n",
    "\n",
    "# You can write up to 20GB to the current directory (/kaggle/working/) that gets preserved as output when you create a version using \"Save & Run All\" \n",
    "# You can also write temporary files to /kaggle/temp/, but they won't be saved outside of the current session"
   ]
  },
  {
   "cell_type": "markdown",
   "id": "2bb9dfca",
   "metadata": {
    "papermill": {
     "duration": 0.013917,
     "end_time": "2024-08-22T07:10:01.002731",
     "exception": false,
     "start_time": "2024-08-22T07:10:00.988814",
     "status": "completed"
    },
    "tags": []
   },
   "source": [
    "## Load data and data inspection"
   ]
  },
  {
   "cell_type": "code",
   "execution_count": 2,
   "id": "f9f60723",
   "metadata": {
    "execution": {
     "iopub.execute_input": "2024-08-22T07:10:01.034760Z",
     "iopub.status.busy": "2024-08-22T07:10:01.034267Z",
     "iopub.status.idle": "2024-08-22T07:10:01.085571Z",
     "shell.execute_reply": "2024-08-22T07:10:01.084374Z"
    },
    "papermill": {
     "duration": 0.069681,
     "end_time": "2024-08-22T07:10:01.088403",
     "exception": false,
     "start_time": "2024-08-22T07:10:01.018722",
     "status": "completed"
    },
    "tags": []
   },
   "outputs": [],
   "source": [
    "# load data\n",
    "house_data = pd.read_csv(\"/kaggle/input/house-prices-advanced-regression-techniques/train.csv\")"
   ]
  },
  {
   "cell_type": "code",
   "execution_count": 3,
   "id": "e1b7bd71",
   "metadata": {
    "execution": {
     "iopub.execute_input": "2024-08-22T07:10:01.119845Z",
     "iopub.status.busy": "2024-08-22T07:10:01.119012Z",
     "iopub.status.idle": "2024-08-22T07:10:01.126802Z",
     "shell.execute_reply": "2024-08-22T07:10:01.125703Z"
    },
    "papermill": {
     "duration": 0.02641,
     "end_time": "2024-08-22T07:10:01.129456",
     "exception": false,
     "start_time": "2024-08-22T07:10:01.103046",
     "status": "completed"
    },
    "tags": []
   },
   "outputs": [
    {
     "data": {
      "text/plain": [
       "(1460, 81)"
      ]
     },
     "execution_count": 3,
     "metadata": {},
     "output_type": "execute_result"
    }
   ],
   "source": [
    "#data inspection\n",
    "house_data.shape"
   ]
  },
  {
   "cell_type": "markdown",
   "id": "3b617295",
   "metadata": {
    "papermill": {
     "duration": 0.014213,
     "end_time": "2024-08-22T07:10:01.159029",
     "exception": false,
     "start_time": "2024-08-22T07:10:01.144816",
     "status": "completed"
    },
    "tags": []
   },
   "source": [
    "There are 1460 rows and 81 columns "
   ]
  },
  {
   "cell_type": "code",
   "execution_count": 4,
   "id": "17cc6e22",
   "metadata": {
    "execution": {
     "iopub.execute_input": "2024-08-22T07:10:01.189394Z",
     "iopub.status.busy": "2024-08-22T07:10:01.188973Z",
     "iopub.status.idle": "2024-08-22T07:10:01.229405Z",
     "shell.execute_reply": "2024-08-22T07:10:01.227880Z"
    },
    "papermill": {
     "duration": 0.060171,
     "end_time": "2024-08-22T07:10:01.233441",
     "exception": false,
     "start_time": "2024-08-22T07:10:01.173270",
     "status": "completed"
    },
    "tags": []
   },
   "outputs": [
    {
     "data": {
      "text/plain": [
       "True"
      ]
     },
     "execution_count": 4,
     "metadata": {},
     "output_type": "execute_result"
    }
   ],
   "source": [
    "# drop duplicates\n",
    "house_data.drop_duplicates().shape[0] == house_data.shape[0]"
   ]
  },
  {
   "cell_type": "markdown",
   "id": "a86fad16",
   "metadata": {
    "papermill": {
     "duration": 0.017948,
     "end_time": "2024-08-22T07:10:01.272253",
     "exception": false,
     "start_time": "2024-08-22T07:10:01.254305",
     "status": "completed"
    },
    "tags": []
   },
   "source": [
    "There is no duplicated rows in data"
   ]
  },
  {
   "cell_type": "markdown",
   "id": "2ef70ef1",
   "metadata": {
    "papermill": {
     "duration": 0.014884,
     "end_time": "2024-08-22T07:10:01.302417",
     "exception": false,
     "start_time": "2024-08-22T07:10:01.287533",
     "status": "completed"
    },
    "tags": []
   },
   "source": [
    "## Drop Id and SalePrice from features "
   ]
  },
  {
   "cell_type": "code",
   "execution_count": 5,
   "id": "8365b591",
   "metadata": {
    "execution": {
     "iopub.execute_input": "2024-08-22T07:10:01.339170Z",
     "iopub.status.busy": "2024-08-22T07:10:01.338190Z",
     "iopub.status.idle": "2024-08-22T07:10:01.357961Z",
     "shell.execute_reply": "2024-08-22T07:10:01.356780Z"
    },
    "papermill": {
     "duration": 0.042624,
     "end_time": "2024-08-22T07:10:01.360558",
     "exception": false,
     "start_time": "2024-08-22T07:10:01.317934",
     "status": "completed"
    },
    "tags": []
   },
   "outputs": [
    {
     "data": {
      "text/plain": [
       "True"
      ]
     },
     "execution_count": 5,
     "metadata": {},
     "output_type": "execute_result"
    }
   ],
   "source": [
    "# create target feature\n",
    "target = house_data.SalePrice\n",
    "\n",
    "# remove id and target columns\n",
    "\n",
    "house_data1 = house_data.drop(columns=['Id'],axis = 1)\n",
    "\n",
    "# check\n",
    "house_data1.shape[1]==house_data.shape[1]-1 and\\\n",
    "not ['Id'] in house_data1.columns.tolist()"
   ]
  },
  {
   "cell_type": "code",
   "execution_count": 6,
   "id": "d39af01e",
   "metadata": {
    "execution": {
     "iopub.execute_input": "2024-08-22T07:10:01.404763Z",
     "iopub.status.busy": "2024-08-22T07:10:01.403968Z",
     "iopub.status.idle": "2024-08-22T07:10:01.423663Z",
     "shell.execute_reply": "2024-08-22T07:10:01.422238Z"
    },
    "papermill": {
     "duration": 0.048198,
     "end_time": "2024-08-22T07:10:01.427483",
     "exception": false,
     "start_time": "2024-08-22T07:10:01.379285",
     "status": "completed"
    },
    "tags": []
   },
   "outputs": [
    {
     "data": {
      "text/plain": [
       "count      1460.000000\n",
       "mean     180921.195890\n",
       "std       79442.502883\n",
       "min       34900.000000\n",
       "25%      129975.000000\n",
       "50%      163000.000000\n",
       "75%      214000.000000\n",
       "max      755000.000000\n",
       "Name: SalePrice, dtype: float64"
      ]
     },
     "execution_count": 6,
     "metadata": {},
     "output_type": "execute_result"
    }
   ],
   "source": [
    "target.describe()"
   ]
  },
  {
   "cell_type": "code",
   "execution_count": 7,
   "id": "8cd15b15",
   "metadata": {
    "execution": {
     "iopub.execute_input": "2024-08-22T07:10:01.475912Z",
     "iopub.status.busy": "2024-08-22T07:10:01.475383Z",
     "iopub.status.idle": "2024-08-22T07:10:01.482698Z",
     "shell.execute_reply": "2024-08-22T07:10:01.481574Z"
    },
    "papermill": {
     "duration": 0.03282,
     "end_time": "2024-08-22T07:10:01.485503",
     "exception": false,
     "start_time": "2024-08-22T07:10:01.452683",
     "status": "completed"
    },
    "tags": []
   },
   "outputs": [
    {
     "name": "stdout",
     "output_type": "stream",
     "text": [
      "There is no missing value in data\n"
     ]
    }
   ],
   "source": [
    "if not(target.isna().mean()) :\n",
    "    print(\"There is no missing value in data\")\n",
    "else:\n",
    "    print(f\"prop NA = {target.isna().mean()}\")"
   ]
  },
  {
   "cell_type": "code",
   "execution_count": 8,
   "id": "2dc217e3",
   "metadata": {
    "execution": {
     "iopub.execute_input": "2024-08-22T07:10:01.522788Z",
     "iopub.status.busy": "2024-08-22T07:10:01.522373Z",
     "iopub.status.idle": "2024-08-22T07:10:01.974591Z",
     "shell.execute_reply": "2024-08-22T07:10:01.973501Z"
    },
    "papermill": {
     "duration": 0.476354,
     "end_time": "2024-08-22T07:10:01.977067",
     "exception": false,
     "start_time": "2024-08-22T07:10:01.500713",
     "status": "completed"
    },
    "tags": []
   },
   "outputs": [
    {
     "name": "stderr",
     "output_type": "stream",
     "text": [
      "/opt/conda/lib/python3.10/site-packages/seaborn/_oldcore.py:1119: FutureWarning: use_inf_as_na option is deprecated and will be removed in a future version. Convert inf values to NaN before operating instead.\n",
      "  with pd.option_context('mode.use_inf_as_na', True):\n"
     ]
    },
    {
     "data": {
      "text/plain": [
       "<Axes: xlabel='SalePrice', ylabel='Count'>"
      ]
     },
     "execution_count": 8,
     "metadata": {},
     "output_type": "execute_result"
    },
    {
     "data": {
      "image/png": "[encoded data removed]",
      "text/plain": [
       "<Figure size 640x480 with 1 Axes>"
      ]
     },
     "metadata": {},
     "output_type": "display_data"
    }
   ],
   "source": [
    "# plot target \n",
    "sn.histplot(target)"
   ]
  },
  {
   "cell_type": "code",
   "execution_count": 9,
   "id": "b1306452",
   "metadata": {
    "execution": {
     "iopub.execute_input": "2024-08-22T07:10:02.010215Z",
     "iopub.status.busy": "2024-08-22T07:10:02.009764Z",
     "iopub.status.idle": "2024-08-22T07:10:02.017627Z",
     "shell.execute_reply": "2024-08-22T07:10:02.016572Z"
    },
    "papermill": {
     "duration": 0.027257,
     "end_time": "2024-08-22T07:10:02.020069",
     "exception": false,
     "start_time": "2024-08-22T07:10:01.992812",
     "status": "completed"
    },
    "tags": []
   },
   "outputs": [
    {
     "name": "stdout",
     "output_type": "stream",
     "text": [
      "There are 37 features in house_data1\n"
     ]
    }
   ],
   "source": [
    "# select numeric columns\n",
    "num_data = house_data1[house_data1.select_dtypes(include='number').columns]\n",
    "print(f\"There are {num_data.shape[1]} features in house_data1\")"
   ]
  },
  {
   "cell_type": "code",
   "execution_count": 10,
   "id": "f6200d44",
   "metadata": {
    "execution": {
     "iopub.execute_input": "2024-08-22T07:10:02.053200Z",
     "iopub.status.busy": "2024-08-22T07:10:02.052741Z",
     "iopub.status.idle": "2024-08-22T07:10:02.153473Z",
     "shell.execute_reply": "2024-08-22T07:10:02.152297Z"
    },
    "papermill": {
     "duration": 0.120356,
     "end_time": "2024-08-22T07:10:02.156100",
     "exception": false,
     "start_time": "2024-08-22T07:10:02.035744",
     "status": "completed"
    },
    "tags": []
   },
   "outputs": [
    {
     "data": {
      "text/html": [
       "<div>\n",
       "<style scoped>\n",
       "    .dataframe tbody tr th:only-of-type {\n",
       "        vertical-align: middle;\n",
       "    }\n",
       "\n",
       "    .dataframe tbody tr th {\n",
       "        vertical-align: top;\n",
       "    }\n",
       "\n",
       "    .dataframe thead th {\n",
       "        text-align: right;\n",
       "    }\n",
       "</style>\n",
       "<table border=\"1\" class=\"dataframe\">\n",
       "  <thead>\n",
       "    <tr style=\"text-align: right;\">\n",
       "      <th></th>\n",
       "      <th>MSSubClass</th>\n",
       "      <th>LotFrontage</th>\n",
       "      <th>LotArea</th>\n",
       "      <th>OverallQual</th>\n",
       "      <th>OverallCond</th>\n",
       "      <th>YearBuilt</th>\n",
       "      <th>YearRemodAdd</th>\n",
       "      <th>MasVnrArea</th>\n",
       "      <th>BsmtFinSF1</th>\n",
       "      <th>BsmtFinSF2</th>\n",
       "      <th>...</th>\n",
       "      <th>WoodDeckSF</th>\n",
       "      <th>OpenPorchSF</th>\n",
       "      <th>EnclosedPorch</th>\n",
       "      <th>3SsnPorch</th>\n",
       "      <th>ScreenPorch</th>\n",
       "      <th>PoolArea</th>\n",
       "      <th>MiscVal</th>\n",
       "      <th>MoSold</th>\n",
       "      <th>YrSold</th>\n",
       "      <th>SalePrice</th>\n",
       "    </tr>\n",
       "  </thead>\n",
       "  <tbody>\n",
       "    <tr>\n",
       "      <th>count</th>\n",
       "      <td>1460.000000</td>\n",
       "      <td>1201.000000</td>\n",
       "      <td>1460.000000</td>\n",
       "      <td>1460.000000</td>\n",
       "      <td>1460.000000</td>\n",
       "      <td>1460.000000</td>\n",
       "      <td>1460.000000</td>\n",
       "      <td>1452.000000</td>\n",
       "      <td>1460.000000</td>\n",
       "      <td>1460.000000</td>\n",
       "      <td>...</td>\n",
       "      <td>1460.000000</td>\n",
       "      <td>1460.000000</td>\n",
       "      <td>1460.000000</td>\n",
       "      <td>1460.000000</td>\n",
       "      <td>1460.000000</td>\n",
       "      <td>1460.000000</td>\n",
       "      <td>1460.000000</td>\n",
       "      <td>1460.000000</td>\n",
       "      <td>1460.000000</td>\n",
       "      <td>1460.000000</td>\n",
       "    </tr>\n",
       "    <tr>\n",
       "      <th>mean</th>\n",
       "      <td>56.897260</td>\n",
       "      <td>70.049958</td>\n",
       "      <td>10516.828082</td>\n",
       "      <td>6.099315</td>\n",
       "      <td>5.575342</td>\n",
       "      <td>1971.267808</td>\n",
       "      <td>1984.865753</td>\n",
       "      <td>103.685262</td>\n",
       "      <td>443.639726</td>\n",
       "      <td>46.549315</td>\n",
       "      <td>...</td>\n",
       "      <td>94.244521</td>\n",
       "      <td>46.660274</td>\n",
       "      <td>21.954110</td>\n",
       "      <td>3.409589</td>\n",
       "      <td>15.060959</td>\n",
       "      <td>2.758904</td>\n",
       "      <td>43.489041</td>\n",
       "      <td>6.321918</td>\n",
       "      <td>2007.815753</td>\n",
       "      <td>180921.195890</td>\n",
       "    </tr>\n",
       "    <tr>\n",
       "      <th>std</th>\n",
       "      <td>42.300571</td>\n",
       "      <td>24.284752</td>\n",
       "      <td>9981.264932</td>\n",
       "      <td>1.382997</td>\n",
       "      <td>1.112799</td>\n",
       "      <td>30.202904</td>\n",
       "      <td>20.645407</td>\n",
       "      <td>181.066207</td>\n",
       "      <td>456.098091</td>\n",
       "      <td>161.319273</td>\n",
       "      <td>...</td>\n",
       "      <td>125.338794</td>\n",
       "      <td>66.256028</td>\n",
       "      <td>61.119149</td>\n",
       "      <td>29.317331</td>\n",
       "      <td>55.757415</td>\n",
       "      <td>40.177307</td>\n",
       "      <td>496.123024</td>\n",
       "      <td>2.703626</td>\n",
       "      <td>1.328095</td>\n",
       "      <td>79442.502883</td>\n",
       "    </tr>\n",
       "    <tr>\n",
       "      <th>min</th>\n",
       "      <td>20.000000</td>\n",
       "      <td>21.000000</td>\n",
       "      <td>1300.000000</td>\n",
       "      <td>1.000000</td>\n",
       "      <td>1.000000</td>\n",
       "      <td>1872.000000</td>\n",
       "      <td>1950.000000</td>\n",
       "      <td>0.000000</td>\n",
       "      <td>0.000000</td>\n",
       "      <td>0.000000</td>\n",
       "      <td>...</td>\n",
       "      <td>0.000000</td>\n",
       "      <td>0.000000</td>\n",
       "      <td>0.000000</td>\n",
       "      <td>0.000000</td>\n",
       "      <td>0.000000</td>\n",
       "      <td>0.000000</td>\n",
       "      <td>0.000000</td>\n",
       "      <td>1.000000</td>\n",
       "      <td>2006.000000</td>\n",
       "      <td>34900.000000</td>\n",
       "    </tr>\n",
       "    <tr>\n",
       "      <th>25%</th>\n",
       "      <td>20.000000</td>\n",
       "      <td>59.000000</td>\n",
       "      <td>7553.500000</td>\n",
       "      <td>5.000000</td>\n",
       "      <td>5.000000</td>\n",
       "      <td>1954.000000</td>\n",
       "      <td>1967.000000</td>\n",
       "      <td>0.000000</td>\n",
       "      <td>0.000000</td>\n",
       "      <td>0.000000</td>\n",
       "      <td>...</td>\n",
       "      <td>0.000000</td>\n",
       "      <td>0.000000</td>\n",
       "      <td>0.000000</td>\n",
       "      <td>0.000000</td>\n",
       "      <td>0.000000</td>\n",
       "      <td>0.000000</td>\n",
       "      <td>0.000000</td>\n",
       "      <td>5.000000</td>\n",
       "      <td>2007.000000</td>\n",
       "      <td>129975.000000</td>\n",
       "    </tr>\n",
       "    <tr>\n",
       "      <th>50%</th>\n",
       "      <td>50.000000</td>\n",
       "      <td>69.000000</td>\n",
       "      <td>9478.500000</td>\n",
       "      <td>6.000000</td>\n",
       "      <td>5.000000</td>\n",
       "      <td>1973.000000</td>\n",
       "      <td>1994.000000</td>\n",
       "      <td>0.000000</td>\n",
       "      <td>383.500000</td>\n",
       "      <td>0.000000</td>\n",
       "      <td>...</td>\n",
       "      <td>0.000000</td>\n",
       "      <td>25.000000</td>\n",
       "      <td>0.000000</td>\n",
       "      <td>0.000000</td>\n",
       "      <td>0.000000</td>\n",
       "      <td>0.000000</td>\n",
       "      <td>0.000000</td>\n",
       "      <td>6.000000</td>\n",
       "      <td>2008.000000</td>\n",
       "      <td>163000.000000</td>\n",
       "    </tr>\n",
       "    <tr>\n",
       "      <th>75%</th>\n",
       "      <td>70.000000</td>\n",
       "      <td>80.000000</td>\n",
       "      <td>11601.500000</td>\n",
       "      <td>7.000000</td>\n",
       "      <td>6.000000</td>\n",
       "      <td>2000.000000</td>\n",
       "      <td>2004.000000</td>\n",
       "      <td>166.000000</td>\n",
       "      <td>712.250000</td>\n",
       "      <td>0.000000</td>\n",
       "      <td>...</td>\n",
       "      <td>168.000000</td>\n",
       "      <td>68.000000</td>\n",
       "      <td>0.000000</td>\n",
       "      <td>0.000000</td>\n",
       "      <td>0.000000</td>\n",
       "      <td>0.000000</td>\n",
       "      <td>0.000000</td>\n",
       "      <td>8.000000</td>\n",
       "      <td>2009.000000</td>\n",
       "      <td>214000.000000</td>\n",
       "    </tr>\n",
       "    <tr>\n",
       "      <th>max</th>\n",
       "      <td>190.000000</td>\n",
       "      <td>313.000000</td>\n",
       "      <td>215245.000000</td>\n",
       "      <td>10.000000</td>\n",
       "      <td>9.000000</td>\n",
       "      <td>2010.000000</td>\n",
       "      <td>2010.000000</td>\n",
       "      <td>1600.000000</td>\n",
       "      <td>5644.000000</td>\n",
       "      <td>1474.000000</td>\n",
       "      <td>...</td>\n",
       "      <td>857.000000</td>\n",
       "      <td>547.000000</td>\n",
       "      <td>552.000000</td>\n",
       "      <td>508.000000</td>\n",
       "      <td>480.000000</td>\n",
       "      <td>738.000000</td>\n",
       "      <td>15500.000000</td>\n",
       "      <td>12.000000</td>\n",
       "      <td>2010.000000</td>\n",
       "      <td>755000.000000</td>\n",
       "    </tr>\n",
       "  </tbody>\n",
       "</table>\n",
       "<p>8 rows × 37 columns</p>\n",
       "</div>"
      ],
      "text/plain": [
       "        MSSubClass  LotFrontage        LotArea  OverallQual  OverallCond  \\\n",
       "count  1460.000000  1201.000000    1460.000000  1460.000000  1460.000000   \n",
       "mean     56.897260    70.049958   10516.828082     6.099315     5.575342   \n",
       "std      42.300571    24.284752    9981.264932     1.382997     1.112799   \n",
       "min      20.000000    21.000000    1300.000000     1.000000     1.000000   \n",
       "25%      20.000000    59.000000    7553.500000     5.000000     5.000000   \n",
       "50%      50.000000    69.000000    9478.500000     6.000000     5.000000   \n",
       "75%      70.000000    80.000000   11601.500000     7.000000     6.000000   \n",
       "max     190.000000   313.000000  215245.000000    10.000000     9.000000   \n",
       "\n",
       "         YearBuilt  YearRemodAdd   MasVnrArea   BsmtFinSF1   BsmtFinSF2  ...  \\\n",
       "count  1460.000000   1460.000000  1452.000000  1460.000000  1460.000000  ...   \n",
       "mean   1971.267808   1984.865753   103.685262   443.639726    46.549315  ...   \n",
       "std      30.202904     20.645407   181.066207   456.098091   161.319273  ...   \n",
       "min    1872.000000   1950.000000     0.000000     0.000000     0.000000  ...   \n",
       "25%    1954.000000   1967.000000     0.000000     0.000000     0.000000  ...   \n",
       "50%    1973.000000   1994.000000     0.000000   383.500000     0.000000  ...   \n",
       "75%    2000.000000   2004.000000   166.000000   712.250000     0.000000  ...   \n",
       "max    2010.000000   2010.000000  1600.000000  5644.000000  1474.000000  ...   \n",
       "\n",
       "        WoodDeckSF  OpenPorchSF  EnclosedPorch    3SsnPorch  ScreenPorch  \\\n",
       "count  1460.000000  1460.000000    1460.000000  1460.000000  1460.000000   \n",
       "mean     94.244521    46.660274      21.954110     3.409589    15.060959   \n",
       "std     125.338794    66.256028      61.119149    29.317331    55.757415   \n",
       "min       0.000000     0.000000       0.000000     0.000000     0.000000   \n",
       "25%       0.000000     0.000000       0.000000     0.000000     0.000000   \n",
       "50%       0.000000    25.000000       0.000000     0.000000     0.000000   \n",
       "75%     168.000000    68.000000       0.000000     0.000000     0.000000   \n",
       "max     857.000000   547.000000     552.000000   508.000000   480.000000   \n",
       "\n",
       "          PoolArea       MiscVal       MoSold       YrSold      SalePrice  \n",
       "count  1460.000000   1460.000000  1460.000000  1460.000000    1460.000000  \n",
       "mean      2.758904     43.489041     6.321918  2007.815753  180921.195890  \n",
       "std      40.177307    496.123024     2.703626     1.328095   79442.502883  \n",
       "min       0.000000      0.000000     1.000000  2006.000000   34900.000000  \n",
       "25%       0.000000      0.000000     5.000000  2007.000000  129975.000000  \n",
       "50%       0.000000      0.000000     6.000000  2008.000000  163000.000000  \n",
       "75%       0.000000      0.000000     8.000000  2009.000000  214000.000000  \n",
       "max     738.000000  15500.000000    12.000000  2010.000000  755000.000000  \n",
       "\n",
       "[8 rows x 37 columns]"
      ]
     },
     "execution_count": 10,
     "metadata": {},
     "output_type": "execute_result"
    }
   ],
   "source": [
    "house_data1.describe(include = \"number\")\n"
   ]
  },
  {
   "cell_type": "code",
   "execution_count": 11,
   "id": "2111e7b3",
   "metadata": {
    "execution": {
     "iopub.execute_input": "2024-08-22T07:10:02.191019Z",
     "iopub.status.busy": "2024-08-22T07:10:02.190625Z",
     "iopub.status.idle": "2024-08-22T07:10:02.199141Z",
     "shell.execute_reply": "2024-08-22T07:10:02.198020Z"
    },
    "papermill": {
     "duration": 0.028558,
     "end_time": "2024-08-22T07:10:02.201414",
     "exception": false,
     "start_time": "2024-08-22T07:10:02.172856",
     "status": "completed"
    },
    "tags": []
   },
   "outputs": [
    {
     "name": "stdout",
     "output_type": "stream",
     "text": [
      "There are 43 categorical features in cat_data\n"
     ]
    }
   ],
   "source": [
    "#categorical columns \n",
    "cat_data = house_data1[house_data1.select_dtypes('object').columns]\n",
    "print(f\"There are {cat_data.shape[1]} categorical features in cat_data\")"
   ]
  },
  {
   "cell_type": "code",
   "execution_count": 12,
   "id": "0d74be9f",
   "metadata": {
    "execution": {
     "iopub.execute_input": "2024-08-22T07:10:02.236398Z",
     "iopub.status.busy": "2024-08-22T07:10:02.235631Z",
     "iopub.status.idle": "2024-08-22T07:10:02.323373Z",
     "shell.execute_reply": "2024-08-22T07:10:02.322406Z"
    },
    "papermill": {
     "duration": 0.108028,
     "end_time": "2024-08-22T07:10:02.325859",
     "exception": false,
     "start_time": "2024-08-22T07:10:02.217831",
     "status": "completed"
    },
    "tags": []
   },
   "outputs": [
    {
     "data": {
      "text/html": [
       "<div>\n",
       "<style scoped>\n",
       "    .dataframe tbody tr th:only-of-type {\n",
       "        vertical-align: middle;\n",
       "    }\n",
       "\n",
       "    .dataframe tbody tr th {\n",
       "        vertical-align: top;\n",
       "    }\n",
       "\n",
       "    .dataframe thead th {\n",
       "        text-align: right;\n",
       "    }\n",
       "</style>\n",
       "<table border=\"1\" class=\"dataframe\">\n",
       "  <thead>\n",
       "    <tr style=\"text-align: right;\">\n",
       "      <th></th>\n",
       "      <th>MSZoning</th>\n",
       "      <th>Street</th>\n",
       "      <th>Alley</th>\n",
       "      <th>LotShape</th>\n",
       "      <th>LandContour</th>\n",
       "      <th>Utilities</th>\n",
       "      <th>LotConfig</th>\n",
       "      <th>LandSlope</th>\n",
       "      <th>Neighborhood</th>\n",
       "      <th>Condition1</th>\n",
       "      <th>...</th>\n",
       "      <th>GarageType</th>\n",
       "      <th>GarageFinish</th>\n",
       "      <th>GarageQual</th>\n",
       "      <th>GarageCond</th>\n",
       "      <th>PavedDrive</th>\n",
       "      <th>PoolQC</th>\n",
       "      <th>Fence</th>\n",
       "      <th>MiscFeature</th>\n",
       "      <th>SaleType</th>\n",
       "      <th>SaleCondition</th>\n",
       "    </tr>\n",
       "  </thead>\n",
       "  <tbody>\n",
       "    <tr>\n",
       "      <th>count</th>\n",
       "      <td>1460</td>\n",
       "      <td>1460</td>\n",
       "      <td>91</td>\n",
       "      <td>1460</td>\n",
       "      <td>1460</td>\n",
       "      <td>1460</td>\n",
       "      <td>1460</td>\n",
       "      <td>1460</td>\n",
       "      <td>1460</td>\n",
       "      <td>1460</td>\n",
       "      <td>...</td>\n",
       "      <td>1379</td>\n",
       "      <td>1379</td>\n",
       "      <td>1379</td>\n",
       "      <td>1379</td>\n",
       "      <td>1460</td>\n",
       "      <td>7</td>\n",
       "      <td>281</td>\n",
       "      <td>54</td>\n",
       "      <td>1460</td>\n",
       "      <td>1460</td>\n",
       "    </tr>\n",
       "    <tr>\n",
       "      <th>unique</th>\n",
       "      <td>5</td>\n",
       "      <td>2</td>\n",
       "      <td>2</td>\n",
       "      <td>4</td>\n",
       "      <td>4</td>\n",
       "      <td>2</td>\n",
       "      <td>5</td>\n",
       "      <td>3</td>\n",
       "      <td>25</td>\n",
       "      <td>9</td>\n",
       "      <td>...</td>\n",
       "      <td>6</td>\n",
       "      <td>3</td>\n",
       "      <td>5</td>\n",
       "      <td>5</td>\n",
       "      <td>3</td>\n",
       "      <td>3</td>\n",
       "      <td>4</td>\n",
       "      <td>4</td>\n",
       "      <td>9</td>\n",
       "      <td>6</td>\n",
       "    </tr>\n",
       "    <tr>\n",
       "      <th>top</th>\n",
       "      <td>RL</td>\n",
       "      <td>Pave</td>\n",
       "      <td>Grvl</td>\n",
       "      <td>Reg</td>\n",
       "      <td>Lvl</td>\n",
       "      <td>AllPub</td>\n",
       "      <td>Inside</td>\n",
       "      <td>Gtl</td>\n",
       "      <td>NAmes</td>\n",
       "      <td>Norm</td>\n",
       "      <td>...</td>\n",
       "      <td>Attchd</td>\n",
       "      <td>Unf</td>\n",
       "      <td>TA</td>\n",
       "      <td>TA</td>\n",
       "      <td>Y</td>\n",
       "      <td>Gd</td>\n",
       "      <td>MnPrv</td>\n",
       "      <td>Shed</td>\n",
       "      <td>WD</td>\n",
       "      <td>Normal</td>\n",
       "    </tr>\n",
       "    <tr>\n",
       "      <th>freq</th>\n",
       "      <td>1151</td>\n",
       "      <td>1454</td>\n",
       "      <td>50</td>\n",
       "      <td>925</td>\n",
       "      <td>1311</td>\n",
       "      <td>1459</td>\n",
       "      <td>1052</td>\n",
       "      <td>1382</td>\n",
       "      <td>225</td>\n",
       "      <td>1260</td>\n",
       "      <td>...</td>\n",
       "      <td>870</td>\n",
       "      <td>605</td>\n",
       "      <td>1311</td>\n",
       "      <td>1326</td>\n",
       "      <td>1340</td>\n",
       "      <td>3</td>\n",
       "      <td>157</td>\n",
       "      <td>49</td>\n",
       "      <td>1267</td>\n",
       "      <td>1198</td>\n",
       "    </tr>\n",
       "  </tbody>\n",
       "</table>\n",
       "<p>4 rows × 43 columns</p>\n",
       "</div>"
      ],
      "text/plain": [
       "       MSZoning Street Alley LotShape LandContour Utilities LotConfig  \\\n",
       "count      1460   1460    91     1460        1460      1460      1460   \n",
       "unique        5      2     2        4           4         2         5   \n",
       "top          RL   Pave  Grvl      Reg         Lvl    AllPub    Inside   \n",
       "freq       1151   1454    50      925        1311      1459      1052   \n",
       "\n",
       "       LandSlope Neighborhood Condition1  ... GarageType GarageFinish  \\\n",
       "count       1460         1460       1460  ...       1379         1379   \n",
       "unique         3           25          9  ...          6            3   \n",
       "top          Gtl        NAmes       Norm  ...     Attchd          Unf   \n",
       "freq        1382          225       1260  ...        870          605   \n",
       "\n",
       "       GarageQual GarageCond PavedDrive PoolQC  Fence MiscFeature SaleType  \\\n",
       "count        1379       1379       1460      7    281          54     1460   \n",
       "unique          5          5          3      3      4           4        9   \n",
       "top            TA         TA          Y     Gd  MnPrv        Shed       WD   \n",
       "freq         1311       1326       1340      3    157          49     1267   \n",
       "\n",
       "       SaleCondition  \n",
       "count           1460  \n",
       "unique             6  \n",
       "top           Normal  \n",
       "freq            1198  \n",
       "\n",
       "[4 rows x 43 columns]"
      ]
     },
     "execution_count": 12,
     "metadata": {},
     "output_type": "execute_result"
    }
   ],
   "source": [
    "house_data1.describe(include = \"object\")"
   ]
  },
  {
   "cell_type": "markdown",
   "id": "0ccf61ea",
   "metadata": {
    "papermill": {
     "duration": 0.016691,
     "end_time": "2024-08-22T07:10:02.359241",
     "exception": false,
     "start_time": "2024-08-22T07:10:02.342550",
     "status": "completed"
    },
    "tags": []
   },
   "source": [
    "## Missing values "
   ]
  },
  {
   "cell_type": "code",
   "execution_count": 13,
   "id": "211d4754",
   "metadata": {
    "execution": {
     "iopub.execute_input": "2024-08-22T07:10:02.394042Z",
     "iopub.status.busy": "2024-08-22T07:10:02.393662Z",
     "iopub.status.idle": "2024-08-22T07:10:02.413770Z",
     "shell.execute_reply": "2024-08-22T07:10:02.412737Z"
    },
    "papermill": {
     "duration": 0.040487,
     "end_time": "2024-08-22T07:10:02.416246",
     "exception": false,
     "start_time": "2024-08-22T07:10:02.375759",
     "status": "completed"
    },
    "tags": []
   },
   "outputs": [
    {
     "data": {
      "text/plain": [
       "Alley           0.937671\n",
       "MasVnrType      0.597260\n",
       "BsmtQual        0.025342\n",
       "BsmtCond        0.025342\n",
       "BsmtExposure    0.026027\n",
       "BsmtFinType1    0.025342\n",
       "BsmtFinType2    0.026027\n",
       "Electrical      0.000685\n",
       "FireplaceQu     0.472603\n",
       "GarageType      0.055479\n",
       "GarageFinish    0.055479\n",
       "GarageQual      0.055479\n",
       "GarageCond      0.055479\n",
       "PoolQC          0.995205\n",
       "Fence           0.807534\n",
       "MiscFeature     0.963014\n",
       "dtype: float64"
      ]
     },
     "execution_count": 13,
     "metadata": {},
     "output_type": "execute_result"
    }
   ],
   "source": [
    "# categorical features\n",
    "na_catCols = cat_data.columns[cat_data.isna().mean() !=0.0].tolist()\n",
    "cat_data[na_catCols].isna().mean()"
   ]
  },
  {
   "cell_type": "code",
   "execution_count": 14,
   "id": "184af87d",
   "metadata": {
    "execution": {
     "iopub.execute_input": "2024-08-22T07:10:02.452367Z",
     "iopub.status.busy": "2024-08-22T07:10:02.451684Z",
     "iopub.status.idle": "2024-08-22T07:10:02.470030Z",
     "shell.execute_reply": "2024-08-22T07:10:02.468952Z"
    },
    "papermill": {
     "duration": 0.039428,
     "end_time": "2024-08-22T07:10:02.472628",
     "exception": false,
     "start_time": "2024-08-22T07:10:02.433200",
     "status": "completed"
    },
    "tags": []
   },
   "outputs": [
    {
     "data": {
      "text/plain": [
       "Alley          0.937671\n",
       "MasVnrType     0.597260\n",
       "FireplaceQu    0.472603\n",
       "PoolQC         0.995205\n",
       "Fence          0.807534\n",
       "MiscFeature    0.963014\n",
       "dtype: float64"
      ]
     },
     "execution_count": 14,
     "metadata": {},
     "output_type": "execute_result"
    }
   ],
   "source": [
    "na_catCols = cat_data.columns[cat_data.isna().mean() > 0.2].tolist()\n",
    "cat_data[na_catCols].isna().mean()"
   ]
  },
  {
   "cell_type": "markdown",
   "id": "a0467915",
   "metadata": {
    "papermill": {
     "duration": 0.017346,
     "end_time": "2024-08-22T07:10:02.507018",
     "exception": false,
     "start_time": "2024-08-22T07:10:02.489672",
     "status": "completed"
    },
    "tags": []
   },
   "source": [
    "These features have NA's proportion above 0.3. How to deal with that ?"
   ]
  },
  {
   "cell_type": "code",
   "execution_count": 15,
   "id": "8de041fa",
   "metadata": {
    "execution": {
     "iopub.execute_input": "2024-08-22T07:10:02.543040Z",
     "iopub.status.busy": "2024-08-22T07:10:02.542644Z",
     "iopub.status.idle": "2024-08-22T07:10:02.554295Z",
     "shell.execute_reply": "2024-08-22T07:10:02.553141Z"
    },
    "papermill": {
     "duration": 0.032804,
     "end_time": "2024-08-22T07:10:02.556858",
     "exception": false,
     "start_time": "2024-08-22T07:10:02.524054",
     "status": "completed"
    },
    "tags": []
   },
   "outputs": [
    {
     "data": {
      "text/plain": [
       "LotFrontage    0.177397\n",
       "MasVnrArea     0.005479\n",
       "GarageYrBlt    0.055479\n",
       "dtype: float64"
      ]
     },
     "execution_count": 15,
     "metadata": {},
     "output_type": "execute_result"
    }
   ],
   "source": [
    "# numerical features with na or missing values prop >=0.3\n",
    "na_numCols = num_data.columns[num_data.isnull().mean()> 0.0].tolist()\n",
    "num_data[na_numCols].isna().mean()"
   ]
  },
  {
   "cell_type": "markdown",
   "id": "b701bcc7",
   "metadata": {
    "papermill": {
     "duration": 0.017092,
     "end_time": "2024-08-22T07:10:02.592575",
     "exception": false,
     "start_time": "2024-08-22T07:10:02.575483",
     "status": "completed"
    },
    "tags": []
   },
   "source": [
    "These 3 columns has NAs. How to deal with that?"
   ]
  },
  {
   "cell_type": "code",
   "execution_count": 16,
   "id": "eacc4f3f",
   "metadata": {
    "execution": {
     "iopub.execute_input": "2024-08-22T07:10:02.689763Z",
     "iopub.status.busy": "2024-08-22T07:10:02.689334Z",
     "iopub.status.idle": "2024-08-22T07:10:02.704801Z",
     "shell.execute_reply": "2024-08-22T07:10:02.703675Z"
    },
    "papermill": {
     "duration": 0.097399,
     "end_time": "2024-08-22T07:10:02.707373",
     "exception": false,
     "start_time": "2024-08-22T07:10:02.609974",
     "status": "completed"
    },
    "tags": []
   },
   "outputs": [
    {
     "data": {
      "text/plain": [
       "0.0670291095890411"
      ]
     },
     "execution_count": 16,
     "metadata": {},
     "output_type": "execute_result"
    }
   ],
   "source": [
    "# NA propoortion in house_data1\n",
    "house_data1.isna().mean().mean()"
   ]
  },
  {
   "cell_type": "code",
   "execution_count": 17,
   "id": "203e1707",
   "metadata": {
    "execution": {
     "iopub.execute_input": "2024-08-22T07:10:02.745675Z",
     "iopub.status.busy": "2024-08-22T07:10:02.745259Z",
     "iopub.status.idle": "2024-08-22T07:10:02.750605Z",
     "shell.execute_reply": "2024-08-22T07:10:02.749481Z"
    },
    "papermill": {
     "duration": 0.027231,
     "end_time": "2024-08-22T07:10:02.753044",
     "exception": false,
     "start_time": "2024-08-22T07:10:02.725813",
     "status": "completed"
    },
    "tags": []
   },
   "outputs": [],
   "source": [
    "# fill with mode : doesn't change anything \n",
    "#for feature in house_data1.columns:\n",
    "    #if type(feature) == \"object\":\n",
    "        #house_data1[feature].fillna(stats.mode(house_data1[feature]))\n",
    "    #if type(feature) == \"numeric\" :\n",
    "        #house_data1[feature].fillna(stats.median(house_data1[feature]))\n",
    "# is not convenient : the most common values for rooms for e.g might not be the right one for \n",
    "#any house presenting missing value \n",
    "\n",
    "# maybe imputing by a model is a better bet ! TODO \n"
   ]
  },
  {
   "cell_type": "code",
   "execution_count": 18,
   "id": "5b4e0f27",
   "metadata": {
    "execution": {
     "iopub.execute_input": "2024-08-22T07:10:02.790617Z",
     "iopub.status.busy": "2024-08-22T07:10:02.789604Z",
     "iopub.status.idle": "2024-08-22T07:10:02.805230Z",
     "shell.execute_reply": "2024-08-22T07:10:02.804122Z"
    },
    "papermill": {
     "duration": 0.037034,
     "end_time": "2024-08-22T07:10:02.807716",
     "exception": false,
     "start_time": "2024-08-22T07:10:02.770682",
     "status": "completed"
    },
    "tags": []
   },
   "outputs": [
    {
     "data": {
      "text/plain": [
       "0.0670291095890411"
      ]
     },
     "execution_count": 18,
     "metadata": {},
     "output_type": "execute_result"
    }
   ],
   "source": [
    "house_data1.isna().mean().mean()"
   ]
  },
  {
   "cell_type": "markdown",
   "id": "4c838c23",
   "metadata": {
    "papermill": {
     "duration": 0.017705,
     "end_time": "2024-08-22T07:10:02.843418",
     "exception": false,
     "start_time": "2024-08-22T07:10:02.825713",
     "status": "completed"
    },
    "tags": []
   },
   "source": [
    "There is almost 7% of missing values in dataset, we will get rid of it first"
   ]
  },
  {
   "cell_type": "markdown",
   "id": "1a7b3a1c",
   "metadata": {
    "papermill": {
     "duration": 0.017285,
     "end_time": "2024-08-22T07:10:02.878877",
     "exception": false,
     "start_time": "2024-08-22T07:10:02.861592",
     "status": "completed"
    },
    "tags": []
   },
   "source": [
    "## Features selection"
   ]
  },
  {
   "cell_type": "code",
   "execution_count": 19,
   "id": "fb2b682e",
   "metadata": {
    "execution": {
     "iopub.execute_input": "2024-08-22T07:10:02.916807Z",
     "iopub.status.busy": "2024-08-22T07:10:02.915954Z",
     "iopub.status.idle": "2024-08-22T07:10:02.923407Z",
     "shell.execute_reply": "2024-08-22T07:10:02.922375Z"
    },
    "papermill": {
     "duration": 0.029392,
     "end_time": "2024-08-22T07:10:02.925839",
     "exception": false,
     "start_time": "2024-08-22T07:10:02.896447",
     "status": "completed"
    },
    "tags": []
   },
   "outputs": [
    {
     "name": "stdout",
     "output_type": "stream",
     "text": [
      "house_data2 has shape (1460, 74)\n"
     ]
    }
   ],
   "source": [
    "# drop features with na prop > 0.2\n",
    "house_data2 = house_data1.drop(na_catCols,axis=1)\n",
    "print(f\"house_data2 has shape {house_data2.shape}\")"
   ]
  },
  {
   "cell_type": "code",
   "execution_count": 20,
   "id": "974af6b3",
   "metadata": {
    "execution": {
     "iopub.execute_input": "2024-08-22T07:10:02.964301Z",
     "iopub.status.busy": "2024-08-22T07:10:02.963886Z",
     "iopub.status.idle": "2024-08-22T07:10:02.978722Z",
     "shell.execute_reply": "2024-08-22T07:10:02.977631Z"
    },
    "papermill": {
     "duration": 0.037009,
     "end_time": "2024-08-22T07:10:02.981210",
     "exception": false,
     "start_time": "2024-08-22T07:10:02.944201",
     "status": "completed"
    },
    "tags": []
   },
   "outputs": [
    {
     "data": {
      "text/plain": [
       "0.007960014809329877"
      ]
     },
     "execution_count": 20,
     "metadata": {},
     "output_type": "execute_result"
    }
   ],
   "source": [
    "house_data2.isna().mean().mean()"
   ]
  },
  {
   "cell_type": "code",
   "execution_count": 21,
   "id": "5b10c7fe",
   "metadata": {
    "execution": {
     "iopub.execute_input": "2024-08-22T07:10:03.020052Z",
     "iopub.status.busy": "2024-08-22T07:10:03.019057Z",
     "iopub.status.idle": "2024-08-22T07:10:03.034203Z",
     "shell.execute_reply": "2024-08-22T07:10:03.032656Z"
    },
    "papermill": {
     "duration": 0.03699,
     "end_time": "2024-08-22T07:10:03.036716",
     "exception": false,
     "start_time": "2024-08-22T07:10:02.999726",
     "status": "completed"
    },
    "tags": []
   },
   "outputs": [
    {
     "name": "stdout",
     "output_type": "stream",
     "text": [
      "house_data3 shape :(1460, 61)\n"
     ]
    }
   ],
   "source": [
    "#drop features  with Nas \n",
    "house_data3 = house_data2.dropna(axis = 1)\n",
    "print(f\"house_data3 shape :{house_data3.shape}\")"
   ]
  },
  {
   "cell_type": "code",
   "execution_count": 22,
   "id": "49fae6db",
   "metadata": {
    "execution": {
     "iopub.execute_input": "2024-08-22T07:10:03.074831Z",
     "iopub.status.busy": "2024-08-22T07:10:03.074404Z",
     "iopub.status.idle": "2024-08-22T07:10:03.086368Z",
     "shell.execute_reply": "2024-08-22T07:10:03.085220Z"
    },
    "papermill": {
     "duration": 0.034096,
     "end_time": "2024-08-22T07:10:03.088841",
     "exception": false,
     "start_time": "2024-08-22T07:10:03.054745",
     "status": "completed"
    },
    "tags": []
   },
   "outputs": [
    {
     "name": "stdout",
     "output_type": "stream",
     "text": [
      "There is no missing value in house_data3\n"
     ]
    }
   ],
   "source": [
    "# missing values check\n",
    "if house_data3.isna().mean().sum() == 0.0 :\n",
    "    print(\"There is no missing value in house_data3\")\n",
    "else:\n",
    "    print(\"missing values still in house_data3\")"
   ]
  },
  {
   "cell_type": "markdown",
   "id": "abde3c14",
   "metadata": {
    "papermill": {
     "duration": 0.017921,
     "end_time": "2024-08-22T07:10:03.125289",
     "exception": false,
     "start_time": "2024-08-22T07:10:03.107368",
     "status": "completed"
    },
    "tags": []
   },
   "source": [
    "### note : we might also impute missing values  with random forest for example !"
   ]
  },
  {
   "cell_type": "code",
   "execution_count": 23,
   "id": "874f703b",
   "metadata": {
    "execution": {
     "iopub.execute_input": "2024-08-22T07:10:03.164013Z",
     "iopub.status.busy": "2024-08-22T07:10:03.162923Z",
     "iopub.status.idle": "2024-08-22T07:10:03.169968Z",
     "shell.execute_reply": "2024-08-22T07:10:03.168961Z"
    },
    "papermill": {
     "duration": 0.029073,
     "end_time": "2024-08-22T07:10:03.172481",
     "exception": false,
     "start_time": "2024-08-22T07:10:03.143408",
     "status": "completed"
    },
    "tags": []
   },
   "outputs": [
    {
     "name": "stdout",
     "output_type": "stream",
     "text": [
      "Removed features proportion is 0.25, though, we get rid of 25.0% of potential information or just useless features 🤔\n"
     ]
    }
   ],
   "source": [
    "prop = 1 - round(house_data3.shape[1]/house_data.shape[1],2)\n",
    "print(\"Removed features proportion is {}, though, we get rid of {}% of \\\n",
    "potential information or just useless features 🤔\".format(round(prop,2),round(prop*1e2,2))) "
   ]
  },
  {
   "cell_type": "code",
   "execution_count": 24,
   "id": "0e1dd662",
   "metadata": {
    "execution": {
     "iopub.execute_input": "2024-08-22T07:10:03.211633Z",
     "iopub.status.busy": "2024-08-22T07:10:03.211248Z",
     "iopub.status.idle": "2024-08-22T07:10:03.216584Z",
     "shell.execute_reply": "2024-08-22T07:10:03.215474Z"
    },
    "papermill": {
     "duration": 0.027674,
     "end_time": "2024-08-22T07:10:03.219149",
     "exception": false,
     "start_time": "2024-08-22T07:10:03.191475",
     "status": "completed"
    },
    "tags": []
   },
   "outputs": [],
   "source": [
    "# delete useless df\n",
    "del house_data1, house_data2"
   ]
  },
  {
   "cell_type": "code",
   "execution_count": 25,
   "id": "6902cc35",
   "metadata": {
    "execution": {
     "iopub.execute_input": "2024-08-22T07:10:03.259028Z",
     "iopub.status.busy": "2024-08-22T07:10:03.258660Z",
     "iopub.status.idle": "2024-08-22T07:10:04.045717Z",
     "shell.execute_reply": "2024-08-22T07:10:04.044558Z"
    },
    "papermill": {
     "duration": 0.81054,
     "end_time": "2024-08-22T07:10:04.048101",
     "exception": false,
     "start_time": "2024-08-22T07:10:03.237561",
     "status": "completed"
    },
    "tags": []
   },
   "outputs": [
    {
     "data": {
      "text/html": [
       "<style>#sk-container-id-1 {color: black;background-color: white;}#sk-container-id-1 pre{padding: 0;}#sk-container-id-1 div.sk-toggleable {background-color: white;}#sk-container-id-1 label.sk-toggleable__label {cursor: pointer;display: block;width: 100%;margin-bottom: 0;padding: 0.3em;box-sizing: border-box;text-align: center;}#sk-container-id-1 label.sk-toggleable__label-arrow:before {content: \"▸\";float: left;margin-right: 0.25em;color: #696969;}#sk-container-id-1 label.sk-toggleable__label-arrow:hover:before {color: black;}#sk-container-id-1 div.sk-estimator:hover label.sk-toggleable__label-arrow:before {color: black;}#sk-container-id-1 div.sk-toggleable__content {max-height: 0;max-width: 0;overflow: hidden;text-align: left;background-color: #f0f8ff;}#sk-container-id-1 div.sk-toggleable__content pre {margin: 0.2em;color: black;border-radius: 0.25em;background-color: #f0f8ff;}#sk-container-id-1 input.sk-toggleable__control:checked~div.sk-toggleable__content {max-height: 200px;max-width: 100%;overflow: auto;}#sk-container-id-1 input.sk-toggleable__control:checked~label.sk-toggleable__label-arrow:before {content: \"▾\";}#sk-container-id-1 div.sk-estimator input.sk-toggleable__control:checked~label.sk-toggleable__label {background-color: #d4ebff;}#sk-container-id-1 div.sk-label input.sk-toggleable__control:checked~label.sk-toggleable__label {background-color: #d4ebff;}#sk-container-id-1 input.sk-hidden--visually {border: 0;clip: rect(1px 1px 1px 1px);clip: rect(1px, 1px, 1px, 1px);height: 1px;margin: -1px;overflow: hidden;padding: 0;position: absolute;width: 1px;}#sk-container-id-1 div.sk-estimator {font-family: monospace;background-color: #f0f8ff;border: 1px dotted black;border-radius: 0.25em;box-sizing: border-box;margin-bottom: 0.5em;}#sk-container-id-1 div.sk-estimator:hover {background-color: #d4ebff;}#sk-container-id-1 div.sk-parallel-item::after {content: \"\";width: 100%;border-bottom: 1px solid gray;flex-grow: 1;}#sk-container-id-1 div.sk-label:hover label.sk-toggleable__label {background-color: #d4ebff;}#sk-container-id-1 div.sk-serial::before {content: \"\";position: absolute;border-left: 1px solid gray;box-sizing: border-box;top: 0;bottom: 0;left: 50%;z-index: 0;}#sk-container-id-1 div.sk-serial {display: flex;flex-direction: column;align-items: center;background-color: white;padding-right: 0.2em;padding-left: 0.2em;position: relative;}#sk-container-id-1 div.sk-item {position: relative;z-index: 1;}#sk-container-id-1 div.sk-parallel {display: flex;align-items: stretch;justify-content: center;background-color: white;position: relative;}#sk-container-id-1 div.sk-item::before, #sk-container-id-1 div.sk-parallel-item::before {content: \"\";position: absolute;border-left: 1px solid gray;box-sizing: border-box;top: 0;bottom: 0;left: 50%;z-index: -1;}#sk-container-id-1 div.sk-parallel-item {display: flex;flex-direction: column;z-index: 1;position: relative;background-color: white;}#sk-container-id-1 div.sk-parallel-item:first-child::after {align-self: flex-end;width: 50%;}#sk-container-id-1 div.sk-parallel-item:last-child::after {align-self: flex-start;width: 50%;}#sk-container-id-1 div.sk-parallel-item:only-child::after {width: 0;}#sk-container-id-1 div.sk-dashed-wrapped {border: 1px dashed gray;margin: 0 0.4em 0.5em 0.4em;box-sizing: border-box;padding-bottom: 0.4em;background-color: white;}#sk-container-id-1 div.sk-label label {font-family: monospace;font-weight: bold;display: inline-block;line-height: 1.2em;}#sk-container-id-1 div.sk-label-container {text-align: center;}#sk-container-id-1 div.sk-container {/* jupyter's `normalize.less` sets `[hidden] { display: none; }` but bootstrap.min.css set `[hidden] { display: none !important; }` so we also need the `!important` here to be able to override the default hidden behavior on the sphinx rendered scikit-learn.org. See: https://github.com/scikit-learn/scikit-learn/issues/21755 */display: inline-block !important;position: relative;}#sk-container-id-1 div.sk-text-repr-fallback {display: none;}</style><div id=\"sk-container-id-1\" class=\"sk-top-container\"><div class=\"sk-text-repr-fallback\"><pre>RandomForestRegressor(max_depth=3, random_state=0)</pre><b>In a Jupyter environment, please rerun this cell to show the HTML representation or trust the notebook. <br />On GitHub, the HTML representation is unable to render, please try loading this page with nbviewer.org.</b></div><div class=\"sk-container\" hidden><div class=\"sk-item\"><div class=\"sk-estimator sk-toggleable\"><input class=\"sk-toggleable__control sk-hidden--visually\" id=\"sk-estimator-id-1\" type=\"checkbox\" checked><label for=\"sk-estimator-id-1\" class=\"sk-toggleable__label sk-toggleable__label-arrow\">RandomForestRegressor</label><div class=\"sk-toggleable__content\"><pre>RandomForestRegressor(max_depth=3, random_state=0)</pre></div></div></div></div></div>"
      ],
      "text/plain": [
       "RandomForestRegressor(max_depth=3, random_state=0)"
      ]
     },
     "execution_count": 25,
     "metadata": {},
     "output_type": "execute_result"
    }
   ],
   "source": [
    "# features selection \n",
    "from sklearn.ensemble import RandomForestRegressor\n",
    "from sklearn.datasets import make_regression\n",
    "X = house_data3\n",
    "y = target\n",
    "X, y = make_regression(\n",
    "                       n_features=X.shape[1], \n",
    "                       n_informative=7,\n",
    "                       random_state=0,\n",
    "                       shuffle=False,)\n",
    "regr = RandomForestRegressor(max_depth=3, random_state=0)\n",
    "regr.fit(X, y)\n",
    "#print(regr.predict([[0, 0, 0, 0]]))\n"
   ]
  },
  {
   "cell_type": "code",
   "execution_count": 26,
   "id": "3ee5a66b",
   "metadata": {
    "execution": {
     "iopub.execute_input": "2024-08-22T07:10:04.087282Z",
     "iopub.status.busy": "2024-08-22T07:10:04.086402Z",
     "iopub.status.idle": "2024-08-22T07:10:04.105835Z",
     "shell.execute_reply": "2024-08-22T07:10:04.104734Z"
    },
    "papermill": {
     "duration": 0.041851,
     "end_time": "2024-08-22T07:10:04.108313",
     "exception": false,
     "start_time": "2024-08-22T07:10:04.066462",
     "status": "completed"
    },
    "tags": []
   },
   "outputs": [
    {
     "data": {
      "text/plain": [
       "MSSubClass    0.441875\n",
       "Utilities     0.212713\n",
       "LotArea       0.153708\n",
       "LotShape      0.025514\n",
       "ExterQual     0.014990\n",
       "dtype: float64"
      ]
     },
     "execution_count": 26,
     "metadata": {},
     "output_type": "execute_result"
    }
   ],
   "source": [
    "forest_importances = pd.Series(regr.feature_importances_,index = house_data3.columns)\n",
    "#fig, ax = plt.subplots()\n",
    "forest_importances.sort_values(ascending= False)[:5]"
   ]
  },
  {
   "cell_type": "code",
   "execution_count": 27,
   "id": "01f9f8c6",
   "metadata": {
    "execution": {
     "iopub.execute_input": "2024-08-22T07:10:04.147611Z",
     "iopub.status.busy": "2024-08-22T07:10:04.147223Z",
     "iopub.status.idle": "2024-08-22T07:10:04.391727Z",
     "shell.execute_reply": "2024-08-22T07:10:04.390471Z"
    },
    "papermill": {
     "duration": 0.267607,
     "end_time": "2024-08-22T07:10:04.394708",
     "exception": false,
     "start_time": "2024-08-22T07:10:04.127101",
     "status": "completed"
    },
    "tags": []
   },
   "outputs": [
    {
     "data": {
      "text/plain": [
       "<Axes: >"
      ]
     },
     "execution_count": 27,
     "metadata": {},
     "output_type": "execute_result"
    },
    {
     "data": {
      "image/png": "[encoded data removed]",
      "text/plain": [
       "<Figure size 640x480 with 1 Axes>"
      ]
     },
     "metadata": {},
     "output_type": "display_data"
    }
   ],
   "source": [
    "# plot features importance (forest importance) \n",
    "forest_importances.sort_values(ascending= False)[:6].plot.bar()"
   ]
  },
  {
   "cell_type": "code",
   "execution_count": 28,
   "id": "c86e68d4",
   "metadata": {
    "execution": {
     "iopub.execute_input": "2024-08-22T07:10:04.435661Z",
     "iopub.status.busy": "2024-08-22T07:10:04.435283Z",
     "iopub.status.idle": "2024-08-22T07:10:04.441596Z",
     "shell.execute_reply": "2024-08-22T07:10:04.440409Z"
    },
    "papermill": {
     "duration": 0.029673,
     "end_time": "2024-08-22T07:10:04.443966",
     "exception": false,
     "start_time": "2024-08-22T07:10:04.414293",
     "status": "completed"
    },
    "tags": []
   },
   "outputs": [],
   "source": [
    "features = forest_importances.sort_values(ascending= False)[:5].index.tolist()"
   ]
  },
  {
   "cell_type": "code",
   "execution_count": 29,
   "id": "f1e5b7c0",
   "metadata": {
    "execution": {
     "iopub.execute_input": "2024-08-22T07:10:04.485029Z",
     "iopub.status.busy": "2024-08-22T07:10:04.484305Z",
     "iopub.status.idle": "2024-08-22T07:10:04.489212Z",
     "shell.execute_reply": "2024-08-22T07:10:04.488122Z"
    },
    "papermill": {
     "duration": 0.028148,
     "end_time": "2024-08-22T07:10:04.491484",
     "exception": false,
     "start_time": "2024-08-22T07:10:04.463336",
     "status": "completed"
    },
    "tags": []
   },
   "outputs": [],
   "source": [
    "# add SalePrice to features\n",
    "features.append(\"SalePrice\")"
   ]
  },
  {
   "cell_type": "code",
   "execution_count": 30,
   "id": "50b19b83",
   "metadata": {
    "execution": {
     "iopub.execute_input": "2024-08-22T07:10:04.532004Z",
     "iopub.status.busy": "2024-08-22T07:10:04.531568Z",
     "iopub.status.idle": "2024-08-22T07:10:04.538392Z",
     "shell.execute_reply": "2024-08-22T07:10:04.537181Z"
    },
    "papermill": {
     "duration": 0.03035,
     "end_time": "2024-08-22T07:10:04.541122",
     "exception": false,
     "start_time": "2024-08-22T07:10:04.510772",
     "status": "completed"
    },
    "tags": []
   },
   "outputs": [],
   "source": [
    "house_data4 = house_data3[features]"
   ]
  },
  {
   "cell_type": "code",
   "execution_count": 31,
   "id": "edac2d82",
   "metadata": {
    "execution": {
     "iopub.execute_input": "2024-08-22T07:10:04.583117Z",
     "iopub.status.busy": "2024-08-22T07:10:04.582711Z",
     "iopub.status.idle": "2024-08-22T07:10:04.591112Z",
     "shell.execute_reply": "2024-08-22T07:10:04.589855Z"
    },
    "papermill": {
     "duration": 0.032883,
     "end_time": "2024-08-22T07:10:04.593550",
     "exception": false,
     "start_time": "2024-08-22T07:10:04.560667",
     "status": "completed"
    },
    "tags": []
   },
   "outputs": [
    {
     "data": {
      "text/plain": [
       "['Utilities', 'LotShape', 'ExterQual']"
      ]
     },
     "execution_count": 31,
     "metadata": {},
     "output_type": "execute_result"
    }
   ],
   "source": [
    "# categorical features \n",
    "house_data4.select_dtypes(\"object\").columns.tolist()"
   ]
  },
  {
   "cell_type": "code",
   "execution_count": 32,
   "id": "97732dc6",
   "metadata": {
    "execution": {
     "iopub.execute_input": "2024-08-22T07:10:04.634398Z",
     "iopub.status.busy": "2024-08-22T07:10:04.633937Z",
     "iopub.status.idle": "2024-08-22T07:10:04.642293Z",
     "shell.execute_reply": "2024-08-22T07:10:04.641257Z"
    },
    "papermill": {
     "duration": 0.031795,
     "end_time": "2024-08-22T07:10:04.644748",
     "exception": false,
     "start_time": "2024-08-22T07:10:04.612953",
     "status": "completed"
    },
    "tags": []
   },
   "outputs": [
    {
     "data": {
      "text/plain": [
       "['MSSubClass', 'LotArea', 'SalePrice']"
      ]
     },
     "execution_count": 32,
     "metadata": {},
     "output_type": "execute_result"
    }
   ],
   "source": [
    "# numeric features \n",
    "house_data4.select_dtypes(\"number\").columns.tolist()"
   ]
  },
  {
   "cell_type": "markdown",
   "id": "4ee41b9f",
   "metadata": {
    "papermill": {
     "duration": 0.019882,
     "end_time": "2024-08-22T07:10:04.684785",
     "exception": false,
     "start_time": "2024-08-22T07:10:04.664903",
     "status": "completed"
    },
    "tags": []
   },
   "source": [
    "## EDA "
   ]
  },
  {
   "cell_type": "code",
   "execution_count": 33,
   "id": "1428d80b",
   "metadata": {
    "execution": {
     "iopub.execute_input": "2024-08-22T07:10:04.725897Z",
     "iopub.status.busy": "2024-08-22T07:10:04.725467Z",
     "iopub.status.idle": "2024-08-22T07:10:05.004229Z",
     "shell.execute_reply": "2024-08-22T07:10:05.003105Z"
    },
    "papermill": {
     "duration": 0.302502,
     "end_time": "2024-08-22T07:10:05.007018",
     "exception": false,
     "start_time": "2024-08-22T07:10:04.704516",
     "status": "completed"
    },
    "tags": []
   },
   "outputs": [
    {
     "data": {
      "text/plain": [
       "<Axes: xlabel='MSSubClass', ylabel='SalePrice'>"
      ]
     },
     "execution_count": 33,
     "metadata": {},
     "output_type": "execute_result"
    },
    {
     "data": {
      "image/png": "[encoded data removed]",
      "text/plain": [
       "<Figure size 640x480 with 1 Axes>"
      ]
     },
     "metadata": {},
     "output_type": "display_data"
    }
   ],
   "source": [
    "# scatter plot SalePrice vs MSSubClass\n",
    "sn.scatterplot(data = house_data4,\n",
    "              x=\"MSSubClass\",\n",
    "              y=\"SalePrice\")"
   ]
  },
  {
   "cell_type": "code",
   "execution_count": 34,
   "id": "a6bd7116",
   "metadata": {
    "execution": {
     "iopub.execute_input": "2024-08-22T07:10:05.050757Z",
     "iopub.status.busy": "2024-08-22T07:10:05.050366Z",
     "iopub.status.idle": "2024-08-22T07:10:05.363567Z",
     "shell.execute_reply": "2024-08-22T07:10:05.362445Z"
    },
    "papermill": {
     "duration": 0.337744,
     "end_time": "2024-08-22T07:10:05.366136",
     "exception": false,
     "start_time": "2024-08-22T07:10:05.028392",
     "status": "completed"
    },
    "tags": []
   },
   "outputs": [
    {
     "data": {
      "text/plain": [
       "<Axes: xlabel='LotArea', ylabel='SalePrice'>"
      ]
     },
     "execution_count": 34,
     "metadata": {},
     "output_type": "execute_result"
    },
    {
     "data": {
      "image/png": "[encoded data removed]",
      "text/plain": [
       "<Figure size 640x480 with 1 Axes>"
      ]
     },
     "metadata": {},
     "output_type": "display_data"
    }
   ],
   "source": [
    "# scatter plot SalePrice vs LotArea\n",
    "sn.scatterplot(data = house_data4.select_dtypes(\"number\"),\n",
    "              x=\"LotArea\",\n",
    "              y=\"SalePrice\")"
   ]
  },
  {
   "cell_type": "code",
   "execution_count": 35,
   "id": "4f51df39",
   "metadata": {
    "execution": {
     "iopub.execute_input": "2024-08-22T07:10:05.411986Z",
     "iopub.status.busy": "2024-08-22T07:10:05.411057Z",
     "iopub.status.idle": "2024-08-22T07:10:05.613896Z",
     "shell.execute_reply": "2024-08-22T07:10:05.612723Z"
    },
    "papermill": {
     "duration": 0.228037,
     "end_time": "2024-08-22T07:10:05.616544",
     "exception": false,
     "start_time": "2024-08-22T07:10:05.388507",
     "status": "completed"
    },
    "tags": []
   },
   "outputs": [
    {
     "data": {
      "text/plain": [
       "<Axes: xlabel='Utilities', ylabel='SalePrice'>"
      ]
     },
     "execution_count": 35,
     "metadata": {},
     "output_type": "execute_result"
    },
    {
     "data": {
      "image/png": "[encoded data removed]",
      "text/plain": [
       "<Figure size 640x480 with 1 Axes>"
      ]
     },
     "metadata": {},
     "output_type": "display_data"
    }
   ],
   "source": [
    "# boxplot SalePrice vs Utilities\n",
    "sn.boxplot(data = house_data4,\n",
    "              x=\"Utilities\",\n",
    "              y=\"SalePrice\")"
   ]
  },
  {
   "cell_type": "code",
   "execution_count": 36,
   "id": "b60f35bc",
   "metadata": {
    "execution": {
     "iopub.execute_input": "2024-08-22T07:10:05.663001Z",
     "iopub.status.busy": "2024-08-22T07:10:05.662607Z",
     "iopub.status.idle": "2024-08-22T07:10:05.965340Z",
     "shell.execute_reply": "2024-08-22T07:10:05.964341Z"
    },
    "papermill": {
     "duration": 0.329234,
     "end_time": "2024-08-22T07:10:05.967937",
     "exception": false,
     "start_time": "2024-08-22T07:10:05.638703",
     "status": "completed"
    },
    "tags": []
   },
   "outputs": [
    {
     "data": {
      "text/plain": [
       "<Axes: xlabel='LotShape', ylabel='SalePrice'>"
      ]
     },
     "execution_count": 36,
     "metadata": {},
     "output_type": "execute_result"
    },
    {
     "data": {
      "image/png": "[encoded data removed]",
      "text/plain": [
       "<Figure size 640x480 with 1 Axes>"
      ]
     },
     "metadata": {},
     "output_type": "display_data"
    }
   ],
   "source": [
    "# boxplot SalePrice vs LotShape\n",
    "sn.boxplot(data = house_data4,\n",
    "              x=\"LotShape\",\n",
    "              y=\"SalePrice\")"
   ]
  },
  {
   "cell_type": "code",
   "execution_count": 37,
   "id": "ad7dfc3d",
   "metadata": {
    "execution": {
     "iopub.execute_input": "2024-08-22T07:10:06.015718Z",
     "iopub.status.busy": "2024-08-22T07:10:06.015343Z",
     "iopub.status.idle": "2024-08-22T07:10:06.253543Z",
     "shell.execute_reply": "2024-08-22T07:10:06.252521Z"
    },
    "papermill": {
     "duration": 0.26532,
     "end_time": "2024-08-22T07:10:06.256205",
     "exception": false,
     "start_time": "2024-08-22T07:10:05.990885",
     "status": "completed"
    },
    "tags": []
   },
   "outputs": [
    {
     "data": {
      "text/plain": [
       "<Axes: xlabel='ExterQual', ylabel='SalePrice'>"
      ]
     },
     "execution_count": 37,
     "metadata": {},
     "output_type": "execute_result"
    },
    {
     "data": {
      "image/png": "[encoded data removed]",
      "text/plain": [
       "<Figure size 640x480 with 1 Axes>"
      ]
     },
     "metadata": {},
     "output_type": "display_data"
    }
   ],
   "source": [
    "# boxplot SalePrice vs ExterQual\n",
    "sn.boxplot(data = house_data4,\n",
    "              x=\"ExterQual\",\n",
    "              y=\"SalePrice\")"
   ]
  },
  {
   "cell_type": "markdown",
   "id": "67a57ab0",
   "metadata": {
    "papermill": {
     "duration": 0.02388,
     "end_time": "2024-08-22T07:10:06.305560",
     "exception": false,
     "start_time": "2024-08-22T07:10:06.281680",
     "status": "completed"
    },
    "tags": []
   },
   "source": [
    "To be continued 😉..."
   ]
  }
 ],
 "metadata": {
  "kaggle": {
   "accelerator": "none",
   "dataSources": [
    {
     "databundleVersionId": 868283,
     "sourceId": 5407,
     "sourceType": "competition"
    }
   ],
   "dockerImageVersionId": 30746,
   "isGpuEnabled": false,
   "isInternetEnabled": false,
   "language": "python",
   "sourceType": "notebook"
  },
  "kernelspec": {
   "display_name": "Python 3",
   "language": "python",
   "name": "python3"
  },
  "language_info": {
   "codemirror_mode": {
    "name": "ipython",
    "version": 3
   },
   "file_extension": ".py",
   "mimetype": "text/x-python",
   "name": "python",
   "nbconvert_exporter": "python",
   "pygments_lexer": "ipython3",
   "version": "3.10.13"
  },
  "papermill": {
   "default_parameters": {},
   "duration": 11.98076,
   "end_time": "2024-08-22T07:10:07.051388",
   "environment_variables": {},
   "exception": null,
   "input_path": "__notebook__.ipynb",
   "output_path": "__notebook__.ipynb",
   "parameters": {},
   "start_time": "2024-08-22T07:09:55.070628",
   "version": "2.5.0"
  }
 },
 "nbformat": 4,
 "nbformat_minor": 5
}
