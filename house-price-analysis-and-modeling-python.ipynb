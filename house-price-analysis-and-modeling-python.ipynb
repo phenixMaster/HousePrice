{
 "cells": [
  {
   "cell_type": "code",
   "execution_count": 1,
   "id": "2b24d520",
   "metadata": {
    "_cell_guid": "b1076dfc-b9ad-4769-8c92-a6c4dae69d19",
    "_uuid": "8f2839f25d086af736a60e9eeb907d3b93b6e0e5",
    "execution": {
     "iopub.execute_input": "2024-08-16T19:21:32.087707Z",
     "iopub.status.busy": "2024-08-16T19:21:32.086990Z",
     "iopub.status.idle": "2024-08-16T19:21:34.133212Z",
     "shell.execute_reply": "2024-08-16T19:21:34.132457Z"
    },
    "papermill": {
     "duration": 2.059122,
     "end_time": "2024-08-16T19:21:34.135781",
     "exception": false,
     "start_time": "2024-08-16T19:21:32.076659",
     "status": "completed"
    },
    "tags": []
   },
   "outputs": [],
   "source": [
    "import numpy as np # linear algebra\n",
    "import pandas as pd # data processing, CSV file I/O (e.g. pd.read_csv)\n",
    "import sklearn as skl\n",
    "import matplotlib as mp\n",
    "import seaborn as sn\n",
    "\n",
    "\n",
    "\n",
    "import os\n",
    "#for dirname, _, filenames in os.walk('/kaggle/input'):\n",
    "    #for filename in filenames:\n",
    "        #print(os.path.join(dirname, filename))\n",
    "\n",
    "# You can write up to 20GB to the current directory (/kaggle/working/) that gets preserved as output when you create a version using \"Save & Run All\" \n",
    "# You can also write temporary files to /kaggle/temp/, but they won't be saved outside of the current session"
   ]
  },
  {
   "cell_type": "markdown",
   "id": "1c5f2c03",
   "metadata": {
    "papermill": {
     "duration": 0.007382,
     "end_time": "2024-08-16T19:21:34.151082",
     "exception": false,
     "start_time": "2024-08-16T19:21:34.143700",
     "status": "completed"
    },
    "tags": []
   },
   "source": [
    "## load data and data inpection"
   ]
  },
  {
   "cell_type": "code",
   "execution_count": 2,
   "id": "f6a23e61",
   "metadata": {
    "execution": {
     "iopub.execute_input": "2024-08-16T19:21:34.167877Z",
     "iopub.status.busy": "2024-08-16T19:21:34.167391Z",
     "iopub.status.idle": "2024-08-16T19:21:34.209314Z",
     "shell.execute_reply": "2024-08-16T19:21:34.208211Z"
    },
    "papermill": {
     "duration": 0.053162,
     "end_time": "2024-08-16T19:21:34.211614",
     "exception": false,
     "start_time": "2024-08-16T19:21:34.158452",
     "status": "completed"
    },
    "tags": []
   },
   "outputs": [],
   "source": [
    "# load data\n",
    "house_data = pd.read_csv(\"/kaggle/input/house-prices-advanced-regression-techniques/train.csv\")"
   ]
  },
  {
   "cell_type": "code",
   "execution_count": 3,
   "id": "bfeb22e9",
   "metadata": {
    "execution": {
     "iopub.execute_input": "2024-08-16T19:21:34.228683Z",
     "iopub.status.busy": "2024-08-16T19:21:34.227899Z",
     "iopub.status.idle": "2024-08-16T19:21:34.234429Z",
     "shell.execute_reply": "2024-08-16T19:21:34.233549Z"
    },
    "papermill": {
     "duration": 0.017097,
     "end_time": "2024-08-16T19:21:34.236551",
     "exception": false,
     "start_time": "2024-08-16T19:21:34.219454",
     "status": "completed"
    },
    "tags": []
   },
   "outputs": [
    {
     "data": {
      "text/plain": [
       "(1460, 81)"
      ]
     },
     "execution_count": 3,
     "metadata": {},
     "output_type": "execute_result"
    }
   ],
   "source": [
    "#data inspection\n",
    "house_data.shape"
   ]
  },
  {
   "cell_type": "markdown",
   "id": "bcce33e4",
   "metadata": {
    "papermill": {
     "duration": 0.007242,
     "end_time": "2024-08-16T19:21:34.251503",
     "exception": false,
     "start_time": "2024-08-16T19:21:34.244261",
     "status": "completed"
    },
    "tags": []
   },
   "source": [
    "There are 1460 rows and 81 columns "
   ]
  },
  {
   "cell_type": "code",
   "execution_count": 4,
   "id": "6c488484",
   "metadata": {
    "execution": {
     "iopub.execute_input": "2024-08-16T19:21:34.269064Z",
     "iopub.status.busy": "2024-08-16T19:21:34.268210Z",
     "iopub.status.idle": "2024-08-16T19:21:34.298333Z",
     "shell.execute_reply": "2024-08-16T19:21:34.297346Z"
    },
    "papermill": {
     "duration": 0.041089,
     "end_time": "2024-08-16T19:21:34.300385",
     "exception": false,
     "start_time": "2024-08-16T19:21:34.259296",
     "status": "completed"
    },
    "tags": []
   },
   "outputs": [
    {
     "data": {
      "text/plain": [
       "True"
      ]
     },
     "execution_count": 4,
     "metadata": {},
     "output_type": "execute_result"
    }
   ],
   "source": [
    "# drop duplicates\n",
    "house_data.drop_duplicates().shape[0] == house_data.shape[0]"
   ]
  },
  {
   "cell_type": "markdown",
   "id": "9cfc9834",
   "metadata": {
    "papermill": {
     "duration": 0.007654,
     "end_time": "2024-08-16T19:21:34.315988",
     "exception": false,
     "start_time": "2024-08-16T19:21:34.308334",
     "status": "completed"
    },
    "tags": []
   },
   "source": [
    "There is no duplicated rows in data"
   ]
  },
  {
   "cell_type": "code",
   "execution_count": 5,
   "id": "4e0177b7",
   "metadata": {
    "execution": {
     "iopub.execute_input": "2024-08-16T19:21:34.332723Z",
     "iopub.status.busy": "2024-08-16T19:21:34.332430Z",
     "iopub.status.idle": "2024-08-16T19:21:34.345480Z",
     "shell.execute_reply": "2024-08-16T19:21:34.344554Z"
    },
    "papermill": {
     "duration": 0.023527,
     "end_time": "2024-08-16T19:21:34.347527",
     "exception": false,
     "start_time": "2024-08-16T19:21:34.324000",
     "status": "completed"
    },
    "tags": []
   },
   "outputs": [
    {
     "data": {
      "text/plain": [
       "True"
      ]
     },
     "execution_count": 5,
     "metadata": {},
     "output_type": "execute_result"
    }
   ],
   "source": [
    "# create target feature\n",
    "target = house_data.SalePrice\n",
    "\n",
    "# remove id and target columns\n",
    "\n",
    "house_data1 = house_data.drop(columns=['Id'],axis = 1)\n",
    "\n",
    "# check\n",
    "house_data1.shape[1]==house_data.shape[1]-1 and\\\n",
    "not ['Id'] in house_data1.columns.tolist()"
   ]
  },
  {
   "cell_type": "markdown",
   "id": "1316b294",
   "metadata": {
    "papermill": {
     "duration": 0.007732,
     "end_time": "2024-08-16T19:21:34.363213",
     "exception": false,
     "start_time": "2024-08-16T19:21:34.355481",
     "status": "completed"
    },
    "tags": []
   },
   "source": [
    "### drop Id ans SalePrice from features dataframe"
   ]
  },
  {
   "cell_type": "code",
   "execution_count": 6,
   "id": "17aa82ef",
   "metadata": {
    "execution": {
     "iopub.execute_input": "2024-08-16T19:21:34.380779Z",
     "iopub.status.busy": "2024-08-16T19:21:34.380018Z",
     "iopub.status.idle": "2024-08-16T19:21:34.717359Z",
     "shell.execute_reply": "2024-08-16T19:21:34.716416Z"
    },
    "papermill": {
     "duration": 0.348398,
     "end_time": "2024-08-16T19:21:34.719528",
     "exception": false,
     "start_time": "2024-08-16T19:21:34.371130",
     "status": "completed"
    },
    "tags": []
   },
   "outputs": [
    {
     "name": "stderr",
     "output_type": "stream",
     "text": [
      "/opt/conda/lib/python3.10/site-packages/seaborn/_oldcore.py:1119: FutureWarning: use_inf_as_na option is deprecated and will be removed in a future version. Convert inf values to NaN before operating instead.\n",
      "  with pd.option_context('mode.use_inf_as_na', True):\n"
     ]
    },
    {
     "data": {
      "text/plain": [
       "<Axes: xlabel='SalePrice', ylabel='Count'>"
      ]
     },
     "execution_count": 6,
     "metadata": {},
     "output_type": "execute_result"
    },
    {
     "data": {
      "image/png": "[encoded data removed]",
      "text/plain": [
       "<Figure size 640x480 with 1 Axes>"
      ]
     },
     "metadata": {},
     "output_type": "display_data"
    }
   ],
   "source": [
    "# plot target \n",
    "sn.histplot(target)"
   ]
  },
  {
   "cell_type": "code",
   "execution_count": 7,
   "id": "781823f7",
   "metadata": {
    "execution": {
     "iopub.execute_input": "2024-08-16T19:21:34.737853Z",
     "iopub.status.busy": "2024-08-16T19:21:34.737519Z",
     "iopub.status.idle": "2024-08-16T19:21:34.744487Z",
     "shell.execute_reply": "2024-08-16T19:21:34.743575Z"
    },
    "papermill": {
     "duration": 0.018261,
     "end_time": "2024-08-16T19:21:34.746417",
     "exception": false,
     "start_time": "2024-08-16T19:21:34.728156",
     "status": "completed"
    },
    "tags": []
   },
   "outputs": [
    {
     "name": "stdout",
     "output_type": "stream",
     "text": [
      "There are 37 features in house_data1\n"
     ]
    }
   ],
   "source": [
    "# select numeric columns\n",
    "num_data = house_data1[house_data1.select_dtypes(include='number').columns]\n",
    "print(f\"There are {num_data.shape[1]} features in house_data1\")"
   ]
  },
  {
   "cell_type": "code",
   "execution_count": 8,
   "id": "2cc8369e",
   "metadata": {
    "execution": {
     "iopub.execute_input": "2024-08-16T19:21:34.765439Z",
     "iopub.status.busy": "2024-08-16T19:21:34.764704Z",
     "iopub.status.idle": "2024-08-16T19:21:34.771487Z",
     "shell.execute_reply": "2024-08-16T19:21:34.770607Z"
    },
    "papermill": {
     "duration": 0.018759,
     "end_time": "2024-08-16T19:21:34.773378",
     "exception": false,
     "start_time": "2024-08-16T19:21:34.754619",
     "status": "completed"
    },
    "tags": []
   },
   "outputs": [
    {
     "name": "stdout",
     "output_type": "stream",
     "text": [
      "There are 43 categorical features in cat_data\n"
     ]
    }
   ],
   "source": [
    "#categorical columns \n",
    "cat_data = house_data1[house_data1.select_dtypes('object').columns]\n",
    "print(f\"There are {cat_data.shape[1]} categorical features in cat_data\")"
   ]
  },
  {
   "cell_type": "markdown",
   "id": "1c2a8483",
   "metadata": {
    "papermill": {
     "duration": 0.008112,
     "end_time": "2024-08-16T19:21:34.790122",
     "exception": false,
     "start_time": "2024-08-16T19:21:34.782010",
     "status": "completed"
    },
    "tags": []
   },
   "source": [
    "### missing values "
   ]
  },
  {
   "cell_type": "code",
   "execution_count": 9,
   "id": "0f09e892",
   "metadata": {
    "execution": {
     "iopub.execute_input": "2024-08-16T19:21:34.808766Z",
     "iopub.status.busy": "2024-08-16T19:21:34.808446Z",
     "iopub.status.idle": "2024-08-16T19:21:34.826452Z",
     "shell.execute_reply": "2024-08-16T19:21:34.825547Z"
    },
    "papermill": {
     "duration": 0.029752,
     "end_time": "2024-08-16T19:21:34.828540",
     "exception": false,
     "start_time": "2024-08-16T19:21:34.798788",
     "status": "completed"
    },
    "tags": []
   },
   "outputs": [
    {
     "data": {
      "text/plain": [
       "Alley           0.937671\n",
       "MasVnrType      0.597260\n",
       "BsmtQual        0.025342\n",
       "BsmtCond        0.025342\n",
       "BsmtExposure    0.026027\n",
       "BsmtFinType1    0.025342\n",
       "BsmtFinType2    0.026027\n",
       "Electrical      0.000685\n",
       "FireplaceQu     0.472603\n",
       "GarageType      0.055479\n",
       "GarageFinish    0.055479\n",
       "GarageQual      0.055479\n",
       "GarageCond      0.055479\n",
       "PoolQC          0.995205\n",
       "Fence           0.807534\n",
       "MiscFeature     0.963014\n",
       "dtype: float64"
      ]
     },
     "execution_count": 9,
     "metadata": {},
     "output_type": "execute_result"
    }
   ],
   "source": [
    "# categorical features\n",
    "na_catCols = cat_data.columns[cat_data.isna().mean() !=0].tolist()\n",
    "cat_data[na_catCols].isna().mean()"
   ]
  },
  {
   "cell_type": "code",
   "execution_count": 10,
   "id": "57b12959",
   "metadata": {
    "execution": {
     "iopub.execute_input": "2024-08-16T19:21:34.847048Z",
     "iopub.status.busy": "2024-08-16T19:21:34.846270Z",
     "iopub.status.idle": "2024-08-16T19:21:34.861999Z",
     "shell.execute_reply": "2024-08-16T19:21:34.861113Z"
    },
    "papermill": {
     "duration": 0.027257,
     "end_time": "2024-08-16T19:21:34.864060",
     "exception": false,
     "start_time": "2024-08-16T19:21:34.836803",
     "status": "completed"
    },
    "tags": []
   },
   "outputs": [
    {
     "data": {
      "text/plain": [
       "Alley          0.937671\n",
       "MasVnrType     0.597260\n",
       "FireplaceQu    0.472603\n",
       "PoolQC         0.995205\n",
       "Fence          0.807534\n",
       "MiscFeature    0.963014\n",
       "dtype: float64"
      ]
     },
     "execution_count": 10,
     "metadata": {},
     "output_type": "execute_result"
    }
   ],
   "source": [
    "na_catCols = cat_data.columns[cat_data.isna().mean() >= 0.3].tolist()\n",
    "cat_data[na_catCols].isna().mean()"
   ]
  },
  {
   "cell_type": "markdown",
   "id": "072065c5",
   "metadata": {
    "papermill": {
     "duration": 0.008529,
     "end_time": "2024-08-16T19:21:34.881421",
     "exception": false,
     "start_time": "2024-08-16T19:21:34.872892",
     "status": "completed"
    },
    "tags": []
   },
   "source": [
    "These features have NA's proportion above 0.3. How to deal with that ?"
   ]
  },
  {
   "cell_type": "code",
   "execution_count": 11,
   "id": "35c2eff5",
   "metadata": {
    "execution": {
     "iopub.execute_input": "2024-08-16T19:21:34.899782Z",
     "iopub.status.busy": "2024-08-16T19:21:34.899492Z",
     "iopub.status.idle": "2024-08-16T19:21:34.908203Z",
     "shell.execute_reply": "2024-08-16T19:21:34.907363Z"
    },
    "papermill": {
     "duration": 0.020112,
     "end_time": "2024-08-16T19:21:34.910128",
     "exception": false,
     "start_time": "2024-08-16T19:21:34.890016",
     "status": "completed"
    },
    "tags": []
   },
   "outputs": [
    {
     "data": {
      "text/plain": [
       "Series([], dtype: float64)"
      ]
     },
     "execution_count": 11,
     "metadata": {},
     "output_type": "execute_result"
    }
   ],
   "source": [
    "# numerical features with na or missing values prop >=0.3\n",
    "na_numCols = num_data.columns[num_data.isnull().mean()>=0.3].tolist()\n",
    "num_data[na_numCols].isna().mean()"
   ]
  },
  {
   "cell_type": "markdown",
   "id": "21966820",
   "metadata": {
    "papermill": {
     "duration": 0.008727,
     "end_time": "2024-08-16T19:21:34.927793",
     "exception": false,
     "start_time": "2024-08-16T19:21:34.919066",
     "status": "completed"
    },
    "tags": []
   },
   "source": [
    "These 3 columns has NAs. How to deal with that?"
   ]
  },
  {
   "cell_type": "code",
   "execution_count": 12,
   "id": "b074f9dc",
   "metadata": {
    "execution": {
     "iopub.execute_input": "2024-08-16T19:21:34.948087Z",
     "iopub.status.busy": "2024-08-16T19:21:34.947516Z",
     "iopub.status.idle": "2024-08-16T19:21:34.953691Z",
     "shell.execute_reply": "2024-08-16T19:21:34.952790Z"
    },
    "papermill": {
     "duration": 0.01913,
     "end_time": "2024-08-16T19:21:34.956104",
     "exception": false,
     "start_time": "2024-08-16T19:21:34.936974",
     "status": "completed"
    },
    "tags": []
   },
   "outputs": [
    {
     "name": "stdout",
     "output_type": "stream",
     "text": [
      "house_data2 has shape (1460, 74)\n"
     ]
    }
   ],
   "source": [
    "# drop columns with na prop > 0.2\n",
    "house_data2 = house_data1.drop(na_catCols,axis=1)\n",
    "print(f\"house_data2 has shape {house_data2.shape}\")"
   ]
  },
  {
   "cell_type": "code",
   "execution_count": 13,
   "id": "05144e6d",
   "metadata": {
    "execution": {
     "iopub.execute_input": "2024-08-16T19:21:34.976959Z",
     "iopub.status.busy": "2024-08-16T19:21:34.976195Z",
     "iopub.status.idle": "2024-08-16T19:21:34.988537Z",
     "shell.execute_reply": "2024-08-16T19:21:34.987450Z"
    },
    "papermill": {
     "duration": 0.024646,
     "end_time": "2024-08-16T19:21:34.990509",
     "exception": false,
     "start_time": "2024-08-16T19:21:34.965863",
     "status": "completed"
    },
    "tags": []
   },
   "outputs": [
    {
     "name": "stdout",
     "output_type": "stream",
     "text": [
      "house_data3 shape :(1094, 74)\n"
     ]
    }
   ],
   "source": [
    "#drop lines with Nas \n",
    "house_data3 = house_data2.dropna()\n",
    "print(f\"house_data3 shape :{house_data3.shape}\")"
   ]
  },
  {
   "cell_type": "code",
   "execution_count": 14,
   "id": "211ed415",
   "metadata": {
    "execution": {
     "iopub.execute_input": "2024-08-16T19:21:35.010218Z",
     "iopub.status.busy": "2024-08-16T19:21:35.009722Z",
     "iopub.status.idle": "2024-08-16T19:21:35.020341Z",
     "shell.execute_reply": "2024-08-16T19:21:35.019262Z"
    },
    "papermill": {
     "duration": 0.022829,
     "end_time": "2024-08-16T19:21:35.022468",
     "exception": false,
     "start_time": "2024-08-16T19:21:34.999639",
     "status": "completed"
    },
    "tags": []
   },
   "outputs": [
    {
     "name": "stdout",
     "output_type": "stream",
     "text": [
      "There is no missing value in house_data3\n"
     ]
    }
   ],
   "source": [
    "# missing values check\n",
    "if house_data3.isna().mean().sum() == 0.0 :\n",
    "    print(\"There is no missing value in house_data3\")\n",
    "else:\n",
    "    print(\"missing values still in house_data3\")"
   ]
  },
  {
   "cell_type": "markdown",
   "id": "0efdcae1",
   "metadata": {
    "papermill": {
     "duration": 0.008748,
     "end_time": "2024-08-16T19:21:35.040334",
     "exception": false,
     "start_time": "2024-08-16T19:21:35.031586",
     "status": "completed"
    },
    "tags": []
   },
   "source": [
    "### note : we might also impute missing values !"
   ]
  },
  {
   "cell_type": "code",
   "execution_count": 15,
   "id": "8abd4c3c",
   "metadata": {
    "execution": {
     "iopub.execute_input": "2024-08-16T19:21:35.059706Z",
     "iopub.status.busy": "2024-08-16T19:21:35.059401Z",
     "iopub.status.idle": "2024-08-16T19:21:35.064549Z",
     "shell.execute_reply": "2024-08-16T19:21:35.063558Z"
    },
    "papermill": {
     "duration": 0.017126,
     "end_time": "2024-08-16T19:21:35.066637",
     "exception": false,
     "start_time": "2024-08-16T19:21:35.049511",
     "status": "completed"
    },
    "tags": []
   },
   "outputs": [
    {
     "name": "stdout",
     "output_type": "stream",
     "text": [
      "Removed rows proportion is 0.25, though, we get rid of 25% of potential information 🤔\n"
     ]
    }
   ],
   "source": [
    "print(f\"Removed rows proportion is {1 - round(1094/1460,2)}, though, we get rid of 25% of \\\n",
    "potential information 🤔\") "
   ]
  },
  {
   "cell_type": "code",
   "execution_count": 16,
   "id": "4c2d6fa1",
   "metadata": {
    "execution": {
     "iopub.execute_input": "2024-08-16T19:21:35.087300Z",
     "iopub.status.busy": "2024-08-16T19:21:35.087000Z",
     "iopub.status.idle": "2024-08-16T19:21:35.091711Z",
     "shell.execute_reply": "2024-08-16T19:21:35.090787Z"
    },
    "papermill": {
     "duration": 0.017566,
     "end_time": "2024-08-16T19:21:35.093929",
     "exception": false,
     "start_time": "2024-08-16T19:21:35.076363",
     "status": "completed"
    },
    "tags": []
   },
   "outputs": [],
   "source": [
    "# delete useless df\n",
    "del house_data ,house_data1, house_data2"
   ]
  },
  {
   "cell_type": "code",
   "execution_count": 17,
   "id": "22b28b75",
   "metadata": {
    "execution": {
     "iopub.execute_input": "2024-08-16T19:21:35.113585Z",
     "iopub.status.busy": "2024-08-16T19:21:35.113095Z",
     "iopub.status.idle": "2024-08-16T19:21:35.729235Z",
     "shell.execute_reply": "2024-08-16T19:21:35.728176Z"
    },
    "papermill": {
     "duration": 0.628273,
     "end_time": "2024-08-16T19:21:35.731531",
     "exception": false,
     "start_time": "2024-08-16T19:21:35.103258",
     "status": "completed"
    },
    "tags": []
   },
   "outputs": [
    {
     "data": {
      "text/html": [
       "<style>#sk-container-id-1 {color: black;background-color: white;}#sk-container-id-1 pre{padding: 0;}#sk-container-id-1 div.sk-toggleable {background-color: white;}#sk-container-id-1 label.sk-toggleable__label {cursor: pointer;display: block;width: 100%;margin-bottom: 0;padding: 0.3em;box-sizing: border-box;text-align: center;}#sk-container-id-1 label.sk-toggleable__label-arrow:before {content: \"▸\";float: left;margin-right: 0.25em;color: #696969;}#sk-container-id-1 label.sk-toggleable__label-arrow:hover:before {color: black;}#sk-container-id-1 div.sk-estimator:hover label.sk-toggleable__label-arrow:before {color: black;}#sk-container-id-1 div.sk-toggleable__content {max-height: 0;max-width: 0;overflow: hidden;text-align: left;background-color: #f0f8ff;}#sk-container-id-1 div.sk-toggleable__content pre {margin: 0.2em;color: black;border-radius: 0.25em;background-color: #f0f8ff;}#sk-container-id-1 input.sk-toggleable__control:checked~div.sk-toggleable__content {max-height: 200px;max-width: 100%;overflow: auto;}#sk-container-id-1 input.sk-toggleable__control:checked~label.sk-toggleable__label-arrow:before {content: \"▾\";}#sk-container-id-1 div.sk-estimator input.sk-toggleable__control:checked~label.sk-toggleable__label {background-color: #d4ebff;}#sk-container-id-1 div.sk-label input.sk-toggleable__control:checked~label.sk-toggleable__label {background-color: #d4ebff;}#sk-container-id-1 input.sk-hidden--visually {border: 0;clip: rect(1px 1px 1px 1px);clip: rect(1px, 1px, 1px, 1px);height: 1px;margin: -1px;overflow: hidden;padding: 0;position: absolute;width: 1px;}#sk-container-id-1 div.sk-estimator {font-family: monospace;background-color: #f0f8ff;border: 1px dotted black;border-radius: 0.25em;box-sizing: border-box;margin-bottom: 0.5em;}#sk-container-id-1 div.sk-estimator:hover {background-color: #d4ebff;}#sk-container-id-1 div.sk-parallel-item::after {content: \"\";width: 100%;border-bottom: 1px solid gray;flex-grow: 1;}#sk-container-id-1 div.sk-label:hover label.sk-toggleable__label {background-color: #d4ebff;}#sk-container-id-1 div.sk-serial::before {content: \"\";position: absolute;border-left: 1px solid gray;box-sizing: border-box;top: 0;bottom: 0;left: 50%;z-index: 0;}#sk-container-id-1 div.sk-serial {display: flex;flex-direction: column;align-items: center;background-color: white;padding-right: 0.2em;padding-left: 0.2em;position: relative;}#sk-container-id-1 div.sk-item {position: relative;z-index: 1;}#sk-container-id-1 div.sk-parallel {display: flex;align-items: stretch;justify-content: center;background-color: white;position: relative;}#sk-container-id-1 div.sk-item::before, #sk-container-id-1 div.sk-parallel-item::before {content: \"\";position: absolute;border-left: 1px solid gray;box-sizing: border-box;top: 0;bottom: 0;left: 50%;z-index: -1;}#sk-container-id-1 div.sk-parallel-item {display: flex;flex-direction: column;z-index: 1;position: relative;background-color: white;}#sk-container-id-1 div.sk-parallel-item:first-child::after {align-self: flex-end;width: 50%;}#sk-container-id-1 div.sk-parallel-item:last-child::after {align-self: flex-start;width: 50%;}#sk-container-id-1 div.sk-parallel-item:only-child::after {width: 0;}#sk-container-id-1 div.sk-dashed-wrapped {border: 1px dashed gray;margin: 0 0.4em 0.5em 0.4em;box-sizing: border-box;padding-bottom: 0.4em;background-color: white;}#sk-container-id-1 div.sk-label label {font-family: monospace;font-weight: bold;display: inline-block;line-height: 1.2em;}#sk-container-id-1 div.sk-label-container {text-align: center;}#sk-container-id-1 div.sk-container {/* jupyter's `normalize.less` sets `[hidden] { display: none; }` but bootstrap.min.css set `[hidden] { display: none !important; }` so we also need the `!important` here to be able to override the default hidden behavior on the sphinx rendered scikit-learn.org. See: https://github.com/scikit-learn/scikit-learn/issues/21755 */display: inline-block !important;position: relative;}#sk-container-id-1 div.sk-text-repr-fallback {display: none;}</style><div id=\"sk-container-id-1\" class=\"sk-top-container\"><div class=\"sk-text-repr-fallback\"><pre>RandomForestRegressor(max_depth=2, random_state=0)</pre><b>In a Jupyter environment, please rerun this cell to show the HTML representation or trust the notebook. <br />On GitHub, the HTML representation is unable to render, please try loading this page with nbviewer.org.</b></div><div class=\"sk-container\" hidden><div class=\"sk-item\"><div class=\"sk-estimator sk-toggleable\"><input class=\"sk-toggleable__control sk-hidden--visually\" id=\"sk-estimator-id-1\" type=\"checkbox\" checked><label for=\"sk-estimator-id-1\" class=\"sk-toggleable__label sk-toggleable__label-arrow\">RandomForestRegressor</label><div class=\"sk-toggleable__content\"><pre>RandomForestRegressor(max_depth=2, random_state=0)</pre></div></div></div></div></div>"
      ],
      "text/plain": [
       "RandomForestRegressor(max_depth=2, random_state=0)"
      ]
     },
     "execution_count": 17,
     "metadata": {},
     "output_type": "execute_result"
    }
   ],
   "source": [
    "# features selection \n",
    "from sklearn.ensemble import RandomForestRegressor\n",
    "from sklearn.datasets import make_regression\n",
    "X = house_data3\n",
    "y = target\n",
    "X, y = make_regression(n_features=74, \n",
    "                       n_informative=7,\n",
    "                       random_state=0,\n",
    "                       shuffle=False)\n",
    "regr = RandomForestRegressor(max_depth=2, random_state=0)\n",
    "regr.fit(X, y)\n",
    "#print(regr.predict([[0, 0, 0, 0]]))\n"
   ]
  },
  {
   "cell_type": "code",
   "execution_count": 18,
   "id": "6cebc86e",
   "metadata": {
    "execution": {
     "iopub.execute_input": "2024-08-16T19:21:35.753015Z",
     "iopub.status.busy": "2024-08-16T19:21:35.752689Z",
     "iopub.status.idle": "2024-08-16T19:21:35.768200Z",
     "shell.execute_reply": "2024-08-16T19:21:35.767262Z"
    },
    "papermill": {
     "duration": 0.028805,
     "end_time": "2024-08-16T19:21:35.770503",
     "exception": false,
     "start_time": "2024-08-16T19:21:35.741698",
     "status": "completed"
    },
    "tags": []
   },
   "outputs": [
    {
     "data": {
      "text/plain": [
       "MSSubClass    0.464924\n",
       "MSZoning      0.172385\n",
       "LotShape      0.109984\n",
       "Street        0.089275\n",
       "LandSlope     0.033930\n",
       "BsmtCond      0.016944\n",
       "dtype: float64"
      ]
     },
     "execution_count": 18,
     "metadata": {},
     "output_type": "execute_result"
    }
   ],
   "source": [
    "forest_importances = pd.Series(regr.feature_importances_,index = house_data3.columns)\n",
    "#fig, ax = plt.subplots()\n",
    "forest_importances.sort_values(ascending= False)[:6]"
   ]
  },
  {
   "cell_type": "code",
   "execution_count": 19,
   "id": "3c58eedf",
   "metadata": {
    "execution": {
     "iopub.execute_input": "2024-08-16T19:21:35.791438Z",
     "iopub.status.busy": "2024-08-16T19:21:35.791125Z",
     "iopub.status.idle": "2024-08-16T19:21:36.038869Z",
     "shell.execute_reply": "2024-08-16T19:21:36.037761Z"
    },
    "papermill": {
     "duration": 0.260772,
     "end_time": "2024-08-16T19:21:36.041134",
     "exception": false,
     "start_time": "2024-08-16T19:21:35.780362",
     "status": "completed"
    },
    "tags": []
   },
   "outputs": [
    {
     "data": {
      "text/plain": [
       "<Axes: >"
      ]
     },
     "execution_count": 19,
     "metadata": {},
     "output_type": "execute_result"
    },
    {
     "data": {
      "image/png": "[encoded data removed]",
      "text/plain": [
       "<Figure size 640x480 with 1 Axes>"
      ]
     },
     "metadata": {},
     "output_type": "display_data"
    }
   ],
   "source": [
    "forest_importances.sort_values(ascending= False)[:6].plot.bar()\n",
    "#ax.set_title(\"Feature importances using MDI\")\n",
    "#ax.set_ylabel(\"Mean decrease in impurity\")\n",
    "#fig.tight_layout()"
   ]
  },
  {
   "cell_type": "markdown",
   "id": "3073715d",
   "metadata": {
    "papermill": {
     "duration": 0.010403,
     "end_time": "2024-08-16T19:21:36.062288",
     "exception": false,
     "start_time": "2024-08-16T19:21:36.051885",
     "status": "completed"
    },
    "tags": []
   },
   "source": [
    "To be continued 😉..."
   ]
  }
 ],
 "metadata": {
  "kaggle": {
   "accelerator": "none",
   "dataSources": [
    {
     "databundleVersionId": 868283,
     "sourceId": 5407,
     "sourceType": "competition"
    }
   ],
   "dockerImageVersionId": 30746,
   "isGpuEnabled": false,
   "isInternetEnabled": false,
   "language": "python",
   "sourceType": "notebook"
  },
  "kernelspec": {
   "display_name": "Python 3",
   "language": "python",
   "name": "python3"
  },
  "language_info": {
   "codemirror_mode": {
    "name": "ipython",
    "version": 3
   },
   "file_extension": ".py",
   "mimetype": "text/x-python",
   "name": "python",
   "nbconvert_exporter": "python",
   "pygments_lexer": "ipython3",
   "version": "3.10.13"
  },
  "papermill": {
   "default_parameters": {},
   "duration": 7.50605,
   "end_time": "2024-08-16T19:21:36.592058",
   "environment_variables": {},
   "exception": null,
   "input_path": "__notebook__.ipynb",
   "output_path": "__notebook__.ipynb",
   "parameters": {},
   "start_time": "2024-08-16T19:21:29.086008",
   "version": "2.5.0"
  }
 },
 "nbformat": 4,
 "nbformat_minor": 5
}
