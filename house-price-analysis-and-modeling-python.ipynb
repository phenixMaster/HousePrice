{
 "cells": [
  {
   "cell_type": "code",
   "execution_count": 1,
   "id": "96ed6f74",
   "metadata": {
    "_cell_guid": "b1076dfc-b9ad-4769-8c92-a6c4dae69d19",
    "_uuid": "8f2839f25d086af736a60e9eeb907d3b93b6e0e5",
    "execution": {
     "iopub.execute_input": "2024-08-20T16:25:09.316383Z",
     "iopub.status.busy": "2024-08-20T16:25:09.315902Z",
     "iopub.status.idle": "2024-08-20T16:25:12.199949Z",
     "shell.execute_reply": "2024-08-20T16:25:12.198527Z"
    },
    "papermill": {
     "duration": 2.900197,
     "end_time": "2024-08-20T16:25:12.203475",
     "exception": false,
     "start_time": "2024-08-20T16:25:09.303278",
     "status": "completed"
    },
    "tags": []
   },
   "outputs": [],
   "source": [
    "import numpy as np # linear algebra\n",
    "import pandas as pd # data processing, CSV file I/O (e.g. pd.read_csv)\n",
    "import sklearn as skl\n",
    "import matplotlib as mp\n",
    "import seaborn as sn\n",
    "import statistics as stats\n",
    "\n",
    "\n",
    "import os\n",
    "#for dirname, _, filenames in os.walk('/kaggle/input'):\n",
    "    #for filename in filenames:\n",
    "        #print(os.path.join(dirname, filename))\n",
    "\n",
    "# You can write up to 20GB to the current directory (/kaggle/working/) that gets preserved as output when you create a version using \"Save & Run All\" \n",
    "# You can also write temporary files to /kaggle/temp/, but they won't be saved outside of the current session"
   ]
  },
  {
   "cell_type": "markdown",
   "id": "f46c968b",
   "metadata": {
    "papermill": {
     "duration": 0.010312,
     "end_time": "2024-08-20T16:25:12.224339",
     "exception": false,
     "start_time": "2024-08-20T16:25:12.214027",
     "status": "completed"
    },
    "tags": []
   },
   "source": [
    "## load data and data inpection"
   ]
  },
  {
   "cell_type": "code",
   "execution_count": 2,
   "id": "d07039a2",
   "metadata": {
    "execution": {
     "iopub.execute_input": "2024-08-20T16:25:12.246719Z",
     "iopub.status.busy": "2024-08-20T16:25:12.246093Z",
     "iopub.status.idle": "2024-08-20T16:25:12.301089Z",
     "shell.execute_reply": "2024-08-20T16:25:12.299782Z"
    },
    "papermill": {
     "duration": 0.069545,
     "end_time": "2024-08-20T16:25:12.304128",
     "exception": false,
     "start_time": "2024-08-20T16:25:12.234583",
     "status": "completed"
    },
    "tags": []
   },
   "outputs": [],
   "source": [
    "# load data\n",
    "house_data = pd.read_csv(\"/kaggle/input/house-prices-advanced-regression-techniques/train.csv\")"
   ]
  },
  {
   "cell_type": "code",
   "execution_count": 3,
   "id": "9ef37c3d",
   "metadata": {
    "execution": {
     "iopub.execute_input": "2024-08-20T16:25:12.326568Z",
     "iopub.status.busy": "2024-08-20T16:25:12.326056Z",
     "iopub.status.idle": "2024-08-20T16:25:12.334778Z",
     "shell.execute_reply": "2024-08-20T16:25:12.333591Z"
    },
    "papermill": {
     "duration": 0.023023,
     "end_time": "2024-08-20T16:25:12.337582",
     "exception": false,
     "start_time": "2024-08-20T16:25:12.314559",
     "status": "completed"
    },
    "tags": []
   },
   "outputs": [
    {
     "data": {
      "text/plain": [
       "(1460, 81)"
      ]
     },
     "execution_count": 3,
     "metadata": {},
     "output_type": "execute_result"
    }
   ],
   "source": [
    "#data inspection\n",
    "house_data.shape"
   ]
  },
  {
   "cell_type": "markdown",
   "id": "beac4c23",
   "metadata": {
    "papermill": {
     "duration": 0.010012,
     "end_time": "2024-08-20T16:25:12.358195",
     "exception": false,
     "start_time": "2024-08-20T16:25:12.348183",
     "status": "completed"
    },
    "tags": []
   },
   "source": [
    "There are 1460 rows and 81 columns "
   ]
  },
  {
   "cell_type": "code",
   "execution_count": 4,
   "id": "0156861c",
   "metadata": {
    "execution": {
     "iopub.execute_input": "2024-08-20T16:25:12.380613Z",
     "iopub.status.busy": "2024-08-20T16:25:12.380168Z",
     "iopub.status.idle": "2024-08-20T16:25:12.422274Z",
     "shell.execute_reply": "2024-08-20T16:25:12.420816Z"
    },
    "papermill": {
     "duration": 0.056724,
     "end_time": "2024-08-20T16:25:12.425122",
     "exception": false,
     "start_time": "2024-08-20T16:25:12.368398",
     "status": "completed"
    },
    "tags": []
   },
   "outputs": [
    {
     "data": {
      "text/plain": [
       "True"
      ]
     },
     "execution_count": 4,
     "metadata": {},
     "output_type": "execute_result"
    }
   ],
   "source": [
    "# drop duplicates\n",
    "house_data.drop_duplicates().shape[0] == house_data.shape[0]"
   ]
  },
  {
   "cell_type": "markdown",
   "id": "a24dd7e7",
   "metadata": {
    "papermill": {
     "duration": 0.011213,
     "end_time": "2024-08-20T16:25:12.447251",
     "exception": false,
     "start_time": "2024-08-20T16:25:12.436038",
     "status": "completed"
    },
    "tags": []
   },
   "source": [
    "There is no duplicated rows in data"
   ]
  },
  {
   "cell_type": "code",
   "execution_count": 5,
   "id": "31887389",
   "metadata": {
    "execution": {
     "iopub.execute_input": "2024-08-20T16:25:12.472136Z",
     "iopub.status.busy": "2024-08-20T16:25:12.471664Z",
     "iopub.status.idle": "2024-08-20T16:25:12.490347Z",
     "shell.execute_reply": "2024-08-20T16:25:12.489113Z"
    },
    "papermill": {
     "duration": 0.035058,
     "end_time": "2024-08-20T16:25:12.492909",
     "exception": false,
     "start_time": "2024-08-20T16:25:12.457851",
     "status": "completed"
    },
    "tags": []
   },
   "outputs": [
    {
     "data": {
      "text/plain": [
       "True"
      ]
     },
     "execution_count": 5,
     "metadata": {},
     "output_type": "execute_result"
    }
   ],
   "source": [
    "# create target feature\n",
    "target = house_data.SalePrice\n",
    "\n",
    "# remove id and target columns\n",
    "\n",
    "house_data1 = house_data.drop(columns=['Id'],axis = 1)\n",
    "\n",
    "# check\n",
    "house_data1.shape[1]==house_data.shape[1]-1 and\\\n",
    "not ['Id'] in house_data1.columns.tolist()"
   ]
  },
  {
   "cell_type": "markdown",
   "id": "0e560c18",
   "metadata": {
    "papermill": {
     "duration": 0.010193,
     "end_time": "2024-08-20T16:25:12.513655",
     "exception": false,
     "start_time": "2024-08-20T16:25:12.503462",
     "status": "completed"
    },
    "tags": []
   },
   "source": [
    "### drop Id ans SalePrice from features dataframe"
   ]
  },
  {
   "cell_type": "code",
   "execution_count": 6,
   "id": "4d63a513",
   "metadata": {
    "execution": {
     "iopub.execute_input": "2024-08-20T16:25:12.537292Z",
     "iopub.status.busy": "2024-08-20T16:25:12.536229Z",
     "iopub.status.idle": "2024-08-20T16:25:12.956996Z",
     "shell.execute_reply": "2024-08-20T16:25:12.955715Z"
    },
    "papermill": {
     "duration": 0.435446,
     "end_time": "2024-08-20T16:25:12.959814",
     "exception": false,
     "start_time": "2024-08-20T16:25:12.524368",
     "status": "completed"
    },
    "tags": []
   },
   "outputs": [
    {
     "name": "stderr",
     "output_type": "stream",
     "text": [
      "/opt/conda/lib/python3.10/site-packages/seaborn/_oldcore.py:1119: FutureWarning: use_inf_as_na option is deprecated and will be removed in a future version. Convert inf values to NaN before operating instead.\n",
      "  with pd.option_context('mode.use_inf_as_na', True):\n"
     ]
    },
    {
     "data": {
      "text/plain": [
       "<Axes: xlabel='SalePrice', ylabel='Count'>"
      ]
     },
     "execution_count": 6,
     "metadata": {},
     "output_type": "execute_result"
    },
    {
     "data": {
      "image/png": "[encoded data removed]",
      "text/plain": [
       "<Figure size 640x480 with 1 Axes>"
      ]
     },
     "metadata": {},
     "output_type": "display_data"
    }
   ],
   "source": [
    "# plot target \n",
    "sn.histplot(target)"
   ]
  },
  {
   "cell_type": "code",
   "execution_count": 7,
   "id": "38a8ac9e",
   "metadata": {
    "execution": {
     "iopub.execute_input": "2024-08-20T16:25:12.984215Z",
     "iopub.status.busy": "2024-08-20T16:25:12.983793Z",
     "iopub.status.idle": "2024-08-20T16:25:12.992652Z",
     "shell.execute_reply": "2024-08-20T16:25:12.991362Z"
    },
    "papermill": {
     "duration": 0.024672,
     "end_time": "2024-08-20T16:25:12.995820",
     "exception": false,
     "start_time": "2024-08-20T16:25:12.971148",
     "status": "completed"
    },
    "tags": []
   },
   "outputs": [
    {
     "name": "stdout",
     "output_type": "stream",
     "text": [
      "There are 37 features in house_data1\n"
     ]
    }
   ],
   "source": [
    "# select numeric columns\n",
    "num_data = house_data1[house_data1.select_dtypes(include='number').columns]\n",
    "print(f\"There are {num_data.shape[1]} features in house_data1\")"
   ]
  },
  {
   "cell_type": "code",
   "execution_count": 8,
   "id": "a5df3e35",
   "metadata": {
    "execution": {
     "iopub.execute_input": "2024-08-20T16:25:13.021183Z",
     "iopub.status.busy": "2024-08-20T16:25:13.020757Z",
     "iopub.status.idle": "2024-08-20T16:25:13.030268Z",
     "shell.execute_reply": "2024-08-20T16:25:13.028763Z"
    },
    "papermill": {
     "duration": 0.025579,
     "end_time": "2024-08-20T16:25:13.033500",
     "exception": false,
     "start_time": "2024-08-20T16:25:13.007921",
     "status": "completed"
    },
    "tags": []
   },
   "outputs": [
    {
     "name": "stdout",
     "output_type": "stream",
     "text": [
      "There are 43 categorical features in cat_data\n"
     ]
    }
   ],
   "source": [
    "#categorical columns \n",
    "cat_data = house_data1[house_data1.select_dtypes('object').columns]\n",
    "print(f\"There are {cat_data.shape[1]} categorical features in cat_data\")"
   ]
  },
  {
   "cell_type": "markdown",
   "id": "05e133b1",
   "metadata": {
    "papermill": {
     "duration": 0.011046,
     "end_time": "2024-08-20T16:25:13.056610",
     "exception": false,
     "start_time": "2024-08-20T16:25:13.045564",
     "status": "completed"
    },
    "tags": []
   },
   "source": [
    "### missing values "
   ]
  },
  {
   "cell_type": "code",
   "execution_count": 9,
   "id": "7ef295b1",
   "metadata": {
    "execution": {
     "iopub.execute_input": "2024-08-20T16:25:13.081785Z",
     "iopub.status.busy": "2024-08-20T16:25:13.081378Z",
     "iopub.status.idle": "2024-08-20T16:25:13.103713Z",
     "shell.execute_reply": "2024-08-20T16:25:13.102429Z"
    },
    "papermill": {
     "duration": 0.038147,
     "end_time": "2024-08-20T16:25:13.106617",
     "exception": false,
     "start_time": "2024-08-20T16:25:13.068470",
     "status": "completed"
    },
    "tags": []
   },
   "outputs": [
    {
     "data": {
      "text/plain": [
       "Alley           0.937671\n",
       "MasVnrType      0.597260\n",
       "BsmtQual        0.025342\n",
       "BsmtCond        0.025342\n",
       "BsmtExposure    0.026027\n",
       "BsmtFinType1    0.025342\n",
       "BsmtFinType2    0.026027\n",
       "Electrical      0.000685\n",
       "FireplaceQu     0.472603\n",
       "GarageType      0.055479\n",
       "GarageFinish    0.055479\n",
       "GarageQual      0.055479\n",
       "GarageCond      0.055479\n",
       "PoolQC          0.995205\n",
       "Fence           0.807534\n",
       "MiscFeature     0.963014\n",
       "dtype: float64"
      ]
     },
     "execution_count": 9,
     "metadata": {},
     "output_type": "execute_result"
    }
   ],
   "source": [
    "# categorical features\n",
    "na_catCols = cat_data.columns[cat_data.isna().mean() !=0].tolist()\n",
    "cat_data[na_catCols].isna().mean()"
   ]
  },
  {
   "cell_type": "code",
   "execution_count": 10,
   "id": "a59044c8",
   "metadata": {
    "execution": {
     "iopub.execute_input": "2024-08-20T16:25:13.137142Z",
     "iopub.status.busy": "2024-08-20T16:25:13.135953Z",
     "iopub.status.idle": "2024-08-20T16:25:13.157283Z",
     "shell.execute_reply": "2024-08-20T16:25:13.155857Z"
    },
    "papermill": {
     "duration": 0.041355,
     "end_time": "2024-08-20T16:25:13.160161",
     "exception": false,
     "start_time": "2024-08-20T16:25:13.118806",
     "status": "completed"
    },
    "tags": []
   },
   "outputs": [
    {
     "data": {
      "text/plain": [
       "Alley          0.937671\n",
       "MasVnrType     0.597260\n",
       "FireplaceQu    0.472603\n",
       "PoolQC         0.995205\n",
       "Fence          0.807534\n",
       "MiscFeature    0.963014\n",
       "dtype: float64"
      ]
     },
     "execution_count": 10,
     "metadata": {},
     "output_type": "execute_result"
    }
   ],
   "source": [
    "na_catCols = cat_data.columns[cat_data.isna().mean() >= 0.3].tolist()\n",
    "cat_data[na_catCols].isna().mean()"
   ]
  },
  {
   "cell_type": "markdown",
   "id": "ed480d53",
   "metadata": {
    "papermill": {
     "duration": 0.012226,
     "end_time": "2024-08-20T16:25:13.185335",
     "exception": false,
     "start_time": "2024-08-20T16:25:13.173109",
     "status": "completed"
    },
    "tags": []
   },
   "source": [
    "These features have NA's proportion above 0.3. How to deal with that ?"
   ]
  },
  {
   "cell_type": "code",
   "execution_count": 11,
   "id": "ebfd62d9",
   "metadata": {
    "execution": {
     "iopub.execute_input": "2024-08-20T16:25:13.211501Z",
     "iopub.status.busy": "2024-08-20T16:25:13.211070Z",
     "iopub.status.idle": "2024-08-20T16:25:13.223075Z",
     "shell.execute_reply": "2024-08-20T16:25:13.221556Z"
    },
    "papermill": {
     "duration": 0.029595,
     "end_time": "2024-08-20T16:25:13.226769",
     "exception": false,
     "start_time": "2024-08-20T16:25:13.197174",
     "status": "completed"
    },
    "tags": []
   },
   "outputs": [
    {
     "data": {
      "text/plain": [
       "Series([], dtype: float64)"
      ]
     },
     "execution_count": 11,
     "metadata": {},
     "output_type": "execute_result"
    }
   ],
   "source": [
    "# numerical features with na or missing values prop >=0.3\n",
    "na_numCols = num_data.columns[num_data.isnull().mean()> 0.2].tolist()\n",
    "num_data[na_numCols].isna().mean()"
   ]
  },
  {
   "cell_type": "markdown",
   "id": "e513ea06",
   "metadata": {
    "papermill": {
     "duration": 0.011498,
     "end_time": "2024-08-20T16:25:13.250205",
     "exception": false,
     "start_time": "2024-08-20T16:25:13.238707",
     "status": "completed"
    },
    "tags": []
   },
   "source": [
    "These 3 columns has NAs. How to deal with that?"
   ]
  },
  {
   "cell_type": "code",
   "execution_count": 12,
   "id": "254d845c",
   "metadata": {
    "execution": {
     "iopub.execute_input": "2024-08-20T16:25:13.276158Z",
     "iopub.status.busy": "2024-08-20T16:25:13.275684Z",
     "iopub.status.idle": "2024-08-20T16:25:13.292517Z",
     "shell.execute_reply": "2024-08-20T16:25:13.291009Z"
    },
    "papermill": {
     "duration": 0.033363,
     "end_time": "2024-08-20T16:25:13.295463",
     "exception": false,
     "start_time": "2024-08-20T16:25:13.262100",
     "status": "completed"
    },
    "tags": []
   },
   "outputs": [
    {
     "data": {
      "text/plain": [
       "0.0670291095890411"
      ]
     },
     "execution_count": 12,
     "metadata": {},
     "output_type": "execute_result"
    }
   ],
   "source": [
    "house_data1.isna().mean().mean()"
   ]
  },
  {
   "cell_type": "code",
   "execution_count": 13,
   "id": "a7a64abb",
   "metadata": {
    "execution": {
     "iopub.execute_input": "2024-08-20T16:25:13.321883Z",
     "iopub.status.busy": "2024-08-20T16:25:13.321428Z",
     "iopub.status.idle": "2024-08-20T16:25:13.380074Z",
     "shell.execute_reply": "2024-08-20T16:25:13.378808Z"
    },
    "papermill": {
     "duration": 0.076172,
     "end_time": "2024-08-20T16:25:13.383628",
     "exception": false,
     "start_time": "2024-08-20T16:25:13.307456",
     "status": "completed"
    },
    "tags": []
   },
   "outputs": [],
   "source": [
    "# fill with mode : doesn't change anything \n",
    "for feature in house_data1.columns:\n",
    "    house_data1[feature].fillna(stats.mode(house_data1[feature]))\n",
    "# is not convenient : the most common values for rooms for e.g might not be the right one for \n",
    "#any house presenting missing value \n"
   ]
  },
  {
   "cell_type": "code",
   "execution_count": 14,
   "id": "5084de7c",
   "metadata": {
    "execution": {
     "iopub.execute_input": "2024-08-20T16:25:13.414592Z",
     "iopub.status.busy": "2024-08-20T16:25:13.414128Z",
     "iopub.status.idle": "2024-08-20T16:25:13.434570Z",
     "shell.execute_reply": "2024-08-20T16:25:13.431811Z"
    },
    "papermill": {
     "duration": 0.041591,
     "end_time": "2024-08-20T16:25:13.438100",
     "exception": false,
     "start_time": "2024-08-20T16:25:13.396509",
     "status": "completed"
    },
    "tags": []
   },
   "outputs": [
    {
     "data": {
      "text/plain": [
       "0.0670291095890411"
      ]
     },
     "execution_count": 14,
     "metadata": {},
     "output_type": "execute_result"
    }
   ],
   "source": [
    "house_data1.isna().mean().mean()"
   ]
  },
  {
   "cell_type": "code",
   "execution_count": 15,
   "id": "d28f8ac4",
   "metadata": {
    "execution": {
     "iopub.execute_input": "2024-08-20T16:25:13.467911Z",
     "iopub.status.busy": "2024-08-20T16:25:13.467350Z",
     "iopub.status.idle": "2024-08-20T16:25:13.477015Z",
     "shell.execute_reply": "2024-08-20T16:25:13.475440Z"
    },
    "papermill": {
     "duration": 0.027706,
     "end_time": "2024-08-20T16:25:13.480356",
     "exception": false,
     "start_time": "2024-08-20T16:25:13.452650",
     "status": "completed"
    },
    "tags": []
   },
   "outputs": [
    {
     "name": "stdout",
     "output_type": "stream",
     "text": [
      "house_data2 has shape (1460, 74)\n"
     ]
    }
   ],
   "source": [
    "# drop columns with na prop > 0.2\n",
    "house_data2 = house_data1.drop(na_catCols,axis=1)\n",
    "print(f\"house_data2 has shape {house_data2.shape}\")"
   ]
  },
  {
   "cell_type": "code",
   "execution_count": 16,
   "id": "58fb9039",
   "metadata": {
    "execution": {
     "iopub.execute_input": "2024-08-20T16:25:13.508704Z",
     "iopub.status.busy": "2024-08-20T16:25:13.508264Z",
     "iopub.status.idle": "2024-08-20T16:25:13.524339Z",
     "shell.execute_reply": "2024-08-20T16:25:13.522619Z"
    },
    "papermill": {
     "duration": 0.033982,
     "end_time": "2024-08-20T16:25:13.527404",
     "exception": false,
     "start_time": "2024-08-20T16:25:13.493422",
     "status": "completed"
    },
    "tags": []
   },
   "outputs": [
    {
     "name": "stdout",
     "output_type": "stream",
     "text": [
      "house_data3 shape :(1094, 74)\n"
     ]
    }
   ],
   "source": [
    "#drop lines with Nas \n",
    "house_data3 = house_data2.dropna()\n",
    "print(f\"house_data3 shape :{house_data3.shape}\")"
   ]
  },
  {
   "cell_type": "code",
   "execution_count": 17,
   "id": "4ddf3441",
   "metadata": {
    "execution": {
     "iopub.execute_input": "2024-08-20T16:25:13.555162Z",
     "iopub.status.busy": "2024-08-20T16:25:13.554705Z",
     "iopub.status.idle": "2024-08-20T16:25:13.569605Z",
     "shell.execute_reply": "2024-08-20T16:25:13.568192Z"
    },
    "papermill": {
     "duration": 0.031847,
     "end_time": "2024-08-20T16:25:13.572546",
     "exception": false,
     "start_time": "2024-08-20T16:25:13.540699",
     "status": "completed"
    },
    "tags": []
   },
   "outputs": [
    {
     "name": "stdout",
     "output_type": "stream",
     "text": [
      "There is no missing value in house_data3\n"
     ]
    }
   ],
   "source": [
    "# missing values check\n",
    "if house_data3.isna().mean().sum() == 0.0 :\n",
    "    print(\"There is no missing value in house_data3\")\n",
    "else:\n",
    "    print(\"missing values still in house_data3\")"
   ]
  },
  {
   "cell_type": "markdown",
   "id": "08a4033e",
   "metadata": {
    "papermill": {
     "duration": 0.012725,
     "end_time": "2024-08-20T16:25:13.598345",
     "exception": false,
     "start_time": "2024-08-20T16:25:13.585620",
     "status": "completed"
    },
    "tags": []
   },
   "source": [
    "### note : we might also impute missing values  with random forest for example !"
   ]
  },
  {
   "cell_type": "code",
   "execution_count": 18,
   "id": "9602286d",
   "metadata": {
    "execution": {
     "iopub.execute_input": "2024-08-20T16:25:13.627585Z",
     "iopub.status.busy": "2024-08-20T16:25:13.627134Z",
     "iopub.status.idle": "2024-08-20T16:25:13.636096Z",
     "shell.execute_reply": "2024-08-20T16:25:13.634667Z"
    },
    "papermill": {
     "duration": 0.026955,
     "end_time": "2024-08-20T16:25:13.639012",
     "exception": false,
     "start_time": "2024-08-20T16:25:13.612057",
     "status": "completed"
    },
    "tags": []
   },
   "outputs": [
    {
     "name": "stdout",
     "output_type": "stream",
     "text": [
      "Removed rows proportion is 0.25, though, we get rid of 25.0% of potential information 🤔\n"
     ]
    }
   ],
   "source": [
    "prop = 1 - round(house_data3.shape[0]/house_data1.shape[0],2)\n",
    "print(\"Removed rows proportion is {}, though, we get rid of {}% of \\\n",
    "potential information 🤔\".format(prop,prop*1e2)) "
   ]
  },
  {
   "cell_type": "code",
   "execution_count": 19,
   "id": "a66c7283",
   "metadata": {
    "execution": {
     "iopub.execute_input": "2024-08-20T16:25:13.667483Z",
     "iopub.status.busy": "2024-08-20T16:25:13.667028Z",
     "iopub.status.idle": "2024-08-20T16:25:13.674023Z",
     "shell.execute_reply": "2024-08-20T16:25:13.672441Z"
    },
    "papermill": {
     "duration": 0.02483,
     "end_time": "2024-08-20T16:25:13.676996",
     "exception": false,
     "start_time": "2024-08-20T16:25:13.652166",
     "status": "completed"
    },
    "tags": []
   },
   "outputs": [],
   "source": [
    "# delete useless df\n",
    "del house_data ,house_data1, house_data2"
   ]
  },
  {
   "cell_type": "code",
   "execution_count": 20,
   "id": "dec0ffab",
   "metadata": {
    "execution": {
     "iopub.execute_input": "2024-08-20T16:25:13.706203Z",
     "iopub.status.busy": "2024-08-20T16:25:13.705733Z",
     "iopub.status.idle": "2024-08-20T16:25:14.663292Z",
     "shell.execute_reply": "2024-08-20T16:25:14.661955Z"
    },
    "papermill": {
     "duration": 0.976164,
     "end_time": "2024-08-20T16:25:14.666567",
     "exception": false,
     "start_time": "2024-08-20T16:25:13.690403",
     "status": "completed"
    },
    "tags": []
   },
   "outputs": [
    {
     "data": {
      "text/html": [
       "<style>#sk-container-id-1 {color: black;background-color: white;}#sk-container-id-1 pre{padding: 0;}#sk-container-id-1 div.sk-toggleable {background-color: white;}#sk-container-id-1 label.sk-toggleable__label {cursor: pointer;display: block;width: 100%;margin-bottom: 0;padding: 0.3em;box-sizing: border-box;text-align: center;}#sk-container-id-1 label.sk-toggleable__label-arrow:before {content: \"▸\";float: left;margin-right: 0.25em;color: #696969;}#sk-container-id-1 label.sk-toggleable__label-arrow:hover:before {color: black;}#sk-container-id-1 div.sk-estimator:hover label.sk-toggleable__label-arrow:before {color: black;}#sk-container-id-1 div.sk-toggleable__content {max-height: 0;max-width: 0;overflow: hidden;text-align: left;background-color: #f0f8ff;}#sk-container-id-1 div.sk-toggleable__content pre {margin: 0.2em;color: black;border-radius: 0.25em;background-color: #f0f8ff;}#sk-container-id-1 input.sk-toggleable__control:checked~div.sk-toggleable__content {max-height: 200px;max-width: 100%;overflow: auto;}#sk-container-id-1 input.sk-toggleable__control:checked~label.sk-toggleable__label-arrow:before {content: \"▾\";}#sk-container-id-1 div.sk-estimator input.sk-toggleable__control:checked~label.sk-toggleable__label {background-color: #d4ebff;}#sk-container-id-1 div.sk-label input.sk-toggleable__control:checked~label.sk-toggleable__label {background-color: #d4ebff;}#sk-container-id-1 input.sk-hidden--visually {border: 0;clip: rect(1px 1px 1px 1px);clip: rect(1px, 1px, 1px, 1px);height: 1px;margin: -1px;overflow: hidden;padding: 0;position: absolute;width: 1px;}#sk-container-id-1 div.sk-estimator {font-family: monospace;background-color: #f0f8ff;border: 1px dotted black;border-radius: 0.25em;box-sizing: border-box;margin-bottom: 0.5em;}#sk-container-id-1 div.sk-estimator:hover {background-color: #d4ebff;}#sk-container-id-1 div.sk-parallel-item::after {content: \"\";width: 100%;border-bottom: 1px solid gray;flex-grow: 1;}#sk-container-id-1 div.sk-label:hover label.sk-toggleable__label {background-color: #d4ebff;}#sk-container-id-1 div.sk-serial::before {content: \"\";position: absolute;border-left: 1px solid gray;box-sizing: border-box;top: 0;bottom: 0;left: 50%;z-index: 0;}#sk-container-id-1 div.sk-serial {display: flex;flex-direction: column;align-items: center;background-color: white;padding-right: 0.2em;padding-left: 0.2em;position: relative;}#sk-container-id-1 div.sk-item {position: relative;z-index: 1;}#sk-container-id-1 div.sk-parallel {display: flex;align-items: stretch;justify-content: center;background-color: white;position: relative;}#sk-container-id-1 div.sk-item::before, #sk-container-id-1 div.sk-parallel-item::before {content: \"\";position: absolute;border-left: 1px solid gray;box-sizing: border-box;top: 0;bottom: 0;left: 50%;z-index: -1;}#sk-container-id-1 div.sk-parallel-item {display: flex;flex-direction: column;z-index: 1;position: relative;background-color: white;}#sk-container-id-1 div.sk-parallel-item:first-child::after {align-self: flex-end;width: 50%;}#sk-container-id-1 div.sk-parallel-item:last-child::after {align-self: flex-start;width: 50%;}#sk-container-id-1 div.sk-parallel-item:only-child::after {width: 0;}#sk-container-id-1 div.sk-dashed-wrapped {border: 1px dashed gray;margin: 0 0.4em 0.5em 0.4em;box-sizing: border-box;padding-bottom: 0.4em;background-color: white;}#sk-container-id-1 div.sk-label label {font-family: monospace;font-weight: bold;display: inline-block;line-height: 1.2em;}#sk-container-id-1 div.sk-label-container {text-align: center;}#sk-container-id-1 div.sk-container {/* jupyter's `normalize.less` sets `[hidden] { display: none; }` but bootstrap.min.css set `[hidden] { display: none !important; }` so we also need the `!important` here to be able to override the default hidden behavior on the sphinx rendered scikit-learn.org. See: https://github.com/scikit-learn/scikit-learn/issues/21755 */display: inline-block !important;position: relative;}#sk-container-id-1 div.sk-text-repr-fallback {display: none;}</style><div id=\"sk-container-id-1\" class=\"sk-top-container\"><div class=\"sk-text-repr-fallback\"><pre>RandomForestRegressor(max_depth=3, random_state=0)</pre><b>In a Jupyter environment, please rerun this cell to show the HTML representation or trust the notebook. <br />On GitHub, the HTML representation is unable to render, please try loading this page with nbviewer.org.</b></div><div class=\"sk-container\" hidden><div class=\"sk-item\"><div class=\"sk-estimator sk-toggleable\"><input class=\"sk-toggleable__control sk-hidden--visually\" id=\"sk-estimator-id-1\" type=\"checkbox\" checked><label for=\"sk-estimator-id-1\" class=\"sk-toggleable__label sk-toggleable__label-arrow\">RandomForestRegressor</label><div class=\"sk-toggleable__content\"><pre>RandomForestRegressor(max_depth=3, random_state=0)</pre></div></div></div></div></div>"
      ],
      "text/plain": [
       "RandomForestRegressor(max_depth=3, random_state=0)"
      ]
     },
     "execution_count": 20,
     "metadata": {},
     "output_type": "execute_result"
    }
   ],
   "source": [
    "# features selection \n",
    "from sklearn.ensemble import RandomForestRegressor\n",
    "from sklearn.datasets import make_regression\n",
    "X = house_data3\n",
    "y = target\n",
    "X, y = make_regression(n_features=74, \n",
    "                       n_informative=7,\n",
    "                       random_state=0,\n",
    "                       shuffle=False)\n",
    "regr = RandomForestRegressor(max_depth=3, random_state=0)\n",
    "regr.fit(X, y)\n",
    "#print(regr.predict([[0, 0, 0, 0]]))\n"
   ]
  },
  {
   "cell_type": "code",
   "execution_count": 21,
   "id": "a7512390",
   "metadata": {
    "execution": {
     "iopub.execute_input": "2024-08-20T16:25:14.698125Z",
     "iopub.status.busy": "2024-08-20T16:25:14.697684Z",
     "iopub.status.idle": "2024-08-20T16:25:14.718337Z",
     "shell.execute_reply": "2024-08-20T16:25:14.716884Z"
    },
    "papermill": {
     "duration": 0.039867,
     "end_time": "2024-08-20T16:25:14.721247",
     "exception": false,
     "start_time": "2024-08-20T16:25:14.681380",
     "status": "completed"
    },
    "tags": []
   },
   "outputs": [
    {
     "data": {
      "text/plain": [
       "MSSubClass    0.371649\n",
       "MSZoning      0.154410\n",
       "LotShape      0.108566\n",
       "Street        0.085754\n",
       "LandSlope     0.028556\n",
       "dtype: float64"
      ]
     },
     "execution_count": 21,
     "metadata": {},
     "output_type": "execute_result"
    }
   ],
   "source": [
    "forest_importances = pd.Series(regr.feature_importances_,index = house_data3.columns)\n",
    "#fig, ax = plt.subplots()\n",
    "forest_importances.sort_values(ascending= False)[:5]"
   ]
  },
  {
   "cell_type": "code",
   "execution_count": 22,
   "id": "f7f0c27b",
   "metadata": {
    "execution": {
     "iopub.execute_input": "2024-08-20T16:25:14.749195Z",
     "iopub.status.busy": "2024-08-20T16:25:14.748763Z",
     "iopub.status.idle": "2024-08-20T16:25:14.755680Z",
     "shell.execute_reply": "2024-08-20T16:25:14.754432Z"
    },
    "papermill": {
     "duration": 0.023872,
     "end_time": "2024-08-20T16:25:14.758208",
     "exception": false,
     "start_time": "2024-08-20T16:25:14.734336",
     "status": "completed"
    },
    "tags": []
   },
   "outputs": [],
   "source": [
    "house_data4 = house_data3[forest_importances.sort_values(ascending= False).index[:6]]"
   ]
  },
  {
   "cell_type": "code",
   "execution_count": 23,
   "id": "0a1fd200",
   "metadata": {
    "execution": {
     "iopub.execute_input": "2024-08-20T16:25:14.785847Z",
     "iopub.status.busy": "2024-08-20T16:25:14.785420Z",
     "iopub.status.idle": "2024-08-20T16:25:15.044281Z",
     "shell.execute_reply": "2024-08-20T16:25:15.042846Z"
    },
    "papermill": {
     "duration": 0.276213,
     "end_time": "2024-08-20T16:25:15.047335",
     "exception": false,
     "start_time": "2024-08-20T16:25:14.771122",
     "status": "completed"
    },
    "tags": []
   },
   "outputs": [
    {
     "data": {
      "text/plain": [
       "<Axes: >"
      ]
     },
     "execution_count": 23,
     "metadata": {},
     "output_type": "execute_result"
    },
    {
     "data": {
      "image/png": "[encoded data removed]",
      "text/plain": [
       "<Figure size 640x480 with 1 Axes>"
      ]
     },
     "metadata": {},
     "output_type": "display_data"
    }
   ],
   "source": [
    "# plot features importance (forest importance) \n",
    "forest_importances.sort_values(ascending= False)[:6].plot.bar()"
   ]
  },
  {
   "cell_type": "markdown",
   "id": "7a3f5436",
   "metadata": {
    "papermill": {
     "duration": 0.01327,
     "end_time": "2024-08-20T16:25:15.075064",
     "exception": false,
     "start_time": "2024-08-20T16:25:15.061794",
     "status": "completed"
    },
    "tags": []
   },
   "source": [
    "To be continued 😉..."
   ]
  }
 ],
 "metadata": {
  "kaggle": {
   "accelerator": "none",
   "dataSources": [
    {
     "databundleVersionId": 868283,
     "sourceId": 5407,
     "sourceType": "competition"
    }
   ],
   "dockerImageVersionId": 30746,
   "isGpuEnabled": false,
   "isInternetEnabled": false,
   "language": "python",
   "sourceType": "notebook"
  },
  "kernelspec": {
   "display_name": "Python 3",
   "language": "python",
   "name": "python3"
  },
  "language_info": {
   "codemirror_mode": {
    "name": "ipython",
    "version": 3
   },
   "file_extension": ".py",
   "mimetype": "text/x-python",
   "name": "python",
   "nbconvert_exporter": "python",
   "pygments_lexer": "ipython3",
   "version": "3.10.13"
  },
  "papermill": {
   "default_parameters": {},
   "duration": 9.810698,
   "end_time": "2024-08-20T16:25:15.814205",
   "environment_variables": {},
   "exception": null,
   "input_path": "__notebook__.ipynb",
   "output_path": "__notebook__.ipynb",
   "parameters": {},
   "start_time": "2024-08-20T16:25:06.003507",
   "version": "2.5.0"
  }
 },
 "nbformat": 4,
 "nbformat_minor": 5
}
