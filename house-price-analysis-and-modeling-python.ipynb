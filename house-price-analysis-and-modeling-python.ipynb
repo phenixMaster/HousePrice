{
 "cells": [
  {
   "cell_type": "code",
   "execution_count": 1,
   "id": "b47f26da",
   "metadata": {
    "_cell_guid": "b1076dfc-b9ad-4769-8c92-a6c4dae69d19",
    "_uuid": "8f2839f25d086af736a60e9eeb907d3b93b6e0e5",
    "execution": {
     "iopub.execute_input": "2024-08-21T14:32:40.541930Z",
     "iopub.status.busy": "2024-08-21T14:32:40.541515Z",
     "iopub.status.idle": "2024-08-21T14:32:43.013180Z",
     "shell.execute_reply": "2024-08-21T14:32:43.012098Z"
    },
    "papermill": {
     "duration": 2.485445,
     "end_time": "2024-08-21T14:32:43.015788",
     "exception": false,
     "start_time": "2024-08-21T14:32:40.530343",
     "status": "completed"
    },
    "tags": []
   },
   "outputs": [],
   "source": [
    "import numpy as np # linear algebra\n",
    "import pandas as pd # data processing, CSV file I/O (e.g. pd.read_csv)\n",
    "import sklearn as skl\n",
    "import matplotlib as mp\n",
    "import seaborn as sn\n",
    "import statistics as stats\n",
    "\n",
    "\n",
    "import os\n",
    "#for dirname, _, filenames in os.walk('/kaggle/input'):\n",
    "    #for filename in filenames:\n",
    "        #print(os.path.join(dirname, filename))\n",
    "\n",
    "# You can write up to 20GB to the current directory (/kaggle/working/) that gets preserved as output when you create a version using \"Save & Run All\" \n",
    "# You can also write temporary files to /kaggle/temp/, but they won't be saved outside of the current session"
   ]
  },
  {
   "cell_type": "markdown",
   "id": "203a1a78",
   "metadata": {
    "papermill": {
     "duration": 0.00887,
     "end_time": "2024-08-21T14:32:43.034198",
     "exception": false,
     "start_time": "2024-08-21T14:32:43.025328",
     "status": "completed"
    },
    "tags": []
   },
   "source": [
    "## Load data and data inspection"
   ]
  },
  {
   "cell_type": "code",
   "execution_count": 2,
   "id": "257c9621",
   "metadata": {
    "execution": {
     "iopub.execute_input": "2024-08-21T14:32:43.054974Z",
     "iopub.status.busy": "2024-08-21T14:32:43.053854Z",
     "iopub.status.idle": "2024-08-21T14:32:43.096841Z",
     "shell.execute_reply": "2024-08-21T14:32:43.095560Z"
    },
    "papermill": {
     "duration": 0.055992,
     "end_time": "2024-08-21T14:32:43.099386",
     "exception": false,
     "start_time": "2024-08-21T14:32:43.043394",
     "status": "completed"
    },
    "tags": []
   },
   "outputs": [],
   "source": [
    "# load data\n",
    "house_data = pd.read_csv(\"/kaggle/input/house-prices-advanced-regression-techniques/train.csv\")"
   ]
  },
  {
   "cell_type": "code",
   "execution_count": 3,
   "id": "4a2e0c5f",
   "metadata": {
    "execution": {
     "iopub.execute_input": "2024-08-21T14:32:43.119855Z",
     "iopub.status.busy": "2024-08-21T14:32:43.119485Z",
     "iopub.status.idle": "2024-08-21T14:32:43.126695Z",
     "shell.execute_reply": "2024-08-21T14:32:43.125680Z"
    },
    "papermill": {
     "duration": 0.02002,
     "end_time": "2024-08-21T14:32:43.128906",
     "exception": false,
     "start_time": "2024-08-21T14:32:43.108886",
     "status": "completed"
    },
    "tags": []
   },
   "outputs": [
    {
     "data": {
      "text/plain": [
       "(1460, 81)"
      ]
     },
     "execution_count": 3,
     "metadata": {},
     "output_type": "execute_result"
    }
   ],
   "source": [
    "#data inspection\n",
    "house_data.shape"
   ]
  },
  {
   "cell_type": "markdown",
   "id": "4e087807",
   "metadata": {
    "papermill": {
     "duration": 0.008996,
     "end_time": "2024-08-21T14:32:43.148229",
     "exception": false,
     "start_time": "2024-08-21T14:32:43.139233",
     "status": "completed"
    },
    "tags": []
   },
   "source": [
    "There are 1460 rows and 81 columns "
   ]
  },
  {
   "cell_type": "code",
   "execution_count": 4,
   "id": "c509e0ae",
   "metadata": {
    "execution": {
     "iopub.execute_input": "2024-08-21T14:32:43.169077Z",
     "iopub.status.busy": "2024-08-21T14:32:43.168129Z",
     "iopub.status.idle": "2024-08-21T14:32:43.199181Z",
     "shell.execute_reply": "2024-08-21T14:32:43.198083Z"
    },
    "papermill": {
     "duration": 0.043988,
     "end_time": "2024-08-21T14:32:43.201508",
     "exception": false,
     "start_time": "2024-08-21T14:32:43.157520",
     "status": "completed"
    },
    "tags": []
   },
   "outputs": [
    {
     "data": {
      "text/plain": [
       "True"
      ]
     },
     "execution_count": 4,
     "metadata": {},
     "output_type": "execute_result"
    }
   ],
   "source": [
    "# drop duplicates\n",
    "house_data.drop_duplicates().shape[0] == house_data.shape[0]"
   ]
  },
  {
   "cell_type": "markdown",
   "id": "97b57786",
   "metadata": {
    "papermill": {
     "duration": 0.009139,
     "end_time": "2024-08-21T14:32:43.220126",
     "exception": false,
     "start_time": "2024-08-21T14:32:43.210987",
     "status": "completed"
    },
    "tags": []
   },
   "source": [
    "There is no duplicated rows in data"
   ]
  },
  {
   "cell_type": "markdown",
   "id": "13f2ff5a",
   "metadata": {
    "papermill": {
     "duration": 0.00921,
     "end_time": "2024-08-21T14:32:43.238850",
     "exception": false,
     "start_time": "2024-08-21T14:32:43.229640",
     "status": "completed"
    },
    "tags": []
   },
   "source": [
    "## Drop Id and SalePrice from features "
   ]
  },
  {
   "cell_type": "code",
   "execution_count": 5,
   "id": "6ca92d54",
   "metadata": {
    "execution": {
     "iopub.execute_input": "2024-08-21T14:32:43.259600Z",
     "iopub.status.busy": "2024-08-21T14:32:43.258981Z",
     "iopub.status.idle": "2024-08-21T14:32:43.274915Z",
     "shell.execute_reply": "2024-08-21T14:32:43.273758Z"
    },
    "papermill": {
     "duration": 0.028916,
     "end_time": "2024-08-21T14:32:43.277197",
     "exception": false,
     "start_time": "2024-08-21T14:32:43.248281",
     "status": "completed"
    },
    "tags": []
   },
   "outputs": [
    {
     "data": {
      "text/plain": [
       "True"
      ]
     },
     "execution_count": 5,
     "metadata": {},
     "output_type": "execute_result"
    }
   ],
   "source": [
    "# create target feature\n",
    "target = house_data.SalePrice\n",
    "\n",
    "# remove id and target columns\n",
    "\n",
    "house_data1 = house_data.drop(columns=['Id'],axis = 1)\n",
    "\n",
    "# check\n",
    "house_data1.shape[1]==house_data.shape[1]-1 and\\\n",
    "not ['Id'] in house_data1.columns.tolist()"
   ]
  },
  {
   "cell_type": "code",
   "execution_count": 6,
   "id": "ff4651d9",
   "metadata": {
    "execution": {
     "iopub.execute_input": "2024-08-21T14:32:43.300305Z",
     "iopub.status.busy": "2024-08-21T14:32:43.299895Z",
     "iopub.status.idle": "2024-08-21T14:32:43.313507Z",
     "shell.execute_reply": "2024-08-21T14:32:43.312546Z"
    },
    "papermill": {
     "duration": 0.028298,
     "end_time": "2024-08-21T14:32:43.315648",
     "exception": false,
     "start_time": "2024-08-21T14:32:43.287350",
     "status": "completed"
    },
    "tags": []
   },
   "outputs": [
    {
     "data": {
      "text/plain": [
       "count      1460.000000\n",
       "mean     180921.195890\n",
       "std       79442.502883\n",
       "min       34900.000000\n",
       "25%      129975.000000\n",
       "50%      163000.000000\n",
       "75%      214000.000000\n",
       "max      755000.000000\n",
       "Name: SalePrice, dtype: float64"
      ]
     },
     "execution_count": 6,
     "metadata": {},
     "output_type": "execute_result"
    }
   ],
   "source": [
    "target.describe()"
   ]
  },
  {
   "cell_type": "code",
   "execution_count": 7,
   "id": "54d9888a",
   "metadata": {
    "execution": {
     "iopub.execute_input": "2024-08-21T14:32:43.337474Z",
     "iopub.status.busy": "2024-08-21T14:32:43.336633Z",
     "iopub.status.idle": "2024-08-21T14:32:43.342778Z",
     "shell.execute_reply": "2024-08-21T14:32:43.341803Z"
    },
    "papermill": {
     "duration": 0.019822,
     "end_time": "2024-08-21T14:32:43.345228",
     "exception": false,
     "start_time": "2024-08-21T14:32:43.325406",
     "status": "completed"
    },
    "tags": []
   },
   "outputs": [
    {
     "name": "stdout",
     "output_type": "stream",
     "text": [
      "There is no missing value in data\n"
     ]
    }
   ],
   "source": [
    "if not(target.isna().mean()) :\n",
    "    print(\"There is no missing value in data\")\n",
    "else:\n",
    "    print(f\"prop NA = {target.isna().mean()}\")"
   ]
  },
  {
   "cell_type": "code",
   "execution_count": 8,
   "id": "355583e9",
   "metadata": {
    "execution": {
     "iopub.execute_input": "2024-08-21T14:32:43.368126Z",
     "iopub.status.busy": "2024-08-21T14:32:43.367356Z",
     "iopub.status.idle": "2024-08-21T14:32:43.758830Z",
     "shell.execute_reply": "2024-08-21T14:32:43.757737Z"
    },
    "papermill": {
     "duration": 0.405514,
     "end_time": "2024-08-21T14:32:43.761204",
     "exception": false,
     "start_time": "2024-08-21T14:32:43.355690",
     "status": "completed"
    },
    "tags": []
   },
   "outputs": [
    {
     "name": "stderr",
     "output_type": "stream",
     "text": [
      "/opt/conda/lib/python3.10/site-packages/seaborn/_oldcore.py:1119: FutureWarning: use_inf_as_na option is deprecated and will be removed in a future version. Convert inf values to NaN before operating instead.\n",
      "  with pd.option_context('mode.use_inf_as_na', True):\n"
     ]
    },
    {
     "data": {
      "text/plain": [
       "<Axes: xlabel='SalePrice', ylabel='Count'>"
      ]
     },
     "execution_count": 8,
     "metadata": {},
     "output_type": "execute_result"
    },
    {
     "data": {
      "image/png": "[encoded data removed]",
      "text/plain": [
       "<Figure size 640x480 with 1 Axes>"
      ]
     },
     "metadata": {},
     "output_type": "display_data"
    }
   ],
   "source": [
    "# plot target \n",
    "sn.histplot(target)"
   ]
  },
  {
   "cell_type": "code",
   "execution_count": 9,
   "id": "2784100e",
   "metadata": {
    "execution": {
     "iopub.execute_input": "2024-08-21T14:32:43.783778Z",
     "iopub.status.busy": "2024-08-21T14:32:43.783409Z",
     "iopub.status.idle": "2024-08-21T14:32:43.791517Z",
     "shell.execute_reply": "2024-08-21T14:32:43.790115Z"
    },
    "papermill": {
     "duration": 0.021909,
     "end_time": "2024-08-21T14:32:43.793756",
     "exception": false,
     "start_time": "2024-08-21T14:32:43.771847",
     "status": "completed"
    },
    "tags": []
   },
   "outputs": [
    {
     "name": "stdout",
     "output_type": "stream",
     "text": [
      "There are 37 features in house_data1\n"
     ]
    }
   ],
   "source": [
    "# select numeric columns\n",
    "num_data = house_data1[house_data1.select_dtypes(include='number').columns]\n",
    "print(f\"There are {num_data.shape[1]} features in house_data1\")"
   ]
  },
  {
   "cell_type": "code",
   "execution_count": 10,
   "id": "133ad512",
   "metadata": {
    "execution": {
     "iopub.execute_input": "2024-08-21T14:32:43.816237Z",
     "iopub.status.busy": "2024-08-21T14:32:43.815774Z",
     "iopub.status.idle": "2024-08-21T14:32:43.905014Z",
     "shell.execute_reply": "2024-08-21T14:32:43.903996Z"
    },
    "papermill": {
     "duration": 0.103012,
     "end_time": "2024-08-21T14:32:43.907205",
     "exception": false,
     "start_time": "2024-08-21T14:32:43.804193",
     "status": "completed"
    },
    "tags": []
   },
   "outputs": [
    {
     "data": {
      "text/html": [
       "<div>\n",
       "<style scoped>\n",
       "    .dataframe tbody tr th:only-of-type {\n",
       "        vertical-align: middle;\n",
       "    }\n",
       "\n",
       "    .dataframe tbody tr th {\n",
       "        vertical-align: top;\n",
       "    }\n",
       "\n",
       "    .dataframe thead th {\n",
       "        text-align: right;\n",
       "    }\n",
       "</style>\n",
       "<table border=\"1\" class=\"dataframe\">\n",
       "  <thead>\n",
       "    <tr style=\"text-align: right;\">\n",
       "      <th></th>\n",
       "      <th>MSSubClass</th>\n",
       "      <th>LotFrontage</th>\n",
       "      <th>LotArea</th>\n",
       "      <th>OverallQual</th>\n",
       "      <th>OverallCond</th>\n",
       "      <th>YearBuilt</th>\n",
       "      <th>YearRemodAdd</th>\n",
       "      <th>MasVnrArea</th>\n",
       "      <th>BsmtFinSF1</th>\n",
       "      <th>BsmtFinSF2</th>\n",
       "      <th>...</th>\n",
       "      <th>WoodDeckSF</th>\n",
       "      <th>OpenPorchSF</th>\n",
       "      <th>EnclosedPorch</th>\n",
       "      <th>3SsnPorch</th>\n",
       "      <th>ScreenPorch</th>\n",
       "      <th>PoolArea</th>\n",
       "      <th>MiscVal</th>\n",
       "      <th>MoSold</th>\n",
       "      <th>YrSold</th>\n",
       "      <th>SalePrice</th>\n",
       "    </tr>\n",
       "  </thead>\n",
       "  <tbody>\n",
       "    <tr>\n",
       "      <th>count</th>\n",
       "      <td>1460.000000</td>\n",
       "      <td>1201.000000</td>\n",
       "      <td>1460.000000</td>\n",
       "      <td>1460.000000</td>\n",
       "      <td>1460.000000</td>\n",
       "      <td>1460.000000</td>\n",
       "      <td>1460.000000</td>\n",
       "      <td>1452.000000</td>\n",
       "      <td>1460.000000</td>\n",
       "      <td>1460.000000</td>\n",
       "      <td>...</td>\n",
       "      <td>1460.000000</td>\n",
       "      <td>1460.000000</td>\n",
       "      <td>1460.000000</td>\n",
       "      <td>1460.000000</td>\n",
       "      <td>1460.000000</td>\n",
       "      <td>1460.000000</td>\n",
       "      <td>1460.000000</td>\n",
       "      <td>1460.000000</td>\n",
       "      <td>1460.000000</td>\n",
       "      <td>1460.000000</td>\n",
       "    </tr>\n",
       "    <tr>\n",
       "      <th>mean</th>\n",
       "      <td>56.897260</td>\n",
       "      <td>70.049958</td>\n",
       "      <td>10516.828082</td>\n",
       "      <td>6.099315</td>\n",
       "      <td>5.575342</td>\n",
       "      <td>1971.267808</td>\n",
       "      <td>1984.865753</td>\n",
       "      <td>103.685262</td>\n",
       "      <td>443.639726</td>\n",
       "      <td>46.549315</td>\n",
       "      <td>...</td>\n",
       "      <td>94.244521</td>\n",
       "      <td>46.660274</td>\n",
       "      <td>21.954110</td>\n",
       "      <td>3.409589</td>\n",
       "      <td>15.060959</td>\n",
       "      <td>2.758904</td>\n",
       "      <td>43.489041</td>\n",
       "      <td>6.321918</td>\n",
       "      <td>2007.815753</td>\n",
       "      <td>180921.195890</td>\n",
       "    </tr>\n",
       "    <tr>\n",
       "      <th>std</th>\n",
       "      <td>42.300571</td>\n",
       "      <td>24.284752</td>\n",
       "      <td>9981.264932</td>\n",
       "      <td>1.382997</td>\n",
       "      <td>1.112799</td>\n",
       "      <td>30.202904</td>\n",
       "      <td>20.645407</td>\n",
       "      <td>181.066207</td>\n",
       "      <td>456.098091</td>\n",
       "      <td>161.319273</td>\n",
       "      <td>...</td>\n",
       "      <td>125.338794</td>\n",
       "      <td>66.256028</td>\n",
       "      <td>61.119149</td>\n",
       "      <td>29.317331</td>\n",
       "      <td>55.757415</td>\n",
       "      <td>40.177307</td>\n",
       "      <td>496.123024</td>\n",
       "      <td>2.703626</td>\n",
       "      <td>1.328095</td>\n",
       "      <td>79442.502883</td>\n",
       "    </tr>\n",
       "    <tr>\n",
       "      <th>min</th>\n",
       "      <td>20.000000</td>\n",
       "      <td>21.000000</td>\n",
       "      <td>1300.000000</td>\n",
       "      <td>1.000000</td>\n",
       "      <td>1.000000</td>\n",
       "      <td>1872.000000</td>\n",
       "      <td>1950.000000</td>\n",
       "      <td>0.000000</td>\n",
       "      <td>0.000000</td>\n",
       "      <td>0.000000</td>\n",
       "      <td>...</td>\n",
       "      <td>0.000000</td>\n",
       "      <td>0.000000</td>\n",
       "      <td>0.000000</td>\n",
       "      <td>0.000000</td>\n",
       "      <td>0.000000</td>\n",
       "      <td>0.000000</td>\n",
       "      <td>0.000000</td>\n",
       "      <td>1.000000</td>\n",
       "      <td>2006.000000</td>\n",
       "      <td>34900.000000</td>\n",
       "    </tr>\n",
       "    <tr>\n",
       "      <th>25%</th>\n",
       "      <td>20.000000</td>\n",
       "      <td>59.000000</td>\n",
       "      <td>7553.500000</td>\n",
       "      <td>5.000000</td>\n",
       "      <td>5.000000</td>\n",
       "      <td>1954.000000</td>\n",
       "      <td>1967.000000</td>\n",
       "      <td>0.000000</td>\n",
       "      <td>0.000000</td>\n",
       "      <td>0.000000</td>\n",
       "      <td>...</td>\n",
       "      <td>0.000000</td>\n",
       "      <td>0.000000</td>\n",
       "      <td>0.000000</td>\n",
       "      <td>0.000000</td>\n",
       "      <td>0.000000</td>\n",
       "      <td>0.000000</td>\n",
       "      <td>0.000000</td>\n",
       "      <td>5.000000</td>\n",
       "      <td>2007.000000</td>\n",
       "      <td>129975.000000</td>\n",
       "    </tr>\n",
       "    <tr>\n",
       "      <th>50%</th>\n",
       "      <td>50.000000</td>\n",
       "      <td>69.000000</td>\n",
       "      <td>9478.500000</td>\n",
       "      <td>6.000000</td>\n",
       "      <td>5.000000</td>\n",
       "      <td>1973.000000</td>\n",
       "      <td>1994.000000</td>\n",
       "      <td>0.000000</td>\n",
       "      <td>383.500000</td>\n",
       "      <td>0.000000</td>\n",
       "      <td>...</td>\n",
       "      <td>0.000000</td>\n",
       "      <td>25.000000</td>\n",
       "      <td>0.000000</td>\n",
       "      <td>0.000000</td>\n",
       "      <td>0.000000</td>\n",
       "      <td>0.000000</td>\n",
       "      <td>0.000000</td>\n",
       "      <td>6.000000</td>\n",
       "      <td>2008.000000</td>\n",
       "      <td>163000.000000</td>\n",
       "    </tr>\n",
       "    <tr>\n",
       "      <th>75%</th>\n",
       "      <td>70.000000</td>\n",
       "      <td>80.000000</td>\n",
       "      <td>11601.500000</td>\n",
       "      <td>7.000000</td>\n",
       "      <td>6.000000</td>\n",
       "      <td>2000.000000</td>\n",
       "      <td>2004.000000</td>\n",
       "      <td>166.000000</td>\n",
       "      <td>712.250000</td>\n",
       "      <td>0.000000</td>\n",
       "      <td>...</td>\n",
       "      <td>168.000000</td>\n",
       "      <td>68.000000</td>\n",
       "      <td>0.000000</td>\n",
       "      <td>0.000000</td>\n",
       "      <td>0.000000</td>\n",
       "      <td>0.000000</td>\n",
       "      <td>0.000000</td>\n",
       "      <td>8.000000</td>\n",
       "      <td>2009.000000</td>\n",
       "      <td>214000.000000</td>\n",
       "    </tr>\n",
       "    <tr>\n",
       "      <th>max</th>\n",
       "      <td>190.000000</td>\n",
       "      <td>313.000000</td>\n",
       "      <td>215245.000000</td>\n",
       "      <td>10.000000</td>\n",
       "      <td>9.000000</td>\n",
       "      <td>2010.000000</td>\n",
       "      <td>2010.000000</td>\n",
       "      <td>1600.000000</td>\n",
       "      <td>5644.000000</td>\n",
       "      <td>1474.000000</td>\n",
       "      <td>...</td>\n",
       "      <td>857.000000</td>\n",
       "      <td>547.000000</td>\n",
       "      <td>552.000000</td>\n",
       "      <td>508.000000</td>\n",
       "      <td>480.000000</td>\n",
       "      <td>738.000000</td>\n",
       "      <td>15500.000000</td>\n",
       "      <td>12.000000</td>\n",
       "      <td>2010.000000</td>\n",
       "      <td>755000.000000</td>\n",
       "    </tr>\n",
       "  </tbody>\n",
       "</table>\n",
       "<p>8 rows × 37 columns</p>\n",
       "</div>"
      ],
      "text/plain": [
       "        MSSubClass  LotFrontage        LotArea  OverallQual  OverallCond  \\\n",
       "count  1460.000000  1201.000000    1460.000000  1460.000000  1460.000000   \n",
       "mean     56.897260    70.049958   10516.828082     6.099315     5.575342   \n",
       "std      42.300571    24.284752    9981.264932     1.382997     1.112799   \n",
       "min      20.000000    21.000000    1300.000000     1.000000     1.000000   \n",
       "25%      20.000000    59.000000    7553.500000     5.000000     5.000000   \n",
       "50%      50.000000    69.000000    9478.500000     6.000000     5.000000   \n",
       "75%      70.000000    80.000000   11601.500000     7.000000     6.000000   \n",
       "max     190.000000   313.000000  215245.000000    10.000000     9.000000   \n",
       "\n",
       "         YearBuilt  YearRemodAdd   MasVnrArea   BsmtFinSF1   BsmtFinSF2  ...  \\\n",
       "count  1460.000000   1460.000000  1452.000000  1460.000000  1460.000000  ...   \n",
       "mean   1971.267808   1984.865753   103.685262   443.639726    46.549315  ...   \n",
       "std      30.202904     20.645407   181.066207   456.098091   161.319273  ...   \n",
       "min    1872.000000   1950.000000     0.000000     0.000000     0.000000  ...   \n",
       "25%    1954.000000   1967.000000     0.000000     0.000000     0.000000  ...   \n",
       "50%    1973.000000   1994.000000     0.000000   383.500000     0.000000  ...   \n",
       "75%    2000.000000   2004.000000   166.000000   712.250000     0.000000  ...   \n",
       "max    2010.000000   2010.000000  1600.000000  5644.000000  1474.000000  ...   \n",
       "\n",
       "        WoodDeckSF  OpenPorchSF  EnclosedPorch    3SsnPorch  ScreenPorch  \\\n",
       "count  1460.000000  1460.000000    1460.000000  1460.000000  1460.000000   \n",
       "mean     94.244521    46.660274      21.954110     3.409589    15.060959   \n",
       "std     125.338794    66.256028      61.119149    29.317331    55.757415   \n",
       "min       0.000000     0.000000       0.000000     0.000000     0.000000   \n",
       "25%       0.000000     0.000000       0.000000     0.000000     0.000000   \n",
       "50%       0.000000    25.000000       0.000000     0.000000     0.000000   \n",
       "75%     168.000000    68.000000       0.000000     0.000000     0.000000   \n",
       "max     857.000000   547.000000     552.000000   508.000000   480.000000   \n",
       "\n",
       "          PoolArea       MiscVal       MoSold       YrSold      SalePrice  \n",
       "count  1460.000000   1460.000000  1460.000000  1460.000000    1460.000000  \n",
       "mean      2.758904     43.489041     6.321918  2007.815753  180921.195890  \n",
       "std      40.177307    496.123024     2.703626     1.328095   79442.502883  \n",
       "min       0.000000      0.000000     1.000000  2006.000000   34900.000000  \n",
       "25%       0.000000      0.000000     5.000000  2007.000000  129975.000000  \n",
       "50%       0.000000      0.000000     6.000000  2008.000000  163000.000000  \n",
       "75%       0.000000      0.000000     8.000000  2009.000000  214000.000000  \n",
       "max     738.000000  15500.000000    12.000000  2010.000000  755000.000000  \n",
       "\n",
       "[8 rows x 37 columns]"
      ]
     },
     "execution_count": 10,
     "metadata": {},
     "output_type": "execute_result"
    }
   ],
   "source": [
    "house_data1.describe(include = \"number\")\n"
   ]
  },
  {
   "cell_type": "code",
   "execution_count": 11,
   "id": "dd296607",
   "metadata": {
    "execution": {
     "iopub.execute_input": "2024-08-21T14:32:43.930751Z",
     "iopub.status.busy": "2024-08-21T14:32:43.929979Z",
     "iopub.status.idle": "2024-08-21T14:32:43.937811Z",
     "shell.execute_reply": "2024-08-21T14:32:43.936663Z"
    },
    "papermill": {
     "duration": 0.022052,
     "end_time": "2024-08-21T14:32:43.939950",
     "exception": false,
     "start_time": "2024-08-21T14:32:43.917898",
     "status": "completed"
    },
    "tags": []
   },
   "outputs": [
    {
     "name": "stdout",
     "output_type": "stream",
     "text": [
      "There are 43 categorical features in cat_data\n"
     ]
    }
   ],
   "source": [
    "#categorical columns \n",
    "cat_data = house_data1[house_data1.select_dtypes('object').columns]\n",
    "print(f\"There are {cat_data.shape[1]} categorical features in cat_data\")"
   ]
  },
  {
   "cell_type": "code",
   "execution_count": 12,
   "id": "f1caed28",
   "metadata": {
    "execution": {
     "iopub.execute_input": "2024-08-21T14:32:43.963822Z",
     "iopub.status.busy": "2024-08-21T14:32:43.963439Z",
     "iopub.status.idle": "2024-08-21T14:32:44.037032Z",
     "shell.execute_reply": "2024-08-21T14:32:44.036075Z"
    },
    "papermill": {
     "duration": 0.088059,
     "end_time": "2024-08-21T14:32:44.039279",
     "exception": false,
     "start_time": "2024-08-21T14:32:43.951220",
     "status": "completed"
    },
    "tags": []
   },
   "outputs": [
    {
     "data": {
      "text/html": [
       "<div>\n",
       "<style scoped>\n",
       "    .dataframe tbody tr th:only-of-type {\n",
       "        vertical-align: middle;\n",
       "    }\n",
       "\n",
       "    .dataframe tbody tr th {\n",
       "        vertical-align: top;\n",
       "    }\n",
       "\n",
       "    .dataframe thead th {\n",
       "        text-align: right;\n",
       "    }\n",
       "</style>\n",
       "<table border=\"1\" class=\"dataframe\">\n",
       "  <thead>\n",
       "    <tr style=\"text-align: right;\">\n",
       "      <th></th>\n",
       "      <th>MSZoning</th>\n",
       "      <th>Street</th>\n",
       "      <th>Alley</th>\n",
       "      <th>LotShape</th>\n",
       "      <th>LandContour</th>\n",
       "      <th>Utilities</th>\n",
       "      <th>LotConfig</th>\n",
       "      <th>LandSlope</th>\n",
       "      <th>Neighborhood</th>\n",
       "      <th>Condition1</th>\n",
       "      <th>...</th>\n",
       "      <th>GarageType</th>\n",
       "      <th>GarageFinish</th>\n",
       "      <th>GarageQual</th>\n",
       "      <th>GarageCond</th>\n",
       "      <th>PavedDrive</th>\n",
       "      <th>PoolQC</th>\n",
       "      <th>Fence</th>\n",
       "      <th>MiscFeature</th>\n",
       "      <th>SaleType</th>\n",
       "      <th>SaleCondition</th>\n",
       "    </tr>\n",
       "  </thead>\n",
       "  <tbody>\n",
       "    <tr>\n",
       "      <th>count</th>\n",
       "      <td>1460</td>\n",
       "      <td>1460</td>\n",
       "      <td>91</td>\n",
       "      <td>1460</td>\n",
       "      <td>1460</td>\n",
       "      <td>1460</td>\n",
       "      <td>1460</td>\n",
       "      <td>1460</td>\n",
       "      <td>1460</td>\n",
       "      <td>1460</td>\n",
       "      <td>...</td>\n",
       "      <td>1379</td>\n",
       "      <td>1379</td>\n",
       "      <td>1379</td>\n",
       "      <td>1379</td>\n",
       "      <td>1460</td>\n",
       "      <td>7</td>\n",
       "      <td>281</td>\n",
       "      <td>54</td>\n",
       "      <td>1460</td>\n",
       "      <td>1460</td>\n",
       "    </tr>\n",
       "    <tr>\n",
       "      <th>unique</th>\n",
       "      <td>5</td>\n",
       "      <td>2</td>\n",
       "      <td>2</td>\n",
       "      <td>4</td>\n",
       "      <td>4</td>\n",
       "      <td>2</td>\n",
       "      <td>5</td>\n",
       "      <td>3</td>\n",
       "      <td>25</td>\n",
       "      <td>9</td>\n",
       "      <td>...</td>\n",
       "      <td>6</td>\n",
       "      <td>3</td>\n",
       "      <td>5</td>\n",
       "      <td>5</td>\n",
       "      <td>3</td>\n",
       "      <td>3</td>\n",
       "      <td>4</td>\n",
       "      <td>4</td>\n",
       "      <td>9</td>\n",
       "      <td>6</td>\n",
       "    </tr>\n",
       "    <tr>\n",
       "      <th>top</th>\n",
       "      <td>RL</td>\n",
       "      <td>Pave</td>\n",
       "      <td>Grvl</td>\n",
       "      <td>Reg</td>\n",
       "      <td>Lvl</td>\n",
       "      <td>AllPub</td>\n",
       "      <td>Inside</td>\n",
       "      <td>Gtl</td>\n",
       "      <td>NAmes</td>\n",
       "      <td>Norm</td>\n",
       "      <td>...</td>\n",
       "      <td>Attchd</td>\n",
       "      <td>Unf</td>\n",
       "      <td>TA</td>\n",
       "      <td>TA</td>\n",
       "      <td>Y</td>\n",
       "      <td>Gd</td>\n",
       "      <td>MnPrv</td>\n",
       "      <td>Shed</td>\n",
       "      <td>WD</td>\n",
       "      <td>Normal</td>\n",
       "    </tr>\n",
       "    <tr>\n",
       "      <th>freq</th>\n",
       "      <td>1151</td>\n",
       "      <td>1454</td>\n",
       "      <td>50</td>\n",
       "      <td>925</td>\n",
       "      <td>1311</td>\n",
       "      <td>1459</td>\n",
       "      <td>1052</td>\n",
       "      <td>1382</td>\n",
       "      <td>225</td>\n",
       "      <td>1260</td>\n",
       "      <td>...</td>\n",
       "      <td>870</td>\n",
       "      <td>605</td>\n",
       "      <td>1311</td>\n",
       "      <td>1326</td>\n",
       "      <td>1340</td>\n",
       "      <td>3</td>\n",
       "      <td>157</td>\n",
       "      <td>49</td>\n",
       "      <td>1267</td>\n",
       "      <td>1198</td>\n",
       "    </tr>\n",
       "  </tbody>\n",
       "</table>\n",
       "<p>4 rows × 43 columns</p>\n",
       "</div>"
      ],
      "text/plain": [
       "       MSZoning Street Alley LotShape LandContour Utilities LotConfig  \\\n",
       "count      1460   1460    91     1460        1460      1460      1460   \n",
       "unique        5      2     2        4           4         2         5   \n",
       "top          RL   Pave  Grvl      Reg         Lvl    AllPub    Inside   \n",
       "freq       1151   1454    50      925        1311      1459      1052   \n",
       "\n",
       "       LandSlope Neighborhood Condition1  ... GarageType GarageFinish  \\\n",
       "count       1460         1460       1460  ...       1379         1379   \n",
       "unique         3           25          9  ...          6            3   \n",
       "top          Gtl        NAmes       Norm  ...     Attchd          Unf   \n",
       "freq        1382          225       1260  ...        870          605   \n",
       "\n",
       "       GarageQual GarageCond PavedDrive PoolQC  Fence MiscFeature SaleType  \\\n",
       "count        1379       1379       1460      7    281          54     1460   \n",
       "unique          5          5          3      3      4           4        9   \n",
       "top            TA         TA          Y     Gd  MnPrv        Shed       WD   \n",
       "freq         1311       1326       1340      3    157          49     1267   \n",
       "\n",
       "       SaleCondition  \n",
       "count           1460  \n",
       "unique             6  \n",
       "top           Normal  \n",
       "freq            1198  \n",
       "\n",
       "[4 rows x 43 columns]"
      ]
     },
     "execution_count": 12,
     "metadata": {},
     "output_type": "execute_result"
    }
   ],
   "source": [
    "house_data1.describe(include = \"object\")"
   ]
  },
  {
   "cell_type": "markdown",
   "id": "83e0e291",
   "metadata": {
    "papermill": {
     "duration": 0.010712,
     "end_time": "2024-08-21T14:32:44.061135",
     "exception": false,
     "start_time": "2024-08-21T14:32:44.050423",
     "status": "completed"
    },
    "tags": []
   },
   "source": [
    "## Missing values "
   ]
  },
  {
   "cell_type": "code",
   "execution_count": 13,
   "id": "62f58cfd",
   "metadata": {
    "execution": {
     "iopub.execute_input": "2024-08-21T14:32:44.085116Z",
     "iopub.status.busy": "2024-08-21T14:32:44.084462Z",
     "iopub.status.idle": "2024-08-21T14:32:44.098920Z",
     "shell.execute_reply": "2024-08-21T14:32:44.097878Z"
    },
    "papermill": {
     "duration": 0.028814,
     "end_time": "2024-08-21T14:32:44.101015",
     "exception": false,
     "start_time": "2024-08-21T14:32:44.072201",
     "status": "completed"
    },
    "tags": []
   },
   "outputs": [
    {
     "data": {
      "text/plain": [
       "Alley           0.937671\n",
       "MasVnrType      0.597260\n",
       "BsmtQual        0.025342\n",
       "BsmtCond        0.025342\n",
       "BsmtExposure    0.026027\n",
       "BsmtFinType1    0.025342\n",
       "BsmtFinType2    0.026027\n",
       "Electrical      0.000685\n",
       "FireplaceQu     0.472603\n",
       "GarageType      0.055479\n",
       "GarageFinish    0.055479\n",
       "GarageQual      0.055479\n",
       "GarageCond      0.055479\n",
       "PoolQC          0.995205\n",
       "Fence           0.807534\n",
       "MiscFeature     0.963014\n",
       "dtype: float64"
      ]
     },
     "execution_count": 13,
     "metadata": {},
     "output_type": "execute_result"
    }
   ],
   "source": [
    "# categorical features\n",
    "na_catCols = cat_data.columns[cat_data.isna().mean() !=0.0].tolist()\n",
    "cat_data[na_catCols].isna().mean()"
   ]
  },
  {
   "cell_type": "code",
   "execution_count": 14,
   "id": "582ab31c",
   "metadata": {
    "execution": {
     "iopub.execute_input": "2024-08-21T14:32:44.125794Z",
     "iopub.status.busy": "2024-08-21T14:32:44.124792Z",
     "iopub.status.idle": "2024-08-21T14:32:44.143705Z",
     "shell.execute_reply": "2024-08-21T14:32:44.142684Z"
    },
    "papermill": {
     "duration": 0.033741,
     "end_time": "2024-08-21T14:32:44.146098",
     "exception": false,
     "start_time": "2024-08-21T14:32:44.112357",
     "status": "completed"
    },
    "tags": []
   },
   "outputs": [
    {
     "data": {
      "text/plain": [
       "MSZoning         0.000000\n",
       "Street           0.000000\n",
       "Alley            0.937671\n",
       "LotShape         0.000000\n",
       "LandContour      0.000000\n",
       "Utilities        0.000000\n",
       "LotConfig        0.000000\n",
       "LandSlope        0.000000\n",
       "Neighborhood     0.000000\n",
       "Condition1       0.000000\n",
       "Condition2       0.000000\n",
       "BldgType         0.000000\n",
       "HouseStyle       0.000000\n",
       "RoofStyle        0.000000\n",
       "RoofMatl         0.000000\n",
       "Exterior1st      0.000000\n",
       "Exterior2nd      0.000000\n",
       "MasVnrType       0.597260\n",
       "ExterQual        0.000000\n",
       "ExterCond        0.000000\n",
       "Foundation       0.000000\n",
       "BsmtQual         0.025342\n",
       "BsmtCond         0.025342\n",
       "BsmtExposure     0.026027\n",
       "BsmtFinType1     0.025342\n",
       "BsmtFinType2     0.026027\n",
       "Heating          0.000000\n",
       "HeatingQC        0.000000\n",
       "CentralAir       0.000000\n",
       "Electrical       0.000685\n",
       "KitchenQual      0.000000\n",
       "Functional       0.000000\n",
       "FireplaceQu      0.472603\n",
       "GarageType       0.055479\n",
       "GarageFinish     0.055479\n",
       "GarageQual       0.055479\n",
       "GarageCond       0.055479\n",
       "PavedDrive       0.000000\n",
       "PoolQC           0.995205\n",
       "Fence            0.807534\n",
       "MiscFeature      0.963014\n",
       "SaleType         0.000000\n",
       "SaleCondition    0.000000\n",
       "dtype: float64"
      ]
     },
     "execution_count": 14,
     "metadata": {},
     "output_type": "execute_result"
    }
   ],
   "source": [
    "na_catCols = cat_data.columns[cat_data.isna().mean() >= 0.0].tolist()\n",
    "cat_data[na_catCols].isna().mean()"
   ]
  },
  {
   "cell_type": "markdown",
   "id": "502e865a",
   "metadata": {
    "papermill": {
     "duration": 0.011342,
     "end_time": "2024-08-21T14:32:44.169161",
     "exception": false,
     "start_time": "2024-08-21T14:32:44.157819",
     "status": "completed"
    },
    "tags": []
   },
   "source": [
    "These features have NA's proportion above 0.3. How to deal with that ?"
   ]
  },
  {
   "cell_type": "code",
   "execution_count": 15,
   "id": "df5935a1",
   "metadata": {
    "execution": {
     "iopub.execute_input": "2024-08-21T14:32:44.194830Z",
     "iopub.status.busy": "2024-08-21T14:32:44.193743Z",
     "iopub.status.idle": "2024-08-21T14:32:44.204418Z",
     "shell.execute_reply": "2024-08-21T14:32:44.203420Z"
    },
    "papermill": {
     "duration": 0.025749,
     "end_time": "2024-08-21T14:32:44.206598",
     "exception": false,
     "start_time": "2024-08-21T14:32:44.180849",
     "status": "completed"
    },
    "tags": []
   },
   "outputs": [
    {
     "data": {
      "text/plain": [
       "LotFrontage    0.177397\n",
       "MasVnrArea     0.005479\n",
       "GarageYrBlt    0.055479\n",
       "dtype: float64"
      ]
     },
     "execution_count": 15,
     "metadata": {},
     "output_type": "execute_result"
    }
   ],
   "source": [
    "# numerical features with na or missing values prop >=0.3\n",
    "na_numCols = num_data.columns[num_data.isnull().mean()> 0.0].tolist()\n",
    "num_data[na_numCols].isna().mean()"
   ]
  },
  {
   "cell_type": "markdown",
   "id": "9f645295",
   "metadata": {
    "papermill": {
     "duration": 0.011308,
     "end_time": "2024-08-21T14:32:44.229789",
     "exception": false,
     "start_time": "2024-08-21T14:32:44.218481",
     "status": "completed"
    },
    "tags": []
   },
   "source": [
    "These 3 columns has NAs. How to deal with that?"
   ]
  },
  {
   "cell_type": "code",
   "execution_count": 16,
   "id": "3716f27c",
   "metadata": {
    "execution": {
     "iopub.execute_input": "2024-08-21T14:32:44.254809Z",
     "iopub.status.busy": "2024-08-21T14:32:44.254429Z",
     "iopub.status.idle": "2024-08-21T14:32:44.259730Z",
     "shell.execute_reply": "2024-08-21T14:32:44.258383Z"
    },
    "papermill": {
     "duration": 0.020632,
     "end_time": "2024-08-21T14:32:44.262130",
     "exception": false,
     "start_time": "2024-08-21T14:32:44.241498",
     "status": "completed"
    },
    "tags": []
   },
   "outputs": [],
   "source": [
    "na_features = [na_catCols,na_numCols]"
   ]
  },
  {
   "cell_type": "code",
   "execution_count": 17,
   "id": "0f4bf747",
   "metadata": {
    "execution": {
     "iopub.execute_input": "2024-08-21T14:32:44.287638Z",
     "iopub.status.busy": "2024-08-21T14:32:44.286689Z",
     "iopub.status.idle": "2024-08-21T14:32:44.291998Z",
     "shell.execute_reply": "2024-08-21T14:32:44.290618Z"
    },
    "papermill": {
     "duration": 0.021566,
     "end_time": "2024-08-21T14:32:44.295392",
     "exception": false,
     "start_time": "2024-08-21T14:32:44.273826",
     "status": "completed"
    },
    "tags": []
   },
   "outputs": [],
   "source": [
    "X = house_data1\n",
    "y = house_data1.Alley"
   ]
  },
  {
   "cell_type": "code",
   "execution_count": 18,
   "id": "9d0daa8d",
   "metadata": {
    "execution": {
     "iopub.execute_input": "2024-08-21T14:32:44.320876Z",
     "iopub.status.busy": "2024-08-21T14:32:44.320499Z",
     "iopub.status.idle": "2024-08-21T14:32:44.328434Z",
     "shell.execute_reply": "2024-08-21T14:32:44.327335Z"
    },
    "papermill": {
     "duration": 0.023231,
     "end_time": "2024-08-21T14:32:44.330621",
     "exception": false,
     "start_time": "2024-08-21T14:32:44.307390",
     "status": "completed"
    },
    "tags": []
   },
   "outputs": [
    {
     "data": {
      "text/plain": [
       "Index([   0,    1,    2,    3,    4,    5,    6,    7,    8,    9,\n",
       "       ...\n",
       "       1449, 1450, 1451, 1452, 1453, 1455, 1456, 1457, 1458, 1459],\n",
       "      dtype='int64', length=1369)"
      ]
     },
     "execution_count": 18,
     "metadata": {},
     "output_type": "execute_result"
    }
   ],
   "source": [
    "y[y.isna()].index"
   ]
  },
  {
   "cell_type": "code",
   "execution_count": 19,
   "id": "2a623942",
   "metadata": {
    "execution": {
     "iopub.execute_input": "2024-08-21T14:32:44.356068Z",
     "iopub.status.busy": "2024-08-21T14:32:44.355329Z",
     "iopub.status.idle": "2024-08-21T14:32:44.362579Z",
     "shell.execute_reply": "2024-08-21T14:32:44.361506Z"
    },
    "papermill": {
     "duration": 0.02218,
     "end_time": "2024-08-21T14:32:44.364699",
     "exception": false,
     "start_time": "2024-08-21T14:32:44.342519",
     "status": "completed"
    },
    "tags": []
   },
   "outputs": [],
   "source": [
    "def rf_impute(X,y):\n",
    "    # features selection \n",
    "    from sklearn.ensemble import RandomForestRegressor\n",
    "    from sklearn.datasets import make_regression\n",
    "    Data = pd.DataFrame(np.array(X,y))\n",
    "    X_train = X.loc[y !=\"NaN\"].dropna(axis=1)\n",
    "    X_test = X.loc[y.isna()]\n",
    "    y_train = y.dropna()\n",
    "    y_test = y[y.isna()]\n",
    "    \n",
    "    #y_imp = y.index(y.isna)\n",
    "    X, y_train = make_regression(\n",
    "                           n_features=X.shape[1], \n",
    "                           n_informative=7,\n",
    "                           random_state=0,\n",
    "                           shuffle=False,)\n",
    "    regr = RandomForestRegressor(max_depth=3, random_state=0)\n",
    "    regr.fit(X_train, y_train)\n",
    "    return regr.predict(X_test)"
   ]
  },
  {
   "cell_type": "code",
   "execution_count": 20,
   "id": "0f3eac96",
   "metadata": {
    "execution": {
     "iopub.execute_input": "2024-08-21T14:32:44.446554Z",
     "iopub.status.busy": "2024-08-21T14:32:44.446135Z",
     "iopub.status.idle": "2024-08-21T14:32:44.450589Z",
     "shell.execute_reply": "2024-08-21T14:32:44.449595Z"
    },
    "papermill": {
     "duration": 0.076226,
     "end_time": "2024-08-21T14:32:44.452688",
     "exception": false,
     "start_time": "2024-08-21T14:32:44.376462",
     "status": "completed"
    },
    "tags": []
   },
   "outputs": [],
   "source": [
    "#rf_impute(X,y)"
   ]
  },
  {
   "cell_type": "markdown",
   "id": "820fa059",
   "metadata": {
    "papermill": {
     "duration": 0.011452,
     "end_time": "2024-08-21T14:32:44.475991",
     "exception": false,
     "start_time": "2024-08-21T14:32:44.464539",
     "status": "completed"
    },
    "tags": []
   },
   "source": [
    "TODO add cond in loop for imputing "
   ]
  },
  {
   "cell_type": "code",
   "execution_count": 21,
   "id": "57227cdb",
   "metadata": {
    "execution": {
     "iopub.execute_input": "2024-08-21T14:32:44.500876Z",
     "iopub.status.busy": "2024-08-21T14:32:44.500528Z",
     "iopub.status.idle": "2024-08-21T14:32:44.511137Z",
     "shell.execute_reply": "2024-08-21T14:32:44.510171Z"
    },
    "papermill": {
     "duration": 0.025418,
     "end_time": "2024-08-21T14:32:44.513188",
     "exception": false,
     "start_time": "2024-08-21T14:32:44.487770",
     "status": "completed"
    },
    "tags": []
   },
   "outputs": [
    {
     "data": {
      "text/plain": [
       "0.0670291095890411"
      ]
     },
     "execution_count": 21,
     "metadata": {},
     "output_type": "execute_result"
    }
   ],
   "source": [
    "# NA propoortion in house_data1\n",
    "house_data1.isna().mean().mean()"
   ]
  },
  {
   "cell_type": "code",
   "execution_count": 22,
   "id": "05205784",
   "metadata": {
    "execution": {
     "iopub.execute_input": "2024-08-21T14:32:44.539384Z",
     "iopub.status.busy": "2024-08-21T14:32:44.538671Z",
     "iopub.status.idle": "2024-08-21T14:32:44.543296Z",
     "shell.execute_reply": "2024-08-21T14:32:44.542296Z"
    },
    "papermill": {
     "duration": 0.020142,
     "end_time": "2024-08-21T14:32:44.545417",
     "exception": false,
     "start_time": "2024-08-21T14:32:44.525275",
     "status": "completed"
    },
    "tags": []
   },
   "outputs": [],
   "source": [
    "# fill with mode : doesn't change anything \n",
    "#for feature in house_data1.columns:\n",
    "    #if type(feature) == \"object\":\n",
    "        #house_data1[feature].fillna(stats.mode(house_data1[feature]))\n",
    "    #if type(feature) == \"numeric\" :\n",
    "        #house_data1[feature].fillna(stats.median(house_data1[feature]))\n",
    "# is not convenient : the most common values for rooms for e.g might not be the right one for \n",
    "#any house presenting missing value \n",
    "\n",
    "# maybe imputing by a model is a better bet ! TODO \n"
   ]
  },
  {
   "cell_type": "code",
   "execution_count": 23,
   "id": "c49a5c32",
   "metadata": {
    "execution": {
     "iopub.execute_input": "2024-08-21T14:32:44.571666Z",
     "iopub.status.busy": "2024-08-21T14:32:44.570651Z",
     "iopub.status.idle": "2024-08-21T14:32:44.581905Z",
     "shell.execute_reply": "2024-08-21T14:32:44.580867Z"
    },
    "papermill": {
     "duration": 0.026453,
     "end_time": "2024-08-21T14:32:44.583985",
     "exception": false,
     "start_time": "2024-08-21T14:32:44.557532",
     "status": "completed"
    },
    "tags": []
   },
   "outputs": [
    {
     "data": {
      "text/plain": [
       "0.0670291095890411"
      ]
     },
     "execution_count": 23,
     "metadata": {},
     "output_type": "execute_result"
    }
   ],
   "source": [
    "house_data1.isna().mean().mean()"
   ]
  },
  {
   "cell_type": "markdown",
   "id": "1fcf2dbd",
   "metadata": {
    "papermill": {
     "duration": 0.0117,
     "end_time": "2024-08-21T14:32:44.607854",
     "exception": false,
     "start_time": "2024-08-21T14:32:44.596154",
     "status": "completed"
    },
    "tags": []
   },
   "source": [
    "There is almost 7% of missing value in dataset, we will get rid of it first"
   ]
  },
  {
   "cell_type": "markdown",
   "id": "7e6a530c",
   "metadata": {
    "papermill": {
     "duration": 0.011742,
     "end_time": "2024-08-21T14:32:44.631624",
     "exception": false,
     "start_time": "2024-08-21T14:32:44.619882",
     "status": "completed"
    },
    "tags": []
   },
   "source": [
    "## Features selection"
   ]
  },
  {
   "cell_type": "code",
   "execution_count": 24,
   "id": "5b7c3e13",
   "metadata": {
    "execution": {
     "iopub.execute_input": "2024-08-21T14:32:44.657531Z",
     "iopub.status.busy": "2024-08-21T14:32:44.657101Z",
     "iopub.status.idle": "2024-08-21T14:32:44.664427Z",
     "shell.execute_reply": "2024-08-21T14:32:44.663264Z"
    },
    "papermill": {
     "duration": 0.022821,
     "end_time": "2024-08-21T14:32:44.666524",
     "exception": false,
     "start_time": "2024-08-21T14:32:44.643703",
     "status": "completed"
    },
    "tags": []
   },
   "outputs": [
    {
     "name": "stdout",
     "output_type": "stream",
     "text": [
      "house_data2 has shape (1460, 37)\n"
     ]
    }
   ],
   "source": [
    "# drop features with na prop > 0.2\n",
    "house_data2 = house_data1.drop(na_catCols,axis=1)\n",
    "print(f\"house_data2 has shape {house_data2.shape}\")"
   ]
  },
  {
   "cell_type": "code",
   "execution_count": 25,
   "id": "3dd1c0df",
   "metadata": {
    "execution": {
     "iopub.execute_input": "2024-08-21T14:32:44.693113Z",
     "iopub.status.busy": "2024-08-21T14:32:44.692193Z",
     "iopub.status.idle": "2024-08-21T14:32:44.699782Z",
     "shell.execute_reply": "2024-08-21T14:32:44.698826Z"
    },
    "papermill": {
     "duration": 0.023105,
     "end_time": "2024-08-21T14:32:44.701861",
     "exception": false,
     "start_time": "2024-08-21T14:32:44.678756",
     "status": "completed"
    },
    "tags": []
   },
   "outputs": [
    {
     "data": {
      "text/plain": [
       "0.006442058496853018"
      ]
     },
     "execution_count": 25,
     "metadata": {},
     "output_type": "execute_result"
    }
   ],
   "source": [
    "house_data2.isna().mean().mean()"
   ]
  },
  {
   "cell_type": "code",
   "execution_count": 26,
   "id": "01387cdb",
   "metadata": {
    "execution": {
     "iopub.execute_input": "2024-08-21T14:32:44.727970Z",
     "iopub.status.busy": "2024-08-21T14:32:44.727614Z",
     "iopub.status.idle": "2024-08-21T14:32:44.734710Z",
     "shell.execute_reply": "2024-08-21T14:32:44.733635Z"
    },
    "papermill": {
     "duration": 0.023001,
     "end_time": "2024-08-21T14:32:44.737068",
     "exception": false,
     "start_time": "2024-08-21T14:32:44.714067",
     "status": "completed"
    },
    "tags": []
   },
   "outputs": [
    {
     "name": "stdout",
     "output_type": "stream",
     "text": [
      "house_data3 shape :(1460, 34)\n"
     ]
    }
   ],
   "source": [
    "#drop features  with Nas \n",
    "house_data3 = house_data2.dropna(axis = 1)\n",
    "print(f\"house_data3 shape :{house_data3.shape}\")"
   ]
  },
  {
   "cell_type": "code",
   "execution_count": 27,
   "id": "2b9dadf3",
   "metadata": {
    "execution": {
     "iopub.execute_input": "2024-08-21T14:32:44.763557Z",
     "iopub.status.busy": "2024-08-21T14:32:44.763178Z",
     "iopub.status.idle": "2024-08-21T14:32:44.769642Z",
     "shell.execute_reply": "2024-08-21T14:32:44.768755Z"
    },
    "papermill": {
     "duration": 0.022407,
     "end_time": "2024-08-21T14:32:44.772007",
     "exception": false,
     "start_time": "2024-08-21T14:32:44.749600",
     "status": "completed"
    },
    "tags": []
   },
   "outputs": [
    {
     "name": "stdout",
     "output_type": "stream",
     "text": [
      "There is no missing value in house_data3\n"
     ]
    }
   ],
   "source": [
    "# missing values check\n",
    "if house_data3.isna().mean().sum() == 0.0 :\n",
    "    print(\"There is no missing value in house_data3\")\n",
    "else:\n",
    "    print(\"missing values still in house_data3\")"
   ]
  },
  {
   "cell_type": "markdown",
   "id": "dab02174",
   "metadata": {
    "papermill": {
     "duration": 0.011953,
     "end_time": "2024-08-21T14:32:44.796382",
     "exception": false,
     "start_time": "2024-08-21T14:32:44.784429",
     "status": "completed"
    },
    "tags": []
   },
   "source": [
    "### note : we might also impute missing values  with random forest for example !"
   ]
  },
  {
   "cell_type": "code",
   "execution_count": 28,
   "id": "5751d4ff",
   "metadata": {
    "execution": {
     "iopub.execute_input": "2024-08-21T14:32:44.823128Z",
     "iopub.status.busy": "2024-08-21T14:32:44.822095Z",
     "iopub.status.idle": "2024-08-21T14:32:44.828790Z",
     "shell.execute_reply": "2024-08-21T14:32:44.827709Z"
    },
    "papermill": {
     "duration": 0.022482,
     "end_time": "2024-08-21T14:32:44.831102",
     "exception": false,
     "start_time": "2024-08-21T14:32:44.808620",
     "status": "completed"
    },
    "tags": []
   },
   "outputs": [
    {
     "name": "stdout",
     "output_type": "stream",
     "text": [
      "Removed features proportion is 0.5800000000000001, though, we get rid of 58.00000000000001% of potential information 🤔\n"
     ]
    }
   ],
   "source": [
    "prop = 1 - round(house_data3.shape[1]/house_data.shape[1],2)\n",
    "print(\"Removed features proportion is {}, though, we get rid of {}% of \\\n",
    "potential information 🤔\".format(prop,prop*1e2)) "
   ]
  },
  {
   "cell_type": "code",
   "execution_count": 29,
   "id": "a285454b",
   "metadata": {
    "execution": {
     "iopub.execute_input": "2024-08-21T14:32:44.857850Z",
     "iopub.status.busy": "2024-08-21T14:32:44.857458Z",
     "iopub.status.idle": "2024-08-21T14:32:44.862367Z",
     "shell.execute_reply": "2024-08-21T14:32:44.861291Z"
    },
    "papermill": {
     "duration": 0.020613,
     "end_time": "2024-08-21T14:32:44.864456",
     "exception": false,
     "start_time": "2024-08-21T14:32:44.843843",
     "status": "completed"
    },
    "tags": []
   },
   "outputs": [],
   "source": [
    "# delete useless df\n",
    "del house_data ,house_data1, house_data2"
   ]
  },
  {
   "cell_type": "code",
   "execution_count": 30,
   "id": "5ed8f37b",
   "metadata": {
    "execution": {
     "iopub.execute_input": "2024-08-21T14:32:44.891236Z",
     "iopub.status.busy": "2024-08-21T14:32:44.890580Z",
     "iopub.status.idle": "2024-08-21T14:32:45.593585Z",
     "shell.execute_reply": "2024-08-21T14:32:45.592413Z"
    },
    "papermill": {
     "duration": 0.719077,
     "end_time": "2024-08-21T14:32:45.596073",
     "exception": false,
     "start_time": "2024-08-21T14:32:44.876996",
     "status": "completed"
    },
    "tags": []
   },
   "outputs": [
    {
     "data": {
      "text/html": [
       "<style>#sk-container-id-1 {color: black;background-color: white;}#sk-container-id-1 pre{padding: 0;}#sk-container-id-1 div.sk-toggleable {background-color: white;}#sk-container-id-1 label.sk-toggleable__label {cursor: pointer;display: block;width: 100%;margin-bottom: 0;padding: 0.3em;box-sizing: border-box;text-align: center;}#sk-container-id-1 label.sk-toggleable__label-arrow:before {content: \"▸\";float: left;margin-right: 0.25em;color: #696969;}#sk-container-id-1 label.sk-toggleable__label-arrow:hover:before {color: black;}#sk-container-id-1 div.sk-estimator:hover label.sk-toggleable__label-arrow:before {color: black;}#sk-container-id-1 div.sk-toggleable__content {max-height: 0;max-width: 0;overflow: hidden;text-align: left;background-color: #f0f8ff;}#sk-container-id-1 div.sk-toggleable__content pre {margin: 0.2em;color: black;border-radius: 0.25em;background-color: #f0f8ff;}#sk-container-id-1 input.sk-toggleable__control:checked~div.sk-toggleable__content {max-height: 200px;max-width: 100%;overflow: auto;}#sk-container-id-1 input.sk-toggleable__control:checked~label.sk-toggleable__label-arrow:before {content: \"▾\";}#sk-container-id-1 div.sk-estimator input.sk-toggleable__control:checked~label.sk-toggleable__label {background-color: #d4ebff;}#sk-container-id-1 div.sk-label input.sk-toggleable__control:checked~label.sk-toggleable__label {background-color: #d4ebff;}#sk-container-id-1 input.sk-hidden--visually {border: 0;clip: rect(1px 1px 1px 1px);clip: rect(1px, 1px, 1px, 1px);height: 1px;margin: -1px;overflow: hidden;padding: 0;position: absolute;width: 1px;}#sk-container-id-1 div.sk-estimator {font-family: monospace;background-color: #f0f8ff;border: 1px dotted black;border-radius: 0.25em;box-sizing: border-box;margin-bottom: 0.5em;}#sk-container-id-1 div.sk-estimator:hover {background-color: #d4ebff;}#sk-container-id-1 div.sk-parallel-item::after {content: \"\";width: 100%;border-bottom: 1px solid gray;flex-grow: 1;}#sk-container-id-1 div.sk-label:hover label.sk-toggleable__label {background-color: #d4ebff;}#sk-container-id-1 div.sk-serial::before {content: \"\";position: absolute;border-left: 1px solid gray;box-sizing: border-box;top: 0;bottom: 0;left: 50%;z-index: 0;}#sk-container-id-1 div.sk-serial {display: flex;flex-direction: column;align-items: center;background-color: white;padding-right: 0.2em;padding-left: 0.2em;position: relative;}#sk-container-id-1 div.sk-item {position: relative;z-index: 1;}#sk-container-id-1 div.sk-parallel {display: flex;align-items: stretch;justify-content: center;background-color: white;position: relative;}#sk-container-id-1 div.sk-item::before, #sk-container-id-1 div.sk-parallel-item::before {content: \"\";position: absolute;border-left: 1px solid gray;box-sizing: border-box;top: 0;bottom: 0;left: 50%;z-index: -1;}#sk-container-id-1 div.sk-parallel-item {display: flex;flex-direction: column;z-index: 1;position: relative;background-color: white;}#sk-container-id-1 div.sk-parallel-item:first-child::after {align-self: flex-end;width: 50%;}#sk-container-id-1 div.sk-parallel-item:last-child::after {align-self: flex-start;width: 50%;}#sk-container-id-1 div.sk-parallel-item:only-child::after {width: 0;}#sk-container-id-1 div.sk-dashed-wrapped {border: 1px dashed gray;margin: 0 0.4em 0.5em 0.4em;box-sizing: border-box;padding-bottom: 0.4em;background-color: white;}#sk-container-id-1 div.sk-label label {font-family: monospace;font-weight: bold;display: inline-block;line-height: 1.2em;}#sk-container-id-1 div.sk-label-container {text-align: center;}#sk-container-id-1 div.sk-container {/* jupyter's `normalize.less` sets `[hidden] { display: none; }` but bootstrap.min.css set `[hidden] { display: none !important; }` so we also need the `!important` here to be able to override the default hidden behavior on the sphinx rendered scikit-learn.org. See: https://github.com/scikit-learn/scikit-learn/issues/21755 */display: inline-block !important;position: relative;}#sk-container-id-1 div.sk-text-repr-fallback {display: none;}</style><div id=\"sk-container-id-1\" class=\"sk-top-container\"><div class=\"sk-text-repr-fallback\"><pre>RandomForestRegressor(max_depth=3, random_state=0)</pre><b>In a Jupyter environment, please rerun this cell to show the HTML representation or trust the notebook. <br />On GitHub, the HTML representation is unable to render, please try loading this page with nbviewer.org.</b></div><div class=\"sk-container\" hidden><div class=\"sk-item\"><div class=\"sk-estimator sk-toggleable\"><input class=\"sk-toggleable__control sk-hidden--visually\" id=\"sk-estimator-id-1\" type=\"checkbox\" checked><label for=\"sk-estimator-id-1\" class=\"sk-toggleable__label sk-toggleable__label-arrow\">RandomForestRegressor</label><div class=\"sk-toggleable__content\"><pre>RandomForestRegressor(max_depth=3, random_state=0)</pre></div></div></div></div></div>"
      ],
      "text/plain": [
       "RandomForestRegressor(max_depth=3, random_state=0)"
      ]
     },
     "execution_count": 30,
     "metadata": {},
     "output_type": "execute_result"
    }
   ],
   "source": [
    "# features selection \n",
    "from sklearn.ensemble import RandomForestRegressor\n",
    "from sklearn.datasets import make_regression\n",
    "X = house_data3\n",
    "y = target\n",
    "X, y = make_regression(\n",
    "                       n_features=X.shape[1], \n",
    "                       n_informative=7,\n",
    "                       random_state=0,\n",
    "                       shuffle=False,)\n",
    "regr = RandomForestRegressor(max_depth=3, random_state=0)\n",
    "regr.fit(X, y)\n",
    "#print(regr.predict([[0, 0, 0, 0]]))\n"
   ]
  },
  {
   "cell_type": "code",
   "execution_count": 31,
   "id": "16dd6028",
   "metadata": {
    "execution": {
     "iopub.execute_input": "2024-08-21T14:32:45.624186Z",
     "iopub.status.busy": "2024-08-21T14:32:45.623737Z",
     "iopub.status.idle": "2024-08-21T14:32:45.639611Z",
     "shell.execute_reply": "2024-08-21T14:32:45.638499Z"
    },
    "papermill": {
     "duration": 0.033004,
     "end_time": "2024-08-21T14:32:45.642138",
     "exception": false,
     "start_time": "2024-08-21T14:32:45.609134",
     "status": "completed"
    },
    "tags": []
   },
   "outputs": [
    {
     "data": {
      "text/plain": [
       "YearBuilt      0.327374\n",
       "BsmtFinSF1     0.289436\n",
       "OverallQual    0.160165\n",
       "MSSubClass     0.037452\n",
       "OverallCond    0.036543\n",
       "LotArea        0.024813\n",
       "dtype: float64"
      ]
     },
     "execution_count": 31,
     "metadata": {},
     "output_type": "execute_result"
    }
   ],
   "source": [
    "forest_importances = pd.Series(regr.feature_importances_,index = house_data3.columns)\n",
    "#fig, ax = plt.subplots()\n",
    "forest_importances.sort_values(ascending= False)[:6]"
   ]
  },
  {
   "cell_type": "code",
   "execution_count": 32,
   "id": "c479cd64",
   "metadata": {
    "execution": {
     "iopub.execute_input": "2024-08-21T14:32:45.670287Z",
     "iopub.status.busy": "2024-08-21T14:32:45.669522Z",
     "iopub.status.idle": "2024-08-21T14:32:45.675644Z",
     "shell.execute_reply": "2024-08-21T14:32:45.674466Z"
    },
    "papermill": {
     "duration": 0.022517,
     "end_time": "2024-08-21T14:32:45.677776",
     "exception": false,
     "start_time": "2024-08-21T14:32:45.655259",
     "status": "completed"
    },
    "tags": []
   },
   "outputs": [],
   "source": [
    "house_data4 = house_data3[forest_importances.sort_values(ascending= False).index[:6]]"
   ]
  },
  {
   "cell_type": "code",
   "execution_count": 33,
   "id": "af4704b2",
   "metadata": {
    "execution": {
     "iopub.execute_input": "2024-08-21T14:32:45.705840Z",
     "iopub.status.busy": "2024-08-21T14:32:45.704658Z",
     "iopub.status.idle": "2024-08-21T14:32:45.921999Z",
     "shell.execute_reply": "2024-08-21T14:32:45.920922Z"
    },
    "papermill": {
     "duration": 0.233502,
     "end_time": "2024-08-21T14:32:45.924151",
     "exception": false,
     "start_time": "2024-08-21T14:32:45.690649",
     "status": "completed"
    },
    "tags": []
   },
   "outputs": [
    {
     "data": {
      "text/plain": [
       "<Axes: >"
      ]
     },
     "execution_count": 33,
     "metadata": {},
     "output_type": "execute_result"
    },
    {
     "data": {
      "image/png": "[encoded data removed]",
      "text/plain": [
       "<Figure size 640x480 with 1 Axes>"
      ]
     },
     "metadata": {},
     "output_type": "display_data"
    }
   ],
   "source": [
    "# plot features importance (forest importance) \n",
    "forest_importances.sort_values(ascending= False)[:6].plot.bar()"
   ]
  },
  {
   "cell_type": "markdown",
   "id": "a14d0824",
   "metadata": {
    "papermill": {
     "duration": 0.013338,
     "end_time": "2024-08-21T14:32:45.952975",
     "exception": false,
     "start_time": "2024-08-21T14:32:45.939637",
     "status": "completed"
    },
    "tags": []
   },
   "source": [
    "To be continued 😉..."
   ]
  }
 ],
 "metadata": {
  "kaggle": {
   "accelerator": "none",
   "dataSources": [
    {
     "databundleVersionId": 868283,
     "sourceId": 5407,
     "sourceType": "competition"
    }
   ],
   "dockerImageVersionId": 30746,
   "isGpuEnabled": false,
   "isInternetEnabled": false,
   "language": "python",
   "sourceType": "notebook"
  },
  "kernelspec": {
   "display_name": "Python 3",
   "language": "python",
   "name": "python3"
  },
  "language_info": {
   "codemirror_mode": {
    "name": "ipython",
    "version": 3
   },
   "file_extension": ".py",
   "mimetype": "text/x-python",
   "name": "python",
   "nbconvert_exporter": "python",
   "pygments_lexer": "ipython3",
   "version": "3.10.13"
  },
  "papermill": {
   "default_parameters": {},
   "duration": 8.808781,
   "end_time": "2024-08-21T14:32:46.587501",
   "environment_variables": {},
   "exception": null,
   "input_path": "__notebook__.ipynb",
   "output_path": "__notebook__.ipynb",
   "parameters": {},
   "start_time": "2024-08-21T14:32:37.778720",
   "version": "2.5.0"
  }
 },
 "nbformat": 4,
 "nbformat_minor": 5
}
