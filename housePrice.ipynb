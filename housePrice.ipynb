{
 "cells": [
  {
   "cell_type": "code",
   "execution_count": 129,
   "metadata": {
    "vscode": {
     "languageId": "r"
    }
   },
   "outputs": [],
   "source": [
    "rm(list = ls())"
   ]
  },
  {
   "cell_type": "code",
   "execution_count": 130,
   "metadata": {
    "vscode": {
     "languageId": "r"
    }
   },
   "outputs": [],
   "source": [
    "# libraries\n",
    "suppressMessages(library(tidyverse))\n",
    "library(broom)"
   ]
  },
  {
   "cell_type": "code",
   "execution_count": 131,
   "metadata": {
    "vscode": {
     "languageId": "r"
    }
   },
   "outputs": [],
   "source": [
    "Data <- read.csv(\"/Users/mpaga/Downloads/train.csv\",sep=\",\")"
   ]
  },
  {
   "cell_type": "code",
   "execution_count": 132,
   "metadata": {
    "vscode": {
     "languageId": "r"
    }
   },
   "outputs": [
    {
     "data": {
      "text/plain": [
       "[1] 1460   81"
      ]
     },
     "execution_count": null,
     "metadata": {},
     "output_type": "execute_result"
    }
   ],
   "source": [
    "dim(Data)"
   ]
  },
  {
   "cell_type": "code",
   "execution_count": 133,
   "metadata": {
    "vscode": {
     "languageId": "r"
    }
   },
   "outputs": [
    {
     "data": {
      "text/plain": [
       " [1] \"Id\"            \"MSSubClass\"    \"MSZoning\"      \"LotFrontage\"   \"LotArea\"      \n",
       " [6] \"Street\"        \"Alley\"         \"LotShape\"      \"LandContour\"   \"Utilities\"    \n",
       "[11] \"LotConfig\"     \"LandSlope\"     \"Neighborhood\"  \"Condition1\"    \"Condition2\"   \n",
       "[16] \"BldgType\"      \"HouseStyle\"    \"OverallQual\"   \"OverallCond\"   \"YearBuilt\"    \n",
       "[21] \"YearRemodAdd\"  \"RoofStyle\"     \"RoofMatl\"      \"Exterior1st\"   \"Exterior2nd\"  \n",
       "[26] \"MasVnrType\"    \"MasVnrArea\"    \"ExterQual\"     \"ExterCond\"     \"Foundation\"   \n",
       "[31] \"BsmtQual\"      \"BsmtCond\"      \"BsmtExposure\"  \"BsmtFinType1\"  \"BsmtFinSF1\"   \n",
       "[36] \"BsmtFinType2\"  \"BsmtFinSF2\"    \"BsmtUnfSF\"     \"TotalBsmtSF\"   \"Heating\"      \n",
       "[41] \"HeatingQC\"     \"CentralAir\"    \"Electrical\"    \"X1stFlrSF\"     \"X2ndFlrSF\"    \n",
       "[46] \"LowQualFinSF\"  \"GrLivArea\"     \"BsmtFullBath\"  \"BsmtHalfBath\"  \"FullBath\"     \n",
       "[51] \"HalfBath\"      \"BedroomAbvGr\"  \"KitchenAbvGr\"  \"KitchenQual\"   \"TotRmsAbvGrd\" \n",
       "[56] \"Functional\"    \"Fireplaces\"    \"FireplaceQu\"   \"GarageType\"    \"GarageYrBlt\"  \n",
       "[61] \"GarageFinish\"  \"GarageCars\"    \"GarageArea\"    \"GarageQual\"    \"GarageCond\"   \n",
       "[66] \"PavedDrive\"    \"WoodDeckSF\"    \"OpenPorchSF\"   \"EnclosedPorch\" \"X3SsnPorch\"   \n",
       "[71] \"ScreenPorch\"   \"PoolArea\"      \"PoolQC\"        \"Fence\"         \"MiscFeature\"  \n",
       "[76] \"MiscVal\"       \"MoSold\"        \"YrSold\"        \"SaleType\"      \"SaleCondition\"\n",
       "[81] \"SalePrice\"    "
      ]
     },
     "execution_count": null,
     "metadata": {},
     "output_type": "execute_result"
    }
   ],
   "source": [
    "names(Data)"
   ]
  },
  {
   "cell_type": "code",
   "execution_count": 134,
   "metadata": {
    "vscode": {
     "languageId": "r"
    }
   },
   "outputs": [
    {
     "data": {
      "text/plain": [
       "[1] 1460   80"
      ]
     },
     "execution_count": null,
     "metadata": {},
     "output_type": "execute_result"
    }
   ],
   "source": [
    "#remove Id colum\n",
    "Data[\"Id\"] <- NULL\n",
    "dim(Data)"
   ]
  },
  {
   "cell_type": "code",
   "execution_count": 135,
   "metadata": {
    "vscode": {
     "languageId": "r"
    }
   },
   "outputs": [],
   "source": [
    "# numeric data\n",
    "numData <- Data |> \n",
    "  select_if(is.numeric) "
   ]
  },
  {
   "cell_type": "code",
   "execution_count": 136,
   "metadata": {
    "vscode": {
     "languageId": "r"
    }
   },
   "outputs": [],
   "source": [
    "hist(Data$SalePrice)"
   ]
  },
  {
   "cell_type": "code",
   "execution_count": 137,
   "metadata": {
    "vscode": {
     "languageId": "r"
    }
   },
   "outputs": [
    {
     "data": {
      "text/plain": [
       "   Min. 1st Qu.  Median    Mean 3rd Qu.    Max. \n",
       "  34900  129975  163000  180921  214000  755000 "
      ]
     },
     "execution_count": null,
     "metadata": {},
     "output_type": "execute_result"
    }
   ],
   "source": [
    "summary(Data$SalePrice)"
   ]
  },
  {
   "cell_type": "code",
   "execution_count": 138,
   "metadata": {
    "vscode": {
     "languageId": "r"
    }
   },
   "outputs": [],
   "source": [
    "skimr::skim_without_charts(Data,where(is.numeric))-> num_skimData"
   ]
  },
  {
   "cell_type": "markdown",
   "metadata": {},
   "source": []
  },
  {
   "cell_type": "code",
   "execution_count": 139,
   "metadata": {
    "vscode": {
     "languageId": "r"
    }
   },
   "outputs": [
    {
     "data": {
      "text/plain": [
       "[1] \"LotFrontage\" \"MasVnrArea\"  \"GarageYrBlt\""
      ]
     },
     "execution_count": null,
     "metadata": {},
     "output_type": "execute_result"
    }
   ],
   "source": [
    "(numVal_na <- num_skimData$skim_variable[num_skimData$n_missing !=0] )"
   ]
  },
  {
   "cell_type": "code",
   "execution_count": 140,
   "metadata": {
    "vscode": {
     "languageId": "r"
    }
   },
   "outputs": [],
   "source": [
    "skimr::skim_without_charts(Data,where(is.character))-> cat_skimData"
   ]
  },
  {
   "cell_type": "code",
   "execution_count": 141,
   "metadata": {
    "vscode": {
     "languageId": "r"
    }
   },
   "outputs": [
    {
     "data": {
      "text/plain": [
       "── Data Summary ────────────────────────\n",
       "                           Values\n",
       "Name                       Data  \n",
       "Number of rows             1460  \n",
       "Number of columns          80    \n",
       "_______________________          \n",
       "Column type frequency:           \n",
       "  character                43    \n",
       "________________________         \n",
       "Group variables            None  "
      ]
     },
     "execution_count": null,
     "metadata": {},
     "output_type": "execute_result"
    }
   ],
   "source": [
    "summary(cat_skimData)"
   ]
  },
  {
   "cell_type": "markdown",
   "metadata": {},
   "source": [
    "Let's impute some of these numerical features"
   ]
  },
  {
   "cell_type": "code",
   "execution_count": 142,
   "metadata": {
    "vscode": {
     "languageId": "r"
    }
   },
   "outputs": [
    {
     "data": {
      "text/plain": [
       "LotFrontage  MasVnrArea GarageYrBlt \n",
       "0.177397260 0.005479452 0.055479452 "
      ]
     },
     "execution_count": null,
     "metadata": {},
     "output_type": "execute_result"
    }
   ],
   "source": [
    "colMeans(is.na(Data[numVal_na]))"
   ]
  },
  {
   "cell_type": "code",
   "execution_count": 143,
   "metadata": {
    "vscode": {
     "languageId": "r"
    }
   },
   "outputs": [],
   "source": [
    "# list of num featute to impute\n",
    "imputeVal_list <- apply(Data[numVal_na],2, FUN = \"median\",na.rm = T,simplify = list)"
   ]
  },
  {
   "cell_type": "code",
   "execution_count": 144,
   "metadata": {
    "vscode": {
     "languageId": "r"
    }
   },
   "outputs": [],
   "source": [
    "#impute numerical features \n",
    "Data[numVal_na] <- replace_na(Data[numVal_na] ,\n",
    "                              replace = imputeVal_list\n",
    ")"
   ]
  },
  {
   "cell_type": "code",
   "execution_count": 145,
   "metadata": {
    "vscode": {
     "languageId": "r"
    }
   },
   "outputs": [
    {
     "data": {
      "text/plain": [
       "LotFrontage  MasVnrArea GarageYrBlt \n",
       "          0           0           0 "
      ]
     },
     "execution_count": null,
     "metadata": {},
     "output_type": "execute_result"
    }
   ],
   "source": [
    "# check  na\n",
    "colMeans(is.na(Data[numVal_na]))"
   ]
  },
  {
   "cell_type": "code",
   "execution_count": 146,
   "metadata": {
    "vscode": {
     "languageId": "r"
    }
   },
   "outputs": [
    {
     "data": {
      "text/plain": [
       "[1] 1460"
      ]
     },
     "execution_count": null,
     "metadata": {},
     "output_type": "execute_result"
    }
   ],
   "source": [
    "Data |> \n",
    "  select_if(is.numeric) |> \n",
    "  unique() |> \n",
    "  nrow()"
   ]
  },
  {
   "cell_type": "code",
   "execution_count": 147,
   "metadata": {
    "vscode": {
     "languageId": "r"
    }
   },
   "outputs": [
    {
     "data": {
      "text/plain": [
       "[1] 28"
      ]
     },
     "execution_count": null,
     "metadata": {},
     "output_type": "execute_result"
    }
   ],
   "source": [
    "Data |> \n",
    "  select_if(is.numeric)  ->numData \n",
    "  lm(SalePrice~.,numData) |> \n",
    "    summary() |> \n",
    "    tidy() |> \n",
    "    filter(p.value <=0.5) |> \n",
    "    nrow()"
   ]
  },
  {
   "cell_type": "markdown",
   "metadata": {},
   "source": [
    "28 numerical features have predictive effect on target feature. "
   ]
  },
  {
   "cell_type": "code",
   "execution_count": 148,
   "metadata": {
    "vscode": {
     "languageId": "r"
    }
   },
   "outputs": [],
   "source": [
    "# correlation \n",
    "for (feature in names(numData)[-1]){\n",
    "  if (cor(numData[names(numData)][1],numData[feature]) >= 0.8 ) print(feature)\n",
    "}"
   ]
  },
  {
   "cell_type": "markdown",
   "metadata": {},
   "source": [
    "There is no carrelated features in numeric features "
   ]
  },
  {
   "cell_type": "markdown",
   "metadata": {},
   "source": [
    "cat var feat engineering  "
   ]
  },
  {
   "cell_type": "code",
   "execution_count": 149,
   "metadata": {
    "vscode": {
     "languageId": "r"
    }
   },
   "outputs": [
    {
     "data": {
      "text/plain": [
       "[1] 16"
      ]
     },
     "execution_count": null,
     "metadata": {},
     "output_type": "execute_result"
    }
   ],
   "source": [
    "# n cat features presenting missing values \n",
    "sum(cat_skimData$n_missing  !=0)"
   ]
  },
  {
   "cell_type": "markdown",
   "metadata": {},
   "source": [
    "16 features have missing values or NA"
   ]
  },
  {
   "cell_type": "markdown",
   "metadata": {},
   "source": [
    "let's use random forest to predict missing values "
   ]
  },
  {
   "cell_type": "markdown",
   "metadata": {},
   "source": [
    "to be continued 😉!"
   ]
  }
 ],
 "metadata": {
  "language_info": {
   "name": "python"
  }
 },
 "nbformat": 4,
 "nbformat_minor": 2
}
