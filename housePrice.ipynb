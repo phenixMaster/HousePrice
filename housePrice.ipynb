{
 "cells": [
  {
   "cell_type": "code",
   "execution_count": 81,
   "metadata": {
    "vscode": {
     "languageId": "r"
    }
   },
   "outputs": [],
   "source": [
    "rm(list = ls())"
   ]
  },
  {
   "cell_type": "code",
   "execution_count": 82,
   "metadata": {
    "vscode": {
     "languageId": "r"
    }
   },
   "outputs": [],
   "source": [
    "# libraries\n",
    "suppressMessages({\n",
    "  library(tidyverse)\n",
    "  library(broom)\n",
    "  library(ranger)\n",
    "}\n",
    ")"
   ]
  },
  {
   "cell_type": "code",
   "execution_count": 83,
   "metadata": {
    "vscode": {
     "languageId": "r"
    }
   },
   "outputs": [],
   "source": [
    "Data <- read.csv(\"/Users/mpaga/Downloads/train.csv\",sep=\",\")"
   ]
  },
  {
   "cell_type": "code",
   "execution_count": 84,
   "metadata": {
    "vscode": {
     "languageId": "r"
    }
   },
   "outputs": [
    {
     "data": {
      "text/plain": [
       "[1] 1460   81"
      ]
     },
     "execution_count": null,
     "metadata": {},
     "output_type": "execute_result"
    }
   ],
   "source": [
    "dim(Data)"
   ]
  },
  {
   "cell_type": "code",
   "execution_count": 85,
   "metadata": {
    "vscode": {
     "languageId": "r"
    }
   },
   "outputs": [
    {
     "data": {
      "text/plain": [
       " [1] \"Id\"            \"MSSubClass\"    \"MSZoning\"      \"LotFrontage\"   \"LotArea\"      \n",
       " [6] \"Street\"        \"Alley\"         \"LotShape\"      \"LandContour\"   \"Utilities\"    \n",
       "[11] \"LotConfig\"     \"LandSlope\"     \"Neighborhood\"  \"Condition1\"    \"Condition2\"   \n",
       "[16] \"BldgType\"      \"HouseStyle\"    \"OverallQual\"   \"OverallCond\"   \"YearBuilt\"    \n",
       "[21] \"YearRemodAdd\"  \"RoofStyle\"     \"RoofMatl\"      \"Exterior1st\"   \"Exterior2nd\"  \n",
       "[26] \"MasVnrType\"    \"MasVnrArea\"    \"ExterQual\"     \"ExterCond\"     \"Foundation\"   \n",
       "[31] \"BsmtQual\"      \"BsmtCond\"      \"BsmtExposure\"  \"BsmtFinType1\"  \"BsmtFinSF1\"   \n",
       "[36] \"BsmtFinType2\"  \"BsmtFinSF2\"    \"BsmtUnfSF\"     \"TotalBsmtSF\"   \"Heating\"      \n",
       "[41] \"HeatingQC\"     \"CentralAir\"    \"Electrical\"    \"X1stFlrSF\"     \"X2ndFlrSF\"    \n",
       "[46] \"LowQualFinSF\"  \"GrLivArea\"     \"BsmtFullBath\"  \"BsmtHalfBath\"  \"FullBath\"     \n",
       "[51] \"HalfBath\"      \"BedroomAbvGr\"  \"KitchenAbvGr\"  \"KitchenQual\"   \"TotRmsAbvGrd\" \n",
       "[56] \"Functional\"    \"Fireplaces\"    \"FireplaceQu\"   \"GarageType\"    \"GarageYrBlt\"  \n",
       "[61] \"GarageFinish\"  \"GarageCars\"    \"GarageArea\"    \"GarageQual\"    \"GarageCond\"   \n",
       "[66] \"PavedDrive\"    \"WoodDeckSF\"    \"OpenPorchSF\"   \"EnclosedPorch\" \"X3SsnPorch\"   \n",
       "[71] \"ScreenPorch\"   \"PoolArea\"      \"PoolQC\"        \"Fence\"         \"MiscFeature\"  \n",
       "[76] \"MiscVal\"       \"MoSold\"        \"YrSold\"        \"SaleType\"      \"SaleCondition\"\n",
       "[81] \"SalePrice\"    "
      ]
     },
     "execution_count": null,
     "metadata": {},
     "output_type": "execute_result"
    }
   ],
   "source": [
    "names(Data)"
   ]
  },
  {
   "cell_type": "code",
   "execution_count": 86,
   "metadata": {
    "vscode": {
     "languageId": "r"
    }
   },
   "outputs": [
    {
     "data": {
      "text/plain": [
       "[1] 1460   80"
      ]
     },
     "execution_count": null,
     "metadata": {},
     "output_type": "execute_result"
    }
   ],
   "source": [
    "#remove Id colum\n",
    "Data[\"Id\"] <- NULL\n",
    "dim(Data)"
   ]
  },
  {
   "cell_type": "code",
   "execution_count": 87,
   "metadata": {
    "vscode": {
     "languageId": "r"
    }
   },
   "outputs": [],
   "source": [
    "# numeric data\n",
    "numData <- Data |> \n",
    "  select_if(is.numeric) "
   ]
  },
  {
   "cell_type": "code",
   "execution_count": 88,
   "metadata": {
    "vscode": {
     "languageId": "r"
    }
   },
   "outputs": [],
   "source": [
    "hist(Data$SalePrice)"
   ]
  },
  {
   "cell_type": "code",
   "execution_count": 89,
   "metadata": {
    "vscode": {
     "languageId": "r"
    }
   },
   "outputs": [
    {
     "data": {
      "text/plain": [
       "   Min. 1st Qu.  Median    Mean 3rd Qu.    Max. \n",
       "  34900  129975  163000  180921  214000  755000 "
      ]
     },
     "execution_count": null,
     "metadata": {},
     "output_type": "execute_result"
    }
   ],
   "source": [
    "summary(Data$SalePrice)"
   ]
  },
  {
   "cell_type": "code",
   "execution_count": 90,
   "metadata": {
    "vscode": {
     "languageId": "r"
    }
   },
   "outputs": [],
   "source": [
    "skimr::skim_without_charts(Data,where(is.numeric))-> num_skimData"
   ]
  },
  {
   "cell_type": "code",
   "execution_count": 91,
   "metadata": {
    "vscode": {
     "languageId": "r"
    }
   },
   "outputs": [
    {
     "data": {
      "text/plain": [
       "[1] \"LotFrontage\" \"MasVnrArea\"  \"GarageYrBlt\""
      ]
     },
     "execution_count": null,
     "metadata": {},
     "output_type": "execute_result"
    }
   ],
   "source": [
    "(numVal_na <- num_skimData$skim_variable[num_skimData$n_missing !=0] )"
   ]
  },
  {
   "cell_type": "code",
   "execution_count": 92,
   "metadata": {
    "vscode": {
     "languageId": "r"
    }
   },
   "outputs": [],
   "source": [
    "skimr::skim_without_charts(Data,where(is.character))-> cat_skimData"
   ]
  },
  {
   "cell_type": "code",
   "execution_count": 93,
   "metadata": {
    "vscode": {
     "languageId": "r"
    }
   },
   "outputs": [
    {
     "data": {
      "text/plain": [
       "── Data Summary ────────────────────────\n",
       "                           Values\n",
       "Name                       Data  \n",
       "Number of rows             1460  \n",
       "Number of columns          80    \n",
       "_______________________          \n",
       "Column type frequency:           \n",
       "  character                43    \n",
       "________________________         \n",
       "Group variables            None  "
      ]
     },
     "execution_count": null,
     "metadata": {},
     "output_type": "execute_result"
    }
   ],
   "source": [
    "summary(cat_skimData)"
   ]
  },
  {
   "cell_type": "markdown",
   "metadata": {},
   "source": [
    "Let's impute some of these numerical features"
   ]
  },
  {
   "cell_type": "code",
   "execution_count": 94,
   "metadata": {
    "vscode": {
     "languageId": "r"
    }
   },
   "outputs": [
    {
     "data": {
      "text/plain": [
       "LotFrontage  MasVnrArea GarageYrBlt \n",
       "0.177397260 0.005479452 0.055479452 "
      ]
     },
     "execution_count": null,
     "metadata": {},
     "output_type": "execute_result"
    }
   ],
   "source": [
    "colMeans(is.na(Data[numVal_na]))"
   ]
  },
  {
   "cell_type": "code",
   "execution_count": 95,
   "metadata": {
    "vscode": {
     "languageId": "r"
    }
   },
   "outputs": [],
   "source": [
    "# list of numeric features to impute\n",
    "imputeVal_list <- apply(Data[numVal_na],2, FUN = \"median\",na.rm = T,simplify = list)"
   ]
  },
  {
   "cell_type": "code",
   "execution_count": 96,
   "metadata": {
    "vscode": {
     "languageId": "r"
    }
   },
   "outputs": [],
   "source": [
    "#impute numerical features \n",
    "Data[numVal_na] <- replace_na(Data[numVal_na] ,\n",
    "                              replace = imputeVal_list\n",
    ")"
   ]
  },
  {
   "cell_type": "code",
   "execution_count": 97,
   "metadata": {
    "vscode": {
     "languageId": "r"
    }
   },
   "outputs": [
    {
     "data": {
      "text/plain": [
       "LotFrontage  MasVnrArea GarageYrBlt \n",
       "          0           0           0 "
      ]
     },
     "execution_count": null,
     "metadata": {},
     "output_type": "execute_result"
    }
   ],
   "source": [
    "# check  na\n",
    "colMeans(is.na(Data[numVal_na]))"
   ]
  },
  {
   "cell_type": "code",
   "execution_count": 98,
   "metadata": {
    "vscode": {
     "languageId": "r"
    }
   },
   "outputs": [
    {
     "data": {
      "text/plain": [
       "[1] 1460"
      ]
     },
     "execution_count": null,
     "metadata": {},
     "output_type": "execute_result"
    }
   ],
   "source": [
    "# duplicates rows\n",
    "Data |> \n",
    "  select_if(is.numeric) |> \n",
    "  unique() |> \n",
    "  nrow()"
   ]
  },
  {
   "cell_type": "code",
   "execution_count": 99,
   "metadata": {
    "vscode": {
     "languageId": "r"
    }
   },
   "outputs": [
    {
     "data": {
      "text/plain": [
       "[1] 28"
      ]
     },
     "execution_count": null,
     "metadata": {},
     "output_type": "execute_result"
    }
   ],
   "source": [
    "# select numeric features\n",
    "Data |> \n",
    "  select_if(is.numeric)  ->numData \n",
    "\n",
    "# check relationship with target (linear model)\n",
    "# h0 : there no relationship between X and Y(SalePrice)\n",
    "# h1 :otherwise\n",
    "\n",
    "  lm(SalePrice~.,numData) |> \n",
    "    summary() |> \n",
    "    tidy() |> \n",
    "    filter(p.value <=0.5) |> \n",
    "    nrow()"
   ]
  },
  {
   "cell_type": "markdown",
   "metadata": {},
   "source": [
    "28 numerical features have predictive effect on target feature. "
   ]
  },
  {
   "cell_type": "code",
   "execution_count": 100,
   "metadata": {
    "vscode": {
     "languageId": "r"
    }
   },
   "outputs": [],
   "source": [
    "# correlation in numeric features\n",
    "for (feature in names(numData)[-1]){\n",
    "  if (cor(numData[names(numData)][1],numData[feature]) >= 0.8 ) print(feature)\n",
    "}"
   ]
  },
  {
   "cell_type": "markdown",
   "metadata": {},
   "source": [
    "There is no carrelated features in numeric features "
   ]
  },
  {
   "cell_type": "markdown",
   "metadata": {},
   "source": [
    "cat var feat engineering  "
   ]
  },
  {
   "cell_type": "code",
   "execution_count": 101,
   "metadata": {
    "vscode": {
     "languageId": "r"
    }
   },
   "outputs": [
    {
     "data": {
      "text/plain": [
       "[1] 16"
      ]
     },
     "execution_count": null,
     "metadata": {},
     "output_type": "execute_result"
    }
   ],
   "source": [
    "# categorical features presenting missing values \n",
    "sum(cat_skimData$n_missing  > 0)"
   ]
  },
  {
   "cell_type": "code",
   "execution_count": 102,
   "metadata": {
    "vscode": {
     "languageId": "r"
    }
   },
   "outputs": [
    {
     "data": {
      "text/plain": [
       "[1] 16"
      ]
     },
     "execution_count": null,
     "metadata": {},
     "output_type": "execute_result"
    }
   ],
   "source": [
    "# n_missing proportion > 0.95 in cat features \n",
    "cat_rid <- cat_skimData$skim_variable[cat_skimData$n_missing >= 0.95] \n",
    "length(cat_rid)"
   ]
  },
  {
   "cell_type": "markdown",
   "metadata": {},
   "source": [
    "16 features present missing values or NA proportion above 0.95, we could get rid of it  "
   ]
  },
  {
   "cell_type": "code",
   "execution_count": 103,
   "metadata": {
    "vscode": {
     "languageId": "r"
    }
   },
   "outputs": [],
   "source": [
    "# remove these categorical features\n",
    "Data[,cat_rid]<- NULL"
   ]
  },
  {
   "cell_type": "code",
   "execution_count": 104,
   "metadata": {
    "vscode": {
     "languageId": "r"
    }
   },
   "outputs": [],
   "source": [
    "# check categorical features with NA in Data \n",
    "sum(cat_rid %in% names(Data))\n",
    "rm(cat_rid)"
   ]
  },
  {
   "cell_type": "code",
   "execution_count": 105,
   "metadata": {
    "vscode": {
     "languageId": "r"
    }
   },
   "outputs": [
    {
     "data": {
      "text/plain": [
       "[1] 1460   64"
      ]
     },
     "execution_count": null,
     "metadata": {},
     "output_type": "execute_result"
    }
   ],
   "source": [
    "# new data dimension\n",
    "dim(Data)"
   ]
  },
  {
   "cell_type": "code",
   "execution_count": 106,
   "metadata": {
    "vscode": {
     "languageId": "r"
    }
   },
   "outputs": [
    {
     "data": {
      "text/plain": [
       "[1] 0"
      ]
     },
     "execution_count": null,
     "metadata": {},
     "output_type": "execute_result"
    }
   ],
   "source": [
    "# NA check\n",
    "colMeans(is.na(Data)) |> sum()"
   ]
  },
  {
   "cell_type": "markdown",
   "metadata": {
    "vscode": {
     "languageId": "r"
    }
   },
   "source": [
    "There is no longer NA in this dataset"
   ]
  },
  {
   "cell_type": "markdown",
   "metadata": {},
   "source": [
    "to be continued 😉!"
   ]
  }
 ],
 "metadata": {
  "kernelspec": {
   "display_name": "Python 3",
   "language": "python",
   "name": "python3"
  },
  "language_info": {
   "codemirror_mode": {
    "name": "ipython",
    "version": 3
   },
   "file_extension": ".py",
   "mimetype": "text/x-python",
   "name": "python",
   "nbconvert_exporter": "python",
   "pygments_lexer": "ipython3",
   "version": "3.9.6"
  }
 },
 "nbformat": 4,
 "nbformat_minor": 2
}
