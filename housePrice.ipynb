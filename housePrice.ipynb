{
 "cells": [
  {
   "cell_type": "code",
   "execution_count": 687,
   "metadata": {
    "vscode": {
     "languageId": "r"
    }
   },
   "outputs": [],
   "source": [
    "rm(list = ls())"
   ]
  },
  {
   "cell_type": "code",
   "execution_count": 688,
   "metadata": {
    "vscode": {
     "languageId": "r"
    }
   },
   "outputs": [],
   "source": [
    "# libraries\n",
    "suppressMessages({\n",
    "  library(tidyverse)\n",
    "  library(broom)\n",
    "  library(ranger)\n",
    "}\n",
    ")"
   ]
  },
  {
   "cell_type": "code",
   "execution_count": 689,
   "metadata": {
    "vscode": {
     "languageId": "r"
    }
   },
   "outputs": [],
   "source": [
    "Data <- read.csv(\"/Users/mpaga/Downloads/train.csv\",sep=\",\")"
   ]
  },
  {
   "cell_type": "code",
   "execution_count": 690,
   "metadata": {
    "vscode": {
     "languageId": "r"
    }
   },
   "outputs": [
    {
     "data": {
      "text/plain": [
       "[1] 1460   81"
      ]
     },
     "execution_count": null,
     "metadata": {},
     "output_type": "execute_result"
    }
   ],
   "source": [
    "dim(Data)"
   ]
  },
  {
   "cell_type": "code",
   "execution_count": 691,
   "metadata": {
    "vscode": {
     "languageId": "r"
    }
   },
   "outputs": [
    {
     "data": {
      "text/plain": [
       " [1] \"Id\"            \"MSSubClass\"    \"MSZoning\"      \"LotFrontage\"  \n",
       " [5] \"LotArea\"       \"Street\"        \"Alley\"         \"LotShape\"     \n",
       " [9] \"LandContour\"   \"Utilities\"     \"LotConfig\"     \"LandSlope\"    \n",
       "[13] \"Neighborhood\"  \"Condition1\"    \"Condition2\"    \"BldgType\"     \n",
       "[17] \"HouseStyle\"    \"OverallQual\"   \"OverallCond\"   \"YearBuilt\"    \n",
       "[21] \"YearRemodAdd\"  \"RoofStyle\"     \"RoofMatl\"      \"Exterior1st\"  \n",
       "[25] \"Exterior2nd\"   \"MasVnrType\"    \"MasVnrArea\"    \"ExterQual\"    \n",
       "[29] \"ExterCond\"     \"Foundation\"    \"BsmtQual\"      \"BsmtCond\"     \n",
       "[33] \"BsmtExposure\"  \"BsmtFinType1\"  \"BsmtFinSF1\"    \"BsmtFinType2\" \n",
       "[37] \"BsmtFinSF2\"    \"BsmtUnfSF\"     \"TotalBsmtSF\"   \"Heating\"      \n",
       "[41] \"HeatingQC\"     \"CentralAir\"    \"Electrical\"    \"X1stFlrSF\"    \n",
       "[45] \"X2ndFlrSF\"     \"LowQualFinSF\"  \"GrLivArea\"     \"BsmtFullBath\" \n",
       "[49] \"BsmtHalfBath\"  \"FullBath\"      \"HalfBath\"      \"BedroomAbvGr\" \n",
       "[53] \"KitchenAbvGr\"  \"KitchenQual\"   \"TotRmsAbvGrd\"  \"Functional\"   \n",
       "[57] \"Fireplaces\"    \"FireplaceQu\"   \"GarageType\"    \"GarageYrBlt\"  \n",
       "[61] \"GarageFinish\"  \"GarageCars\"    \"GarageArea\"    \"GarageQual\"   \n",
       "[65] \"GarageCond\"    \"PavedDrive\"    \"WoodDeckSF\"    \"OpenPorchSF\"  \n",
       "[69] \"EnclosedPorch\" \"X3SsnPorch\"    \"ScreenPorch\"   \"PoolArea\"     \n",
       "[73] \"PoolQC\"        \"Fence\"         \"MiscFeature\"   \"MiscVal\"      \n",
       "[77] \"MoSold\"        \"YrSold\"        \"SaleType\"      \"SaleCondition\"\n",
       "[81] \"SalePrice\"    "
      ]
     },
     "execution_count": null,
     "metadata": {},
     "output_type": "execute_result"
    }
   ],
   "source": [
    "names(Data)"
   ]
  },
  {
   "cell_type": "code",
   "execution_count": 692,
   "metadata": {
    "vscode": {
     "languageId": "r"
    }
   },
   "outputs": [
    {
     "data": {
      "text/plain": [
       "[1] 1460   80"
      ]
     },
     "execution_count": null,
     "metadata": {},
     "output_type": "execute_result"
    }
   ],
   "source": [
    "#remove Id colum\n",
    "Data[\"Id\"] <- NULL\n",
    "dim(Data)"
   ]
  },
  {
   "cell_type": "code",
   "execution_count": 693,
   "metadata": {
    "vscode": {
     "languageId": "r"
    }
   },
   "outputs": [],
   "source": [
    "# numeric data\n",
    "numData <- Data |> \n",
    "  select_if(is.numeric) "
   ]
  },
  {
   "cell_type": "code",
   "execution_count": 694,
   "metadata": {
    "vscode": {
     "languageId": "r"
    }
   },
   "outputs": [],
   "source": [
    "hist(Data$SalePrice)"
   ]
  },
  {
   "cell_type": "code",
   "execution_count": 695,
   "metadata": {
    "vscode": {
     "languageId": "r"
    }
   },
   "outputs": [
    {
     "data": {
      "text/plain": [
       "   Min. 1st Qu.  Median    Mean 3rd Qu.    Max. \n",
       "  34900  129975  163000  180921  214000  755000 "
      ]
     },
     "execution_count": null,
     "metadata": {},
     "output_type": "execute_result"
    }
   ],
   "source": [
    "summary(Data$SalePrice)"
   ]
  },
  {
   "cell_type": "code",
   "execution_count": 696,
   "metadata": {
    "vscode": {
     "languageId": "r"
    }
   },
   "outputs": [],
   "source": [
    "skimr::skim_without_charts(Data,where(is.numeric))-> num_skimData"
   ]
  },
  {
   "cell_type": "code",
   "execution_count": 697,
   "metadata": {
    "vscode": {
     "languageId": "r"
    }
   },
   "outputs": [
    {
     "data": {
      "text/plain": [
       "[1] \"LotFrontage\" \"MasVnrArea\"  \"GarageYrBlt\""
      ]
     },
     "execution_count": null,
     "metadata": {},
     "output_type": "execute_result"
    }
   ],
   "source": [
    "(numVal_na <- num_skimData$skim_variable[num_skimData$n_missing !=0] )"
   ]
  },
  {
   "cell_type": "code",
   "execution_count": 698,
   "metadata": {
    "vscode": {
     "languageId": "r"
    }
   },
   "outputs": [],
   "source": [
    "skimr::skim_without_charts(Data,where(is.character))-> cat_skimData"
   ]
  },
  {
   "cell_type": "code",
   "execution_count": 699,
   "metadata": {
    "vscode": {
     "languageId": "r"
    }
   },
   "outputs": [
    {
     "data": {
      "text/plain": [
       "── Data Summary ────────────────────────\n",
       "                           Values\n",
       "Name                       Data  \n",
       "Number of rows             1460  \n",
       "Number of columns          80    \n",
       "_______________________          \n",
       "Column type frequency:           \n",
       "  character                43    \n",
       "________________________         \n",
       "Group variables            None  "
      ]
     },
     "execution_count": null,
     "metadata": {},
     "output_type": "execute_result"
    }
   ],
   "source": [
    "summary(cat_skimData)"
   ]
  },
  {
   "cell_type": "markdown",
   "metadata": {},
   "source": [
    "Let's impute some of these numerical features"
   ]
  },
  {
   "cell_type": "code",
   "execution_count": 700,
   "metadata": {
    "vscode": {
     "languageId": "r"
    }
   },
   "outputs": [
    {
     "data": {
      "text/plain": [
       "LotFrontage  MasVnrArea GarageYrBlt \n",
       "0.177397260 0.005479452 0.055479452 "
      ]
     },
     "execution_count": null,
     "metadata": {},
     "output_type": "execute_result"
    }
   ],
   "source": [
    "colMeans(is.na(Data[numVal_na]))"
   ]
  },
  {
   "cell_type": "code",
   "execution_count": 701,
   "metadata": {
    "vscode": {
     "languageId": "r"
    }
   },
   "outputs": [],
   "source": [
    "# list of numeric features to impute\n",
    "imputeVal_list <- apply(Data[numVal_na],2, FUN = \"median\",na.rm = T,simplify = list)"
   ]
  },
  {
   "cell_type": "code",
   "execution_count": 702,
   "metadata": {
    "vscode": {
     "languageId": "r"
    }
   },
   "outputs": [],
   "source": [
    "#impute numerical features \n",
    "Data[numVal_na] <- replace_na(Data[numVal_na] ,\n",
    "                              replace = imputeVal_list\n",
    ")"
   ]
  },
  {
   "cell_type": "code",
   "execution_count": 703,
   "metadata": {
    "vscode": {
     "languageId": "r"
    }
   },
   "outputs": [
    {
     "data": {
      "text/plain": [
       "LotFrontage  MasVnrArea GarageYrBlt \n",
       "          0           0           0 "
      ]
     },
     "execution_count": null,
     "metadata": {},
     "output_type": "execute_result"
    }
   ],
   "source": [
    "# check  na\n",
    "colMeans(is.na(Data[numVal_na]))"
   ]
  },
  {
   "cell_type": "code",
   "execution_count": 704,
   "metadata": {
    "vscode": {
     "languageId": "r"
    }
   },
   "outputs": [
    {
     "data": {
      "text/plain": [
       "[1] 1460"
      ]
     },
     "execution_count": null,
     "metadata": {},
     "output_type": "execute_result"
    }
   ],
   "source": [
    "# duplicates rows\n",
    "Data |> \n",
    "  select_if(is.numeric) |> \n",
    "  unique() |> \n",
    "  nrow()"
   ]
  },
  {
   "cell_type": "code",
   "execution_count": 705,
   "metadata": {
    "vscode": {
     "languageId": "r"
    }
   },
   "outputs": [
    {
     "data": {
      "text/plain": [
       "[1] 19"
      ]
     },
     "execution_count": null,
     "metadata": {},
     "output_type": "execute_result"
    }
   ],
   "source": [
    "# select numeric features\n",
    "Data |> \n",
    "  select_if(is.numeric)  ->numData \n",
    "\n",
    "# check relationship with target (linear model)\n",
    "# h0 : there no relationship between X and Y(SalePrice)\n",
    "# h1 :otherwise\n",
    "\n",
    "  lm(SalePrice~.,numData) |> \n",
    "    summary() |> \n",
    "    tidy() |> \n",
    "    filter(p.value <=0.05) |> \n",
    "    nrow()"
   ]
  },
  {
   "cell_type": "markdown",
   "metadata": {},
   "source": [
    "28 numerical features have predictive effect on target feature. "
   ]
  },
  {
   "cell_type": "code",
   "execution_count": 706,
   "metadata": {
    "vscode": {
     "languageId": "r"
    }
   },
   "outputs": [],
   "source": [
    "# correlation in numeric features\n",
    "for (feature in names(numData)[-1]){\n",
    "  if (cor(numData[names(numData)][1],numData[feature]) >= 0.8 ) print(feature)\n",
    "}"
   ]
  },
  {
   "cell_type": "markdown",
   "metadata": {},
   "source": [
    "There is no carrelated features in numeric features "
   ]
  },
  {
   "cell_type": "markdown",
   "metadata": {},
   "source": [
    "cat var feat engineering  "
   ]
  },
  {
   "cell_type": "code",
   "execution_count": 707,
   "metadata": {
    "vscode": {
     "languageId": "r"
    }
   },
   "outputs": [
    {
     "data": {
      "text/plain": [
       "[1] 16"
      ]
     },
     "execution_count": null,
     "metadata": {},
     "output_type": "execute_result"
    }
   ],
   "source": [
    "# categorical features presenting missing values \n",
    "sum(cat_skimData$n_missing  > 0)"
   ]
  },
  {
   "cell_type": "code",
   "execution_count": 708,
   "metadata": {
    "vscode": {
     "languageId": "r"
    }
   },
   "outputs": [
    {
     "data": {
      "text/plain": [
       "[1] 16"
      ]
     },
     "execution_count": null,
     "metadata": {},
     "output_type": "execute_result"
    }
   ],
   "source": [
    "# n_missing proportion > 0.95 in cat features \n",
    "cat_rid <- cat_skimData$skim_variable[cat_skimData$n_missing >= 0.95] \n",
    "length(cat_rid)"
   ]
  },
  {
   "cell_type": "markdown",
   "metadata": {},
   "source": [
    "16 features present missing values or NA proportion above 0.95, we could get rid of it  "
   ]
  },
  {
   "cell_type": "code",
   "execution_count": 709,
   "metadata": {
    "vscode": {
     "languageId": "r"
    }
   },
   "outputs": [],
   "source": [
    "# remove these categorical features\n",
    "Data[,cat_rid]<- NULL"
   ]
  },
  {
   "cell_type": "code",
   "execution_count": 710,
   "metadata": {
    "vscode": {
     "languageId": "r"
    }
   },
   "outputs": [],
   "source": [
    "# check categorical features with NA in Data \n",
    "sum(cat_rid %in% names(Data))\n",
    "rm(cat_rid)"
   ]
  },
  {
   "cell_type": "code",
   "execution_count": 711,
   "metadata": {
    "vscode": {
     "languageId": "r"
    }
   },
   "outputs": [
    {
     "data": {
      "text/plain": [
       "[1] 1460   64"
      ]
     },
     "execution_count": null,
     "metadata": {},
     "output_type": "execute_result"
    }
   ],
   "source": [
    "# new data dimension\n",
    "dim(Data)"
   ]
  },
  {
   "cell_type": "code",
   "execution_count": 712,
   "metadata": {
    "vscode": {
     "languageId": "r"
    }
   },
   "outputs": [
    {
     "data": {
      "text/plain": [
       "[1] 0"
      ]
     },
     "execution_count": null,
     "metadata": {},
     "output_type": "execute_result"
    }
   ],
   "source": [
    "# NA check\n",
    "colMeans(is.na(Data)) |> sum()"
   ]
  },
  {
   "cell_type": "markdown",
   "metadata": {
    "vscode": {
     "languageId": "r"
    }
   },
   "source": [
    "There is no longer NA in this dataset"
   ]
  },
  {
   "cell_type": "code",
   "execution_count": 713,
   "metadata": {
    "vscode": {
     "languageId": "r"
    }
   },
   "outputs": [
    {
     "name": "stdout",
     "output_type": "stream",
     "text": [
      "\u001b[38;5;246m# A tibble: 59 × 5\u001b[39m\n",
      "   term              estimate std.error statistic  p.value\n",
      "\u001b[38;5;246m# A tibble: 59 × 5\u001b[39m\n",
      "   term              estimate std.error statistic  p.value\n"
     ]
    },
    {
     "name": "stdout",
     "output_type": "stream",
     "text": [
      "   \u001b[3m\u001b[38;5;246m<chr>\u001b[39m\u001b[23m                \u001b[3m\u001b[38;5;246m<dbl>\u001b[39m\u001b[23m     \u001b[3m\u001b[38;5;246m<dbl>\u001b[39m\u001b[23m     \u001b[3m\u001b[38;5;246m<dbl>\u001b[39m\u001b[23m    \u001b[3m\u001b[38;5;246m<dbl>\u001b[39m\u001b[23m\n",
      "\u001b[38;5;250m 1\u001b[39m MSZoningFV       \u001b[4m3\u001b[24m\u001b[4m3\u001b[24m495.    \u001b[4m1\u001b[24m\u001b[4m2\u001b[24m123.         2.76 5.81\u001b[38;5;246me\u001b[39m\u001b[31m- 3\u001b[39m\n",
      "\u001b[38;5;250m 2\u001b[39m MSZoningRH       \u001b[4m2\u001b[24m\u001b[4m5\u001b[24m399.    \u001b[4m1\u001b[24m\u001b[4m2\u001b[24m189.         2.08 3.74\u001b[38;5;246me\u001b[39m\u001b[31m- 2\u001b[39m\n",
      "\u001b[38;5;250m 3\u001b[39m MSZoningRL       \u001b[4m2\u001b[24m\u001b[4m7\u001b[24m888.    \u001b[4m1\u001b[24m\u001b[4m0\u001b[24m386.         2.69 7.35\u001b[38;5;246me\u001b[39m\u001b[31m- 3\u001b[39m\n",
      "\u001b[38;5;250m 4\u001b[39m MSZoningRM       \u001b[4m2\u001b[24m\u001b[4m6\u001b[24m270.     \u001b[4m9\u001b[24m716.         2.70 6.95\u001b[38;5;246me\u001b[39m\u001b[31m- 3\u001b[39m\n",
      "\u001b[38;5;250m 5\u001b[39m LotFrontage         96.2      44.0        2.19 2.89\u001b[38;5;246me\u001b[39m\u001b[31m- 2\u001b[39m\n",
      "\u001b[38;5;250m 6\u001b[39m LotArea              0.670     0.109      6.16 9.47\u001b[38;5;246me\u001b[39m\u001b[31m-10\u001b[39m\n",
      "\u001b[38;5;250m 7\u001b[39m StreetPave       \u001b[4m3\u001b[24m\u001b[4m6\u001b[24m874.    \u001b[4m1\u001b[24m\u001b[4m2\u001b[24m184.         3.03 2.52\u001b[38;5;246me\u001b[39m\u001b[31m- 3\u001b[39m\n",
      "\u001b[38;5;250m 8\u001b[39m LandContourHLS   \u001b[4m1\u001b[24m\u001b[4m3\u001b[24m435.     \u001b[4m5\u001b[24m242.         2.56 1.05\u001b[38;5;246me\u001b[39m\u001b[31m- 2\u001b[39m\n",
      "\u001b[38;5;250m 9\u001b[39m LandContourLvl    \u001b[4m7\u001b[24m446.     \u001b[4m3\u001b[24m775.         1.97 4.88\u001b[38;5;246me\u001b[39m\u001b[31m- 2\u001b[39m\n",
      "\u001b[38;5;250m10\u001b[39m LotConfigCulDSac  \u001b[4m9\u001b[24m864.     \u001b[4m3\u001b[24m407.         2.90 3.86\u001b[38;5;246me\u001b[39m\u001b[31m- 3\u001b[39m\n",
      "\u001b[38;5;246m# ℹ 49 more rows\u001b[39m\n",
      "\u001b[38;5;246m# ℹ Use `print(n = ...)` to see more rows\u001b[39m\n",
      "   \u001b[3m\u001b[38;5;246m<chr>\u001b[39m\u001b[23m                \u001b[3m\u001b[38;5;246m<dbl>\u001b[39m\u001b[23m     \u001b[3m\u001b[38;5;246m<dbl>\u001b[39m\u001b[23m     \u001b[3m\u001b[38;5;246m<dbl>\u001b[39m\u001b[23m    \u001b[3m\u001b[38;5;246m<dbl>\u001b[39m\u001b[23m\n",
      "\u001b[38;5;250m 1\u001b[39m MSZoningFV       \u001b[4m3\u001b[24m\u001b[4m3\u001b[24m495.    \u001b[4m1\u001b[24m\u001b[4m2\u001b[24m123.         2.76 5.81\u001b[38;5;246me\u001b[39m\u001b[31m- 3\u001b[39m\n",
      "\u001b[38;5;250m 2\u001b[39m MSZoningRH       \u001b[4m2\u001b[24m\u001b[4m5\u001b[24m399.    \u001b[4m1\u001b[24m\u001b[4m2\u001b[24m189.         2.08 3.74\u001b[38;5;246me\u001b[39m\u001b[31m- 2\u001b[39m\n",
      "\u001b[38;5;250m 3\u001b[39m MSZoningRL       \u001b[4m2\u001b[24m\u001b[4m7\u001b[24m888.    \u001b[4m1\u001b[24m\u001b[4m0\u001b[24m386.         2.69 7.35\u001b[38;5;246me\u001b[39m\u001b[31m- 3\u001b[39m\n",
      "\u001b[38;5;250m 4\u001b[39m MSZoningRM       \u001b[4m2\u001b[24m\u001b[4m6\u001b[24m270.     \u001b[4m9\u001b[24m716.         2.70 6.95\u001b[38;5;246me\u001b[39m\u001b[31m- 3\u001b[39m\n",
      "\u001b[38;5;250m 5\u001b[39m LotFrontage         96.2      44.0        2.19 2.89\u001b[38;5;246me\u001b[39m\u001b[31m- 2\u001b[39m\n",
      "\u001b[38;5;250m 6\u001b[39m LotArea              0.670     0.109      6.16 9.47\u001b[38;5;246me\u001b[39m\u001b[31m-10\u001b[39m\n",
      "\u001b[38;5;250m 7\u001b[39m StreetPave       \u001b[4m3\u001b[24m\u001b[4m6\u001b[24m874.    \u001b[4m1\u001b[24m\u001b[4m2\u001b[24m184.         3.03 2.52\u001b[38;5;246me\u001b[39m\u001b[31m- 3\u001b[39m\n",
      "\u001b[38;5;250m 8\u001b[39m LandContourHLS   \u001b[4m1\u001b[24m\u001b[4m3\u001b[24m435.     \u001b[4m5\u001b[24m242.         2.56 1.05\u001b[38;5;246me\u001b[39m\u001b[31m- 2\u001b[39m\n",
      "\u001b[38;5;250m 9\u001b[39m LandContourLvl    \u001b[4m7\u001b[24m446.     \u001b[4m3\u001b[24m775.         1.97 4.88\u001b[38;5;246me\u001b[39m\u001b[31m- 2\u001b[39m\n",
      "\u001b[38;5;250m10\u001b[39m LotConfigCulDSac  \u001b[4m9\u001b[24m864.     \u001b[4m3\u001b[24m407.         2.90 3.86\u001b[38;5;246me\u001b[39m\u001b[31m- 3\u001b[39m\n",
      "\u001b[38;5;246m# ℹ 49 more rows\u001b[39m\n",
      "\u001b[38;5;246m# ℹ Use `print(n = ...)` to see more rows\u001b[39m\n"
     ]
    }
   ],
   "source": [
    "summary(lm(SalePrice~. ,Data)) |> \n",
    "  tidy() |> \n",
    "  filter(p.value <=0.05) |> \n",
    "  print(n=10)"
   ]
  },
  {
   "cell_type": "code",
   "execution_count": 714,
   "metadata": {
    "vscode": {
     "languageId": "r"
    }
   },
   "outputs": [
    {
     "name": "stderr",
     "output_type": "stream",
     "text": [
      "Warning message:\n",
      "In tidy.numeric(sort(importance(ranger(SalePrice ~ ., Data, importance = \"impurity\")),  :\n",
      "  'tidy.numeric' is deprecated.\n",
      "See help(\"Deprecated\")\n"
     ]
    },
    {
     "data": {
      "text/plain": [
       "\u001b[38;5;246m# A tibble: 8 × 3\u001b[39m\n",
       "  names             x proportion\n",
       "  \u001b[3m\u001b[38;5;246m<chr>\u001b[39m\u001b[23m         \u001b[3m\u001b[38;5;246m<dbl>\u001b[39m\u001b[23m      \u001b[3m\u001b[38;5;246m<dbl>\u001b[39m\u001b[23m\n",
       "\u001b[38;5;250m1\u001b[39m OverallQual 1.16\u001b[38;5;246me\u001b[39m12     0.128 \n",
       "\u001b[38;5;250m2\u001b[39m GrLivArea   8.07\u001b[38;5;246me\u001b[39m11     0.088\u001b[4m8\u001b[24m\n",
       "\u001b[38;5;250m3\u001b[39m GarageCars  6.16\u001b[38;5;246me\u001b[39m11     0.067\u001b[4m8\u001b[24m\n",
       "\u001b[38;5;250m4\u001b[39m TotalBsmtSF 5.96\u001b[38;5;246me\u001b[39m11     0.065\u001b[4m5\u001b[24m\n",
       "\u001b[38;5;250m5\u001b[39m GarageArea  5.37\u001b[38;5;246me\u001b[39m11     0.059\u001b[4m1\u001b[24m\n",
       "\u001b[38;5;250m6\u001b[39m X1stFlrSF   4.80\u001b[38;5;246me\u001b[39m11     0.052\u001b[4m9\u001b[24m\n",
       "\u001b[38;5;250m7\u001b[39m YearBuilt   4.72\u001b[38;5;246me\u001b[39m11     0.052\u001b[4m0\u001b[24m\n",
       "\u001b[38;5;250m8\u001b[39m ExterQual   4.62\u001b[38;5;246me\u001b[39m11     0.050\u001b[4m8\u001b[24m"
      ]
     },
     "execution_count": null,
     "metadata": {},
     "output_type": "execute_result"
    }
   ],
   "source": [
    "ranger(SalePrice~.,Data,\n",
    "  importance = 'impurity') |> \n",
    "  importance() |> \n",
    "  sort(decreasing = T) |> \n",
    "  tidy() |> \n",
    "  mutate(proportion= x/sum(x)) |> \n",
    "  filter(proportion >= 0.05)"
   ]
  },
  {
   "cell_type": "code",
   "execution_count": 715,
   "metadata": {
    "vscode": {
     "languageId": "r"
    }
   },
   "outputs": [
    {
     "name": "stderr",
     "output_type": "stream",
     "text": [
      "Warning message:\n",
      "In tidy.numeric(sort(rng$variable.importance, decreasing = T)) :\n",
      "  'tidy.numeric' is deprecated.\n",
      "See help(\"Deprecated\")\n"
     ]
    }
   ],
   "source": [
    "# importance proportion \n",
    "ranger(SalePrice~.,Data,importance = 'impurity')  -> rng\n",
    "rng$variable.importance |> \n",
    "sort(decreasing = T) |> \n",
    "tidy() |> \n",
    "mutate(prop=x/sum(x)) |> \n",
    "#print(n=5) \n",
    "filter(prop>=0.05) |> \n",
    "select(names) |> \n",
    "unlist() -> features"
   ]
  },
  {
   "cell_type": "code",
   "execution_count": 716,
   "metadata": {
    "vscode": {
     "languageId": "r"
    }
   },
   "outputs": [
    {
     "data": {
      "text/plain": [
       "       names1        names2        names3        names4        names5 \n",
       "\"OverallQual\"   \"GrLivArea\"  \"GarageCars\" \"TotalBsmtSF\"   \"YearBuilt\" \n",
       "       names6        names7        names8 \n",
       "  \"ExterQual\"   \"X1stFlrSF\"  \"GarageArea\" "
      ]
     },
     "execution_count": null,
     "metadata": {},
     "output_type": "execute_result"
    }
   ],
   "source": [
    "features"
   ]
  },
  {
   "cell_type": "code",
   "execution_count": 717,
   "metadata": {
    "vscode": {
     "languageId": "r"
    }
   },
   "outputs": [],
   "source": [
    "\n",
    "Data1 <- cbind(Data[features],SalePrice=Data$SalePrice)\n"
   ]
  },
  {
   "cell_type": "code",
   "execution_count": 718,
   "metadata": {
    "vscode": {
     "languageId": "r"
    }
   },
   "outputs": [],
   "source": [
    "rm(Data)"
   ]
  },
  {
   "cell_type": "code",
   "execution_count": 719,
   "metadata": {
    "vscode": {
     "languageId": "r"
    }
   },
   "outputs": [
    {
     "name": "stdout",
     "output_type": "stream",
     "text": [
      "The following objects are masked from Data1 (pos = 3):\n",
      "\n",
      "    ExterQual, GarageArea, GarageCars, GrLivArea, OverallQual,\n",
      "    SalePrice, TotalBsmtSF, YearBuilt\n",
      "\n",
      "The following objects are masked from Data1 (pos = 4):\n",
      "\n",
      "    ExterQual, GarageArea, GarageCars, GrLivArea, OverallQual,\n",
      "    SalePrice, TotalBsmtSF, X1stFlrSF\n",
      "\n",
      "The following objects are masked from Data1 (pos = 5):\n",
      "\n",
      "    ExterQual, GarageArea, GarageCars, GrLivArea, OverallQual,\n",
      "    SalePrice, TotalBsmtSF, X1stFlrSF\n",
      "\n",
      "The following objects are masked from Data1 (pos = 6):\n",
      "\n",
      "    ExterQual, GarageArea, GarageCars, GrLivArea, OverallQual,\n",
      "    SalePrice, TotalBsmtSF, X1stFlrSF\n",
      "\n",
      "The following objects are masked from Data1 (pos = 7):\n",
      "\n",
      "    ExterQual, GarageArea, GarageCars, GrLivArea, OverallQual,\n",
      "    SalePrice, TotalBsmtSF, X1stFlrSF\n",
      "\n",
      "The following objects are masked from Data (pos = 8):\n",
      "\n",
      "    ExterQual, GarageArea, GarageCars, GrLivArea, OverallQual,\n",
      "    SalePrice, TotalBsmtSF, X1stFlrSF, YearBuilt\n",
      "\n",
      "The following objects are masked from Data (pos = 9):\n",
      "\n",
      "    ExterQual, GarageArea, GarageCars, GrLivArea, OverallQual,\n",
      "    SalePrice, TotalBsmtSF, X1stFlrSF, YearBuilt\n",
      "\n",
      "The following objects are masked from Data1 (pos = 10):\n",
      "\n",
      "    ExterQual, GarageArea, GarageCars, GrLivArea, OverallQual,\n",
      "    SalePrice, TotalBsmtSF, X1stFlrSF\n",
      "\n",
      "The following objects are masked from Data1 (pos = 11):\n",
      "\n",
      "    GarageArea, GarageCars, GrLivArea, OverallQual, SalePrice,\n",
      "    TotalBsmtSF, X1stFlrSF, YearBuilt\n",
      "\n",
      "The following objects are masked from Data1 (pos = 12):\n",
      "\n",
      "    ExterQual, GarageArea, GarageCars, GrLivArea, OverallQual,\n",
      "    SalePrice, TotalBsmtSF, X1stFlrSF\n",
      "\n",
      "The following objects are masked from Data1 (pos = 13):\n",
      "\n",
      "    ExterQual, GarageArea, GarageCars, GrLivArea, OverallQual,\n",
      "    SalePrice, TotalBsmtSF, X1stFlrSF\n",
      "\n",
      "The following object is masked from Data1 (pos = 14):\n",
      "\n",
      "    SalePrice\n",
      "\n",
      "The following objects are masked from Data1 (pos = 15):\n",
      "\n",
      "    ExterQual, GarageArea, GarageCars, GrLivArea, OverallQual,\n",
      "    SalePrice, TotalBsmtSF, X1stFlrSF\n",
      "\n",
      "The following objects are masked from Data1 (pos = 16):\n",
      "\n",
      "    ExterQual, GarageArea, GarageCars, GrLivArea, OverallQual,\n",
      "    SalePrice, TotalBsmtSF, X1stFlrSF\n",
      "\n",
      "The following objects are masked from Data1 (pos = 17):\n",
      "\n",
      "    ExterQual, GarageArea, GarageCars, GrLivArea, OverallQual,\n",
      "    SalePrice, TotalBsmtSF, X1stFlrSF\n",
      "\n",
      "The following objects are masked from Data1 (pos = 3):\n",
      "\n",
      "    ExterQual, GarageArea, GarageCars, GrLivArea, OverallQual,\n",
      "    SalePrice, TotalBsmtSF, YearBuilt\n",
      "\n",
      "The following objects are masked from Data1 (pos = 4):\n",
      "\n",
      "    ExterQual, GarageArea, GarageCars, GrLivArea, OverallQual,\n",
      "    SalePrice, TotalBsmtSF, X1stFlrSF\n",
      "\n",
      "The following objects are masked from Data1 (pos = 5):\n",
      "\n",
      "    ExterQual, GarageArea, GarageCars, GrLivArea, OverallQual,\n",
      "    SalePrice, TotalBsmtSF, X1stFlrSF\n",
      "\n",
      "The following objects are masked from Data1 (pos = 6):\n",
      "\n",
      "    ExterQual, GarageArea, GarageCars, GrLivArea, OverallQual,\n",
      "    SalePrice, TotalBsmtSF, X1stFlrSF\n",
      "\n",
      "The following objects are masked from Data1 (pos = 7):\n",
      "\n",
      "    ExterQual, GarageArea, GarageCars, GrLivArea, OverallQual,\n",
      "    SalePrice, TotalBsmtSF, X1stFlrSF\n",
      "\n",
      "The following objects are masked from Data (pos = 8):\n",
      "\n",
      "    ExterQual, GarageArea, GarageCars, GrLivArea, OverallQual,\n",
      "    SalePrice, TotalBsmtSF, X1stFlrSF, YearBuilt\n",
      "\n",
      "The following objects are masked from Data (pos = 9):\n",
      "\n",
      "    ExterQual, GarageArea, GarageCars, GrLivArea, OverallQual,\n",
      "    SalePrice, TotalBsmtSF, X1stFlrSF, YearBuilt\n",
      "\n",
      "The following objects are masked from Data1 (pos = 10):\n",
      "\n",
      "    ExterQual, GarageArea, GarageCars, GrLivArea, OverallQual,\n",
      "    SalePrice, TotalBsmtSF, X1stFlrSF\n",
      "\n",
      "The following objects are masked from Data1 (pos = 11):\n",
      "\n",
      "    GarageArea, GarageCars, GrLivArea, OverallQual, SalePrice,\n",
      "    TotalBsmtSF, X1stFlrSF, YearBuilt\n",
      "\n",
      "The following objects are masked from Data1 (pos = 12):\n",
      "\n",
      "    ExterQual, GarageArea, GarageCars, GrLivArea, OverallQual,\n",
      "    SalePrice, TotalBsmtSF, X1stFlrSF\n",
      "\n",
      "The following objects are masked from Data1 (pos = 13):\n",
      "\n",
      "    ExterQual, GarageArea, GarageCars, GrLivArea, OverallQual,\n",
      "    SalePrice, TotalBsmtSF, X1stFlrSF\n",
      "\n",
      "The following object is masked from Data1 (pos = 14):\n",
      "\n",
      "    SalePrice\n",
      "\n",
      "The following objects are masked from Data1 (pos = 15):\n",
      "\n",
      "    ExterQual, GarageArea, GarageCars, GrLivArea, OverallQual,\n",
      "    SalePrice, TotalBsmtSF, X1stFlrSF\n",
      "\n",
      "The following objects are masked from Data1 (pos = 16):\n",
      "\n",
      "    ExterQual, GarageArea, GarageCars, GrLivArea, OverallQual,\n",
      "    SalePrice, TotalBsmtSF, X1stFlrSF\n",
      "\n",
      "The following objects are masked from Data1 (pos = 17):\n",
      "\n",
      "    ExterQual, GarageArea, GarageCars, GrLivArea, OverallQual,\n",
      "    SalePrice, TotalBsmtSF, X1stFlrSF\n",
      "\n"
     ]
    },
    {
     "name": "stdout",
     "output_type": "stream",
     "text": [
      "The following objects are masked from Data1 (pos = 18):\n",
      "\n",
      "    ExterQual, GarageArea, GarageCars, GrLivArea, OverallQual,\n",
      "    SalePrice, TotalBsmtSF, X1stFlrSF\n",
      "\n",
      "The following objects are masked from Data1 (pos = 19):\n",
      "\n",
      "    ExterQual, GarageArea, GarageCars, GrLivArea, OverallQual,\n",
      "    SalePrice, TotalBsmtSF, X1stFlrSF\n",
      "\n",
      "The following objects are masked from Data1 (pos = 20):\n",
      "\n",
      "    ExterQual, GarageArea, GarageCars, GrLivArea, OverallQual,\n",
      "    SalePrice, TotalBsmtSF, X1stFlrSF\n",
      "\n",
      "The following objects are masked from Data1 (pos = 21):\n",
      "\n",
      "    ExterQual, GarageArea, GarageCars, GrLivArea, OverallQual,\n",
      "    SalePrice, TotalBsmtSF, X1stFlrSF\n",
      "\n",
      "The following objects are masked from Data1 (pos = 22):\n",
      "\n",
      "    ExterQual, GarageArea, GarageCars, GrLivArea, OverallQual,\n",
      "    SalePrice, TotalBsmtSF, X1stFlrSF\n",
      "\n",
      "The following objects are masked from Data1 (pos = 23):\n",
      "\n",
      "    GarageArea, GarageCars, GrLivArea, OverallQual, SalePrice,\n",
      "    TotalBsmtSF, X1stFlrSF\n",
      "\n",
      "The following objects are masked from Data1 (pos = 24):\n",
      "\n",
      "    GarageArea, GarageCars, GrLivArea, OverallQual, TotalBsmtSF,\n",
      "    X1stFlrSF, YearBuilt\n",
      "\n",
      "The following objects are masked from Data1 (pos = 26):\n",
      "\n",
      "    GarageArea, GarageCars, GrLivArea, OverallQual, TotalBsmtSF,\n",
      "    X1stFlrSF, YearBuilt\n",
      "\n",
      "The following objects are masked from Data1 (pos = 18):\n",
      "\n",
      "    ExterQual, GarageArea, GarageCars, GrLivArea, OverallQual,\n",
      "    SalePrice, TotalBsmtSF, X1stFlrSF\n",
      "\n",
      "The following objects are masked from Data1 (pos = 19):\n",
      "\n",
      "    ExterQual, GarageArea, GarageCars, GrLivArea, OverallQual,\n",
      "    SalePrice, TotalBsmtSF, X1stFlrSF\n",
      "\n",
      "The following objects are masked from Data1 (pos = 20):\n",
      "\n",
      "    ExterQual, GarageArea, GarageCars, GrLivArea, OverallQual,\n",
      "    SalePrice, TotalBsmtSF, X1stFlrSF\n",
      "\n",
      "The following objects are masked from Data1 (pos = 21):\n",
      "\n",
      "    ExterQual, GarageArea, GarageCars, GrLivArea, OverallQual,\n",
      "    SalePrice, TotalBsmtSF, X1stFlrSF\n",
      "\n",
      "The following objects are masked from Data1 (pos = 22):\n",
      "\n",
      "    ExterQual, GarageArea, GarageCars, GrLivArea, OverallQual,\n",
      "    SalePrice, TotalBsmtSF, X1stFlrSF\n",
      "\n",
      "The following objects are masked from Data1 (pos = 23):\n",
      "\n",
      "    GarageArea, GarageCars, GrLivArea, OverallQual, SalePrice,\n",
      "    TotalBsmtSF, X1stFlrSF\n",
      "\n",
      "The following objects are masked from Data1 (pos = 24):\n",
      "\n",
      "    GarageArea, GarageCars, GrLivArea, OverallQual, TotalBsmtSF,\n",
      "    X1stFlrSF, YearBuilt\n",
      "\n",
      "The following objects are masked from Data1 (pos = 26):\n",
      "\n",
      "    GarageArea, GarageCars, GrLivArea, OverallQual, TotalBsmtSF,\n",
      "    X1stFlrSF, YearBuilt\n",
      "\n"
     ]
    }
   ],
   "source": [
    "attach(Data1)"
   ]
  },
  {
   "cell_type": "code",
   "execution_count": 720,
   "metadata": {
    "vscode": {
     "languageId": "r"
    }
   },
   "outputs": [
    {
     "data": {
      "text/plain": [
       "NULL"
      ]
     },
     "execution_count": null,
     "metadata": {},
     "output_type": "execute_result"
    }
   ],
   "source": []
  },
  {
   "cell_type": "code",
   "execution_count": 721,
   "metadata": {
    "vscode": {
     "languageId": "r"
    }
   },
   "outputs": [],
   "source": [
    "# ggplot object\n",
    "Data1gg <- ggplot(Data1)"
   ]
  },
  {
   "cell_type": "code",
   "execution_count": 722,
   "metadata": {
    "vscode": {
     "languageId": "r"
    }
   },
   "outputs": [
    {
     "data": {
      "text/plain": [
       "\n",
       "  0   1   2   3   4 \n",
       " 81 369 824 181   5 "
      ]
     },
     "execution_count": null,
     "metadata": {},
     "output_type": "execute_result"
    }
   ],
   "source": [
    "Data1$GarageCars |>  \n",
    "  table()"
   ]
  },
  {
   "cell_type": "code",
   "execution_count": 723,
   "metadata": {
    "vscode": {
     "languageId": "r"
    }
   },
   "outputs": [],
   "source": [
    "Data1gg +\n",
    "  geom_bar(aes(GarageCars))"
   ]
  },
  {
   "cell_type": "code",
   "execution_count": 724,
   "metadata": {
    "vscode": {
     "languageId": "r"
    }
   },
   "outputs": [
    {
     "data": {
      "text/plain": [
       "\n",
       "1872 1875 1880 1882 1885 1890 1892 1893 1898 1900 1904 1905 1906 1908 1910 \n",
       "   1    1    4    1    2    2    2    1    1   10    1    1    1    2   17 \n",
       "1911 1912 1913 1914 1915 1916 1917 1918 1919 1920 1921 1922 1923 1924 1925 \n",
       "   1    3    1    7   10    8    1    7    3   30    6    8    7    7   16 \n",
       "1926 1927 1928 1929 1930 1931 1932 1934 1935 1936 1937 1938 1939 1940 1941 \n",
       "   9    3    7    4    9    6    4    3    6    9    5    4    8   18   15 \n",
       "1942 1945 1946 1947 1948 1949 1950 1951 1952 1953 1954 1955 1956 1957 1958 \n",
       "   2    6    7    5   14   12   20    6    5   12   24   16   14   20   24 \n",
       "1959 1960 1961 1962 1963 1964 1965 1966 1967 1968 1969 1970 1971 1972 1973 \n",
       "  26   17   14   19   16   15   24   18   16   22   14   24   22   23   11 \n",
       "1974 1975 1976 1977 1978 1979 1980 1981 1982 1983 1984 1985 1986 1987 1988 \n",
       "  10    8   33   32   16    9   10    5    6    4    9    5    5    3   11 \n",
       "1989 1990 1991 1992 1993 1994 1995 1996 1997 1998 1999 2000 2001 2002 2003 \n",
       "   3   12    5   13   17   19   18   15   14   25   25   24   20   23   45 \n",
       "2004 2005 2006 2007 2008 2009 2010 \n",
       "  54   64   67   49   23   18    1 "
      ]
     },
     "execution_count": null,
     "metadata": {},
     "output_type": "execute_result"
    }
   ],
   "source": [
    "Data1$YearBuilt |> \n",
    "  table() "
   ]
  },
  {
   "cell_type": "code",
   "execution_count": 725,
   "metadata": {
    "vscode": {
     "languageId": "r"
    }
   },
   "outputs": [
    {
     "data": {
      "text/plain": [
       "\u001b[1m\u001b[22m`stat_bin()` using `bins = 30`. Pick better value with `binwidth`."
      ]
     },
     "execution_count": null,
     "metadata": {},
     "output_type": "execute_result"
    }
   ],
   "source": [
    "Data1gg +\n",
    "  geom_histogram(aes(YearBuilt))"
   ]
  },
  {
   "cell_type": "code",
   "execution_count": 726,
   "metadata": {
    "vscode": {
     "languageId": "r"
    }
   },
   "outputs": [
    {
     "data": {
      "text/plain": [
       "\n",
       "  1   2   3   4   5   6   7   8   9  10 \n",
       "  2   3  20 116 397 374 319 168  43  18 "
      ]
     },
     "execution_count": null,
     "metadata": {},
     "output_type": "execute_result"
    }
   ],
   "source": [
    "table(Data1$OverallQual)"
   ]
  },
  {
   "cell_type": "code",
   "execution_count": 727,
   "metadata": {
    "vscode": {
     "languageId": "r"
    }
   },
   "outputs": [],
   "source": [
    "Data1gg +\n",
    "  geom_bar(aes(factor(OverallQual)))\n"
   ]
  },
  {
   "cell_type": "code",
   "execution_count": 728,
   "metadata": {
    "vscode": {
     "languageId": "r"
    }
   },
   "outputs": [],
   "source": [
    "Data1$TotalBsmtSF |> \n",
    "  hist()"
   ]
  },
  {
   "cell_type": "markdown",
   "metadata": {},
   "source": [
    "## finding relations"
   ]
  },
  {
   "cell_type": "code",
   "execution_count": 729,
   "metadata": {
    "vscode": {
     "languageId": "r"
    }
   },
   "outputs": [
    {
     "data": {
      "text/plain": [
       "\u001b[1m\u001b[22m`geom_smooth()` using method = 'gam' and formula = 'y ~ s(x, bs = \"cs\")'"
      ]
     },
     "execution_count": null,
     "metadata": {},
     "output_type": "execute_result"
    }
   ],
   "source": [
    "Data1gg +\n",
    "  geom_point(aes(TotalBsmtSF,SalePrice) ) +\n",
    "  geom_smooth(aes(TotalBsmtSF,SalePrice) )"
   ]
  },
  {
   "cell_type": "code",
   "execution_count": 730,
   "metadata": {
    "vscode": {
     "languageId": "r"
    }
   },
   "outputs": [
    {
     "data": {
      "text/plain": [
       "\u001b[1m\u001b[22m`geom_smooth()` using method = 'gam' and formula = 'y ~ s(x, bs = \"cs\")'"
      ]
     },
     "execution_count": null,
     "metadata": {},
     "output_type": "execute_result"
    }
   ],
   "source": [
    "Data1gg +\n",
    "geom_point(aes(y=SalePrice,x=YearBuilt)) +\n",
    "geom_smooth(aes(y=SalePrice,x=YearBuilt),se = F)"
   ]
  },
  {
   "cell_type": "code",
   "execution_count": 731,
   "metadata": {
    "vscode": {
     "languageId": "r"
    }
   },
   "outputs": [],
   "source": [
    "Data1gg +\n",
    "  geom_boxplot(aes(factor(OverallQual),SalePrice) )"
   ]
  },
  {
   "cell_type": "code",
   "execution_count": 733,
   "metadata": {
    "vscode": {
     "languageId": "r"
    }
   },
   "outputs": [],
   "source": [
    "Data1gg +\n",
    "  geom_boxplot(aes(factor(GarageCars),SalePrice) )"
   ]
  },
  {
   "cell_type": "markdown",
   "metadata": {},
   "source": [
    "to be continued 😉!"
   ]
  }
 ],
 "metadata": {
  "kernelspec": {
   "display_name": "Python 3",
   "language": "python",
   "name": "python3"
  },
  "language_info": {
   "codemirror_mode": {
    "name": "ipython",
    "version": 3
   },
   "file_extension": ".py",
   "mimetype": "text/x-python",
   "name": "python",
   "nbconvert_exporter": "python",
   "pygments_lexer": "ipython3",
   "version": "3.9.6"
  }
 },
 "nbformat": 4,
 "nbformat_minor": 2
}
