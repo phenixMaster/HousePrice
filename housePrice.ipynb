{
 "cells": [
  {
   "cell_type": "code",
   "execution_count": 83,
   "metadata": {
    "vscode": {
     "languageId": "r"
    }
   },
   "outputs": [],
   "source": [
    "rm(list = ls())"
   ]
  },
  {
   "cell_type": "code",
   "execution_count": 84,
   "metadata": {
    "vscode": {
     "languageId": "r"
    }
   },
   "outputs": [],
   "source": [
    "# libraries\n",
    "suppressMessages({\n",
    "  library(tidyverse)\n",
    "  library(broom)\n",
    "  library(ranger)\n",
    "}\n",
    ")"
   ]
  },
  {
   "cell_type": "code",
   "execution_count": 85,
   "metadata": {
    "vscode": {
     "languageId": "r"
    }
   },
   "outputs": [],
   "source": [
    "Data <- read.csv(\"/Users/mpaga/Downloads/train.csv\",sep=\",\")"
   ]
  },
  {
   "cell_type": "code",
   "execution_count": 86,
   "metadata": {
    "vscode": {
     "languageId": "r"
    }
   },
   "outputs": [
    {
     "data": {
      "text/plain": [
       "[1] 1460   81"
      ]
     },
     "execution_count": null,
     "metadata": {},
     "output_type": "execute_result"
    }
   ],
   "source": [
    "dim(Data)"
   ]
  },
  {
   "cell_type": "code",
   "execution_count": 87,
   "metadata": {
    "vscode": {
     "languageId": "r"
    }
   },
   "outputs": [
    {
     "data": {
      "text/plain": [
       " [1] \"Id\"            \"MSSubClass\"    \"MSZoning\"      \"LotFrontage\"  \n",
       " [5] \"LotArea\"       \"Street\"        \"Alley\"         \"LotShape\"     \n",
       " [9] \"LandContour\"   \"Utilities\"     \"LotConfig\"     \"LandSlope\"    \n",
       "[13] \"Neighborhood\"  \"Condition1\"    \"Condition2\"    \"BldgType\"     \n",
       "[17] \"HouseStyle\"    \"OverallQual\"   \"OverallCond\"   \"YearBuilt\"    \n",
       "[21] \"YearRemodAdd\"  \"RoofStyle\"     \"RoofMatl\"      \"Exterior1st\"  \n",
       "[25] \"Exterior2nd\"   \"MasVnrType\"    \"MasVnrArea\"    \"ExterQual\"    \n",
       "[29] \"ExterCond\"     \"Foundation\"    \"BsmtQual\"      \"BsmtCond\"     \n",
       "[33] \"BsmtExposure\"  \"BsmtFinType1\"  \"BsmtFinSF1\"    \"BsmtFinType2\" \n",
       "[37] \"BsmtFinSF2\"    \"BsmtUnfSF\"     \"TotalBsmtSF\"   \"Heating\"      \n",
       "[41] \"HeatingQC\"     \"CentralAir\"    \"Electrical\"    \"X1stFlrSF\"    \n",
       "[45] \"X2ndFlrSF\"     \"LowQualFinSF\"  \"GrLivArea\"     \"BsmtFullBath\" \n",
       "[49] \"BsmtHalfBath\"  \"FullBath\"      \"HalfBath\"      \"BedroomAbvGr\" \n",
       "[53] \"KitchenAbvGr\"  \"KitchenQual\"   \"TotRmsAbvGrd\"  \"Functional\"   \n",
       "[57] \"Fireplaces\"    \"FireplaceQu\"   \"GarageType\"    \"GarageYrBlt\"  \n",
       "[61] \"GarageFinish\"  \"GarageCars\"    \"GarageArea\"    \"GarageQual\"   \n",
       "[65] \"GarageCond\"    \"PavedDrive\"    \"WoodDeckSF\"    \"OpenPorchSF\"  \n",
       "[69] \"EnclosedPorch\" \"X3SsnPorch\"    \"ScreenPorch\"   \"PoolArea\"     \n",
       "[73] \"PoolQC\"        \"Fence\"         \"MiscFeature\"   \"MiscVal\"      \n",
       "[77] \"MoSold\"        \"YrSold\"        \"SaleType\"      \"SaleCondition\"\n",
       "[81] \"SalePrice\"    "
      ]
     },
     "execution_count": null,
     "metadata": {},
     "output_type": "execute_result"
    }
   ],
   "source": [
    "names(Data)"
   ]
  },
  {
   "cell_type": "code",
   "execution_count": 88,
   "metadata": {
    "vscode": {
     "languageId": "r"
    }
   },
   "outputs": [
    {
     "data": {
      "text/plain": [
       "[1] 1460   80"
      ]
     },
     "execution_count": null,
     "metadata": {},
     "output_type": "execute_result"
    }
   ],
   "source": [
    "#remove Id colum\n",
    "Data[\"Id\"] <- NULL\n",
    "dim(Data)"
   ]
  },
  {
   "cell_type": "code",
   "execution_count": 89,
   "metadata": {
    "vscode": {
     "languageId": "r"
    }
   },
   "outputs": [],
   "source": [
    "# numeric data\n",
    "numData <- Data |> \n",
    "  select_if(is.numeric) "
   ]
  },
  {
   "cell_type": "code",
   "execution_count": 90,
   "metadata": {
    "vscode": {
     "languageId": "r"
    }
   },
   "outputs": [],
   "source": [
    "hist(Data$SalePrice)"
   ]
  },
  {
   "cell_type": "code",
   "execution_count": 91,
   "metadata": {
    "vscode": {
     "languageId": "r"
    }
   },
   "outputs": [
    {
     "data": {
      "text/plain": [
       "   Min. 1st Qu.  Median    Mean 3rd Qu.    Max. \n",
       "  34900  129975  163000  180921  214000  755000 "
      ]
     },
     "execution_count": null,
     "metadata": {},
     "output_type": "execute_result"
    }
   ],
   "source": [
    "summary(Data$SalePrice)"
   ]
  },
  {
   "cell_type": "code",
   "execution_count": 92,
   "metadata": {
    "vscode": {
     "languageId": "r"
    }
   },
   "outputs": [],
   "source": [
    "skimr::skim_without_charts(Data,where(is.numeric))-> num_skimData"
   ]
  },
  {
   "cell_type": "code",
   "execution_count": 93,
   "metadata": {
    "vscode": {
     "languageId": "r"
    }
   },
   "outputs": [
    {
     "data": {
      "text/plain": [
       "[1] \"LotFrontage\" \"MasVnrArea\"  \"GarageYrBlt\""
      ]
     },
     "execution_count": null,
     "metadata": {},
     "output_type": "execute_result"
    }
   ],
   "source": [
    "(numVal_na <- num_skimData$skim_variable[num_skimData$n_missing !=0] )"
   ]
  },
  {
   "cell_type": "code",
   "execution_count": 94,
   "metadata": {
    "vscode": {
     "languageId": "r"
    }
   },
   "outputs": [],
   "source": [
    "skimr::skim_without_charts(Data,where(is.character))-> cat_skimData"
   ]
  },
  {
   "cell_type": "code",
   "execution_count": 95,
   "metadata": {
    "vscode": {
     "languageId": "r"
    }
   },
   "outputs": [
    {
     "data": {
      "text/plain": [
       "── Data Summary ────────────────────────\n",
       "                           Values\n",
       "Name                       Data  \n",
       "Number of rows             1460  \n",
       "Number of columns          80    \n",
       "_______________________          \n",
       "Column type frequency:           \n",
       "  character                43    \n",
       "________________________         \n",
       "Group variables            None  "
      ]
     },
     "execution_count": null,
     "metadata": {},
     "output_type": "execute_result"
    }
   ],
   "source": [
    "summary(cat_skimData)"
   ]
  },
  {
   "cell_type": "markdown",
   "metadata": {},
   "source": [
    "Let's impute some of these numerical features"
   ]
  },
  {
   "cell_type": "code",
   "execution_count": 96,
   "metadata": {
    "vscode": {
     "languageId": "r"
    }
   },
   "outputs": [
    {
     "data": {
      "text/plain": [
       "LotFrontage  MasVnrArea GarageYrBlt \n",
       "0.177397260 0.005479452 0.055479452 "
      ]
     },
     "execution_count": null,
     "metadata": {},
     "output_type": "execute_result"
    }
   ],
   "source": [
    "colMeans(is.na(Data[numVal_na]))"
   ]
  },
  {
   "cell_type": "code",
   "execution_count": 97,
   "metadata": {
    "vscode": {
     "languageId": "r"
    }
   },
   "outputs": [],
   "source": [
    "# list of numeric features to impute\n",
    "imputeVal_list <- apply(Data[numVal_na],2, FUN = \"median\",na.rm = T,simplify = list)"
   ]
  },
  {
   "cell_type": "code",
   "execution_count": 98,
   "metadata": {
    "vscode": {
     "languageId": "r"
    }
   },
   "outputs": [],
   "source": [
    "#impute numerical features \n",
    "Data[numVal_na] <- replace_na(Data[numVal_na] ,\n",
    "                              replace = imputeVal_list\n",
    ")"
   ]
  },
  {
   "cell_type": "code",
   "execution_count": 99,
   "metadata": {
    "vscode": {
     "languageId": "r"
    }
   },
   "outputs": [
    {
     "data": {
      "text/plain": [
       "LotFrontage  MasVnrArea GarageYrBlt \n",
       "          0           0           0 "
      ]
     },
     "execution_count": null,
     "metadata": {},
     "output_type": "execute_result"
    }
   ],
   "source": [
    "# check  na\n",
    "colMeans(is.na(Data[numVal_na]))"
   ]
  },
  {
   "cell_type": "code",
   "execution_count": 100,
   "metadata": {
    "vscode": {
     "languageId": "r"
    }
   },
   "outputs": [
    {
     "data": {
      "text/plain": [
       "[1] 1460"
      ]
     },
     "execution_count": null,
     "metadata": {},
     "output_type": "execute_result"
    }
   ],
   "source": [
    "# duplicates rows\n",
    "Data |> \n",
    "  select_if(is.numeric) |> \n",
    "  unique() |> \n",
    "  nrow()"
   ]
  },
  {
   "cell_type": "code",
   "execution_count": 101,
   "metadata": {
    "vscode": {
     "languageId": "r"
    }
   },
   "outputs": [
    {
     "data": {
      "text/plain": [
       "[1] 19"
      ]
     },
     "execution_count": null,
     "metadata": {},
     "output_type": "execute_result"
    }
   ],
   "source": [
    "# select numeric features\n",
    "Data |> \n",
    "  select_if(is.numeric)  ->numData \n",
    "\n",
    "# check relationship with target (linear model)\n",
    "# h0 : there no relationship between X and Y(SalePrice)\n",
    "# h1 :otherwise\n",
    "\n",
    "  lm(SalePrice~.,numData) |> \n",
    "    summary() |> \n",
    "    tidy() |> \n",
    "    filter(p.value <=0.05) |> \n",
    "    nrow()"
   ]
  },
  {
   "cell_type": "markdown",
   "metadata": {},
   "source": [
    "28 numerical features have predictive effect on target feature. "
   ]
  },
  {
   "cell_type": "code",
   "execution_count": 102,
   "metadata": {
    "vscode": {
     "languageId": "r"
    }
   },
   "outputs": [],
   "source": [
    "# correlation in numeric features\n",
    "for (feature in names(numData)[-1]){\n",
    "  if (cor(numData[names(numData)][1],numData[feature]) >= 0.8 ) print(feature)\n",
    "}"
   ]
  },
  {
   "cell_type": "markdown",
   "metadata": {},
   "source": [
    "There is no carrelated features in numeric features "
   ]
  },
  {
   "cell_type": "markdown",
   "metadata": {},
   "source": [
    "cat var feat engineering  "
   ]
  },
  {
   "cell_type": "code",
   "execution_count": 103,
   "metadata": {
    "vscode": {
     "languageId": "r"
    }
   },
   "outputs": [
    {
     "data": {
      "text/plain": [
       "[1] 16"
      ]
     },
     "execution_count": null,
     "metadata": {},
     "output_type": "execute_result"
    }
   ],
   "source": [
    "# categorical features presenting missing values \n",
    "sum(cat_skimData$n_missing  > 0)"
   ]
  },
  {
   "cell_type": "code",
   "execution_count": 104,
   "metadata": {
    "vscode": {
     "languageId": "r"
    }
   },
   "outputs": [
    {
     "data": {
      "text/plain": [
       "[1] 16"
      ]
     },
     "execution_count": null,
     "metadata": {},
     "output_type": "execute_result"
    }
   ],
   "source": [
    "# n_missing proportion > 0.95 in cat features \n",
    "cat_rid <- cat_skimData$skim_variable[cat_skimData$n_missing >= 0.95] \n",
    "length(cat_rid)"
   ]
  },
  {
   "cell_type": "markdown",
   "metadata": {},
   "source": [
    "16 features present missing values or NA proportion above 0.95, we could get rid of it  "
   ]
  },
  {
   "cell_type": "code",
   "execution_count": 105,
   "metadata": {
    "vscode": {
     "languageId": "r"
    }
   },
   "outputs": [],
   "source": [
    "# remove these categorical features\n",
    "Data[,cat_rid]<- NULL"
   ]
  },
  {
   "cell_type": "code",
   "execution_count": 106,
   "metadata": {
    "vscode": {
     "languageId": "r"
    }
   },
   "outputs": [],
   "source": [
    "# check categorical features with NA in Data \n",
    "sum(cat_rid %in% names(Data))\n",
    "rm(cat_rid)"
   ]
  },
  {
   "cell_type": "code",
   "execution_count": 107,
   "metadata": {
    "vscode": {
     "languageId": "r"
    }
   },
   "outputs": [
    {
     "data": {
      "text/plain": [
       "[1] 1460   64"
      ]
     },
     "execution_count": null,
     "metadata": {},
     "output_type": "execute_result"
    }
   ],
   "source": [
    "# new data dimension\n",
    "dim(Data)"
   ]
  },
  {
   "cell_type": "code",
   "execution_count": 108,
   "metadata": {
    "vscode": {
     "languageId": "r"
    }
   },
   "outputs": [
    {
     "data": {
      "text/plain": [
       "[1] 0"
      ]
     },
     "execution_count": null,
     "metadata": {},
     "output_type": "execute_result"
    }
   ],
   "source": [
    "# NA check\n",
    "colMeans(is.na(Data)) |> sum()"
   ]
  },
  {
   "cell_type": "markdown",
   "metadata": {
    "vscode": {
     "languageId": "r"
    }
   },
   "source": [
    "There is no longer NA in this dataset"
   ]
  },
  {
   "cell_type": "code",
   "execution_count": 109,
   "metadata": {
    "vscode": {
     "languageId": "r"
    }
   },
   "outputs": [
    {
     "name": "stdout",
     "output_type": "stream",
     "text": [
      "\u001b[38;5;246m# A tibble: 59 × 5\u001b[39m\n",
      "   term                  estimate std.error statistic  p.value\n",
      "   \u001b[3m\u001b[38;5;246m<chr>\u001b[39m\u001b[23m                    \u001b[3m\u001b[38;5;246m<dbl>\u001b[39m\u001b[23m     \u001b[3m\u001b[38;5;246m<dbl>\u001b[39m\u001b[23m     \u001b[3m\u001b[38;5;246m<dbl>\u001b[39m\u001b[23m    \u001b[3m\u001b[38;5;246m<dbl>\u001b[39m\u001b[23m\n",
      "\u001b[38;5;250m 1\u001b[39m MSZoningFV           \u001b[4m3\u001b[24m\u001b[4m3\u001b[24m495.    \u001b[4m1\u001b[24m\u001b[4m2\u001b[24m123.         2.76 5.81\u001b[38;5;246me\u001b[39m\u001b[31m- 3\u001b[39m\n",
      "\u001b[38;5;250m 2\u001b[39m MSZoningRH           \u001b[4m2\u001b[24m\u001b[4m5\u001b[24m399.    \u001b[4m1\u001b[24m\u001b[4m2\u001b[24m189.         2.08 3.74\u001b[38;5;246me\u001b[39m\u001b[31m- 2\u001b[39m\n",
      "\u001b[38;5;250m 3\u001b[39m MSZoningRL           \u001b[4m2\u001b[24m\u001b[4m7\u001b[24m888.    \u001b[4m1\u001b[24m\u001b[4m0\u001b[24m386.         2.69 7.35\u001b[38;5;246me\u001b[39m\u001b[31m- 3\u001b[39m\n",
      "\u001b[38;5;250m 4\u001b[39m MSZoningRM           \u001b[4m2\u001b[24m\u001b[4m6\u001b[24m270.     \u001b[4m9\u001b[24m716.         2.70 6.95\u001b[38;5;246me\u001b[39m\u001b[31m- 3\u001b[39m\n",
      "\u001b[38;5;250m 5\u001b[39m LotFrontage             96.2      44.0        2.19 2.89\u001b[38;5;246me\u001b[39m\u001b[31m- 2\u001b[39m\n",
      "\u001b[38;5;250m 6\u001b[39m LotArea                  0.670     0.109      6.16 9.47\u001b[38;5;246me\u001b[39m\u001b[31m-10\u001b[39m\n",
      "\u001b[38;5;250m 7\u001b[39m StreetPave           \u001b[4m3\u001b[24m\u001b[4m6\u001b[24m874.    \u001b[4m1\u001b[24m\u001b[4m2\u001b[24m184.         3.03 2.52\u001b[38;5;246me\u001b[39m\u001b[31m- 3\u001b[39m\n",
      "\u001b[38;5;250m 8\u001b[39m LandContourHLS       \u001b[4m1\u001b[24m\u001b[4m3\u001b[24m435.     \u001b[4m5\u001b[24m242.         2.56 1.05\u001b[38;5;246me\u001b[39m\u001b[31m- 2\u001b[39m\n",
      "\u001b[38;5;250m 9\u001b[39m LandContourLvl        \u001b[4m7\u001b[24m446.     \u001b[4m3\u001b[24m775.         1.97 4.88\u001b[38;5;246me\u001b[39m\u001b[31m- 2\u001b[39m\n",
      "\u001b[38;5;246m# A tibble: 59 × 5\u001b[39m\n",
      "   term                  estimate std.error statistic  p.value\n",
      "   \u001b[3m\u001b[38;5;246m<chr>\u001b[39m\u001b[23m                    \u001b[3m\u001b[38;5;246m<dbl>\u001b[39m\u001b[23m     \u001b[3m\u001b[38;5;246m<dbl>\u001b[39m\u001b[23m     \u001b[3m\u001b[38;5;246m<dbl>\u001b[39m\u001b[23m    \u001b[3m\u001b[38;5;246m<dbl>\u001b[39m\u001b[23m\n",
      "\u001b[38;5;250m 1\u001b[39m MSZoningFV           \u001b[4m3\u001b[24m\u001b[4m3\u001b[24m495.    \u001b[4m1\u001b[24m\u001b[4m2\u001b[24m123.         2.76 5.81\u001b[38;5;246me\u001b[39m\u001b[31m- 3\u001b[39m\n",
      "\u001b[38;5;250m 2\u001b[39m MSZoningRH           \u001b[4m2\u001b[24m\u001b[4m5\u001b[24m399.    \u001b[4m1\u001b[24m\u001b[4m2\u001b[24m189.         2.08 3.74\u001b[38;5;246me\u001b[39m\u001b[31m- 2\u001b[39m\n",
      "\u001b[38;5;250m 3\u001b[39m MSZoningRL           \u001b[4m2\u001b[24m\u001b[4m7\u001b[24m888.    \u001b[4m1\u001b[24m\u001b[4m0\u001b[24m386.         2.69 7.35\u001b[38;5;246me\u001b[39m\u001b[31m- 3\u001b[39m\n",
      "\u001b[38;5;250m 4\u001b[39m MSZoningRM           \u001b[4m2\u001b[24m\u001b[4m6\u001b[24m270.     \u001b[4m9\u001b[24m716.         2.70 6.95\u001b[38;5;246me\u001b[39m\u001b[31m- 3\u001b[39m\n",
      "\u001b[38;5;250m 5\u001b[39m LotFrontage             96.2      44.0        2.19 2.89\u001b[38;5;246me\u001b[39m\u001b[31m- 2\u001b[39m\n",
      "\u001b[38;5;250m 6\u001b[39m LotArea                  0.670     0.109      6.16 9.47\u001b[38;5;246me\u001b[39m\u001b[31m-10\u001b[39m\n",
      "\u001b[38;5;250m 7\u001b[39m StreetPave           \u001b[4m3\u001b[24m\u001b[4m6\u001b[24m874.    \u001b[4m1\u001b[24m\u001b[4m2\u001b[24m184.         3.03 2.52\u001b[38;5;246me\u001b[39m\u001b[31m- 3\u001b[39m\n",
      "\u001b[38;5;250m 8\u001b[39m LandContourHLS       \u001b[4m1\u001b[24m\u001b[4m3\u001b[24m435.     \u001b[4m5\u001b[24m242.         2.56 1.05\u001b[38;5;246me\u001b[39m\u001b[31m- 2\u001b[39m\n",
      "\u001b[38;5;250m 9\u001b[39m LandContourLvl        \u001b[4m7\u001b[24m446.     \u001b[4m3\u001b[24m775.         1.97 4.88\u001b[38;5;246me\u001b[39m\u001b[31m- 2\u001b[39m\n"
     ]
    },
    {
     "name": "stdout",
     "output_type": "stream",
     "text": [
      "\u001b[38;5;250m10\u001b[39m LotConfigCulDSac      \u001b[4m9\u001b[24m864.     \u001b[4m3\u001b[24m407.         2.90 3.86\u001b[38;5;246me\u001b[39m\u001b[31m- 3\u001b[39m\n",
      "\u001b[38;5;250m11\u001b[39m LandSlopeMod         \u001b[4m1\u001b[24m\u001b[4m0\u001b[24m064.     \u001b[4m4\u001b[24m002.         2.51 1.20\u001b[38;5;246me\u001b[39m\u001b[31m- 2\u001b[39m\n",
      "\u001b[38;5;250m12\u001b[39m LandSlopeSev        -\u001b[31m\u001b[4m2\u001b[24m\u001b[4m5\u001b[24m4\u001b[39m\u001b[31m46\u001b[39m\u001b[31m.\u001b[39m    \u001b[4m1\u001b[24m\u001b[4m1\u001b[24m049.        -\u001b[31m2\u001b[39m\u001b[31m.\u001b[39m\u001b[31m30\u001b[39m 2.14\u001b[38;5;246me\u001b[39m\u001b[31m- 2\u001b[39m\n",
      "\u001b[38;5;250m13\u001b[39m NeighborhoodEdwards -\u001b[31m\u001b[4m1\u001b[24m\u001b[4m8\u001b[24m2\u001b[39m\u001b[31m56\u001b[39m\u001b[31m.\u001b[39m     \u001b[4m8\u001b[24m039.        -\u001b[31m2\u001b[39m\u001b[31m.\u001b[39m\u001b[31m27\u001b[39m 2.33\u001b[38;5;246me\u001b[39m\u001b[31m- 2\u001b[39m\n",
      "\u001b[38;5;250m14\u001b[39m NeighborhoodMitchel -\u001b[31m\u001b[4m2\u001b[24m\u001b[4m1\u001b[24m9\u001b[39m\u001b[31m08\u001b[39m\u001b[31m.\u001b[39m     \u001b[4m8\u001b[24m233.        -\u001b[31m2\u001b[39m\u001b[31m.\u001b[39m\u001b[31m66\u001b[39m 7.89\u001b[38;5;246me\u001b[39m\u001b[31m- 3\u001b[39m\n",
      "\u001b[38;5;250m15\u001b[39m NeighborhoodNAmes   -\u001b[31m\u001b[4m1\u001b[24m\u001b[4m6\u001b[24m9\u001b[39m\u001b[31m56\u001b[39m\u001b[31m.\u001b[39m     \u001b[4m7\u001b[24m887.        -\u001b[31m2\u001b[39m\u001b[31m.\u001b[39m\u001b[31m15\u001b[39m 3.18\u001b[38;5;246me\u001b[39m\u001b[31m- 2\u001b[39m\n",
      "\u001b[38;5;246m# ℹ 44 more rows\u001b[39m\n",
      "\u001b[38;5;246m# ℹ Use `print(n = ...)` to see more rows\u001b[39m\n",
      "\u001b[38;5;250m10\u001b[39m LotConfigCulDSac      \u001b[4m9\u001b[24m864.     \u001b[4m3\u001b[24m407.         2.90 3.86\u001b[38;5;246me\u001b[39m\u001b[31m- 3\u001b[39m\n",
      "\u001b[38;5;250m11\u001b[39m LandSlopeMod         \u001b[4m1\u001b[24m\u001b[4m0\u001b[24m064.     \u001b[4m4\u001b[24m002.         2.51 1.20\u001b[38;5;246me\u001b[39m\u001b[31m- 2\u001b[39m\n",
      "\u001b[38;5;250m12\u001b[39m LandSlopeSev        -\u001b[31m\u001b[4m2\u001b[24m\u001b[4m5\u001b[24m4\u001b[39m\u001b[31m46\u001b[39m\u001b[31m.\u001b[39m    \u001b[4m1\u001b[24m\u001b[4m1\u001b[24m049.        -\u001b[31m2\u001b[39m\u001b[31m.\u001b[39m\u001b[31m30\u001b[39m 2.14\u001b[38;5;246me\u001b[39m\u001b[31m- 2\u001b[39m\n",
      "\u001b[38;5;250m13\u001b[39m NeighborhoodEdwards -\u001b[31m\u001b[4m1\u001b[24m\u001b[4m8\u001b[24m2\u001b[39m\u001b[31m56\u001b[39m\u001b[31m.\u001b[39m     \u001b[4m8\u001b[24m039.        -\u001b[31m2\u001b[39m\u001b[31m.\u001b[39m\u001b[31m27\u001b[39m 2.33\u001b[38;5;246me\u001b[39m\u001b[31m- 2\u001b[39m\n",
      "\u001b[38;5;250m14\u001b[39m NeighborhoodMitchel -\u001b[31m\u001b[4m2\u001b[24m\u001b[4m1\u001b[24m9\u001b[39m\u001b[31m08\u001b[39m\u001b[31m.\u001b[39m     \u001b[4m8\u001b[24m233.        -\u001b[31m2\u001b[39m\u001b[31m.\u001b[39m\u001b[31m66\u001b[39m 7.89\u001b[38;5;246me\u001b[39m\u001b[31m- 3\u001b[39m\n",
      "\u001b[38;5;250m15\u001b[39m NeighborhoodNAmes   -\u001b[31m\u001b[4m1\u001b[24m\u001b[4m6\u001b[24m9\u001b[39m\u001b[31m56\u001b[39m\u001b[31m.\u001b[39m     \u001b[4m7\u001b[24m887.        -\u001b[31m2\u001b[39m\u001b[31m.\u001b[39m\u001b[31m15\u001b[39m 3.18\u001b[38;5;246me\u001b[39m\u001b[31m- 2\u001b[39m\n",
      "\u001b[38;5;246m# ℹ 44 more rows\u001b[39m\n",
      "\u001b[38;5;246m# ℹ Use `print(n = ...)` to see more rows\u001b[39m\n"
     ]
    }
   ],
   "source": [
    "summary(lm(SalePrice~. ,Data)) |> \n",
    "  tidy() |> \n",
    "  filter(p.value <=0.05) |> \n",
    "  print(n=15)"
   ]
  },
  {
   "cell_type": "code",
   "execution_count": 193,
   "metadata": {
    "vscode": {
     "languageId": "r"
    }
   },
   "outputs": [
    {
     "name": "stderr",
     "output_type": "stream",
     "text": [
      "Warning message:\n",
      "In tidy.numeric(sort(importance(ranger(SalePrice ~ ., Data, importance = \"impurity\")),  :\n",
      "  'tidy.numeric' is deprecated.\n",
      "See help(\"Deprecated\")\n"
     ]
    },
    {
     "data": {
      "text/plain": [
       "\u001b[38;5;246m# A tibble: 5 × 3\u001b[39m\n",
       "  names             x proportion\n",
       "  \u001b[3m\u001b[38;5;246m<chr>\u001b[39m\u001b[23m         \u001b[3m\u001b[38;5;246m<dbl>\u001b[39m\u001b[23m      \u001b[3m\u001b[38;5;246m<dbl>\u001b[39m\u001b[23m\n",
       "\u001b[38;5;250m1\u001b[39m OverallQual 1.16\u001b[38;5;246me\u001b[39m12     0.128 \n",
       "\u001b[38;5;250m2\u001b[39m GrLivArea   7.81\u001b[38;5;246me\u001b[39m11     0.086\u001b[4m7\u001b[24m\n",
       "\u001b[38;5;250m3\u001b[39m GarageCars  6.22\u001b[38;5;246me\u001b[39m11     0.069\u001b[4m0\u001b[24m\n",
       "\u001b[38;5;250m4\u001b[39m GarageArea  5.72\u001b[38;5;246me\u001b[39m11     0.063\u001b[4m4\u001b[24m\n",
       "\u001b[38;5;250m5\u001b[39m TotalBsmtSF 5.71\u001b[38;5;246me\u001b[39m11     0.063\u001b[4m3\u001b[24m"
      ]
     },
     "execution_count": null,
     "metadata": {},
     "output_type": "execute_result"
    }
   ],
   "source": [
    "ranger(SalePrice~.,Data,\n",
    "  importance = 'impurity') |> \n",
    "  importance() |> \n",
    "  sort(decreasing = T) |> \n",
    "  tidy() |> \n",
    "  mutate(proportion= x/sum(x)) |> \n",
    "  filter(proportion >= 0.06)"
   ]
  },
  {
   "cell_type": "code",
   "execution_count": 190,
   "metadata": {
    "vscode": {
     "languageId": "r"
    }
   },
   "outputs": [
    {
     "name": "stderr",
     "output_type": "stream",
     "text": [
      "Warning message:\n",
      "In tidy.numeric(sort(rng$variable.importance, decreasing = T)) :\n",
      "  'tidy.numeric' is deprecated.\n",
      "See help(\"Deprecated\")\n"
     ]
    },
    {
     "data": {
      "text/plain": [
       "\u001b[38;5;246m# A tibble: 7 × 3\u001b[39m\n",
       "  names             x   prop\n",
       "  \u001b[3m\u001b[38;5;246m<chr>\u001b[39m\u001b[23m         \u001b[3m\u001b[38;5;246m<dbl>\u001b[39m\u001b[23m  \u001b[3m\u001b[38;5;246m<dbl>\u001b[39m\u001b[23m\n",
       "\u001b[38;5;250m1\u001b[39m OverallQual 1.09\u001b[38;5;246me\u001b[39m12 0.122 \n",
       "\u001b[38;5;250m2\u001b[39m GrLivArea   8.30\u001b[38;5;246me\u001b[39m11 0.092\u001b[4m1\u001b[24m\n",
       "\u001b[38;5;250m3\u001b[39m GarageCars  6.37\u001b[38;5;246me\u001b[39m11 0.070\u001b[4m7\u001b[24m\n",
       "\u001b[38;5;250m4\u001b[39m TotalBsmtSF 5.97\u001b[38;5;246me\u001b[39m11 0.066\u001b[4m3\u001b[24m\n",
       "\u001b[38;5;250m5\u001b[39m X1stFlrSF   5.17\u001b[38;5;246me\u001b[39m11 0.057\u001b[4m4\u001b[24m\n",
       "\u001b[38;5;250m6\u001b[39m ExterQual   4.97\u001b[38;5;246me\u001b[39m11 0.055\u001b[4m1\u001b[24m\n",
       "\u001b[38;5;250m7\u001b[39m GarageArea  4.79\u001b[38;5;246me\u001b[39m11 0.053\u001b[4m1\u001b[24m"
      ]
     },
     "execution_count": null,
     "metadata": {},
     "output_type": "execute_result"
    }
   ],
   "source": [
    "ranger(SalePrice~.,Data,importance = 'impurity')  -> rng\n",
    "rng$variable.importance |> \n",
    "sort(decreasing = T) |> \n",
    "tidy() |> \n",
    "mutate(prop=x/sum(x)) |> \n",
    "#print(n=5) \n",
    "filter(prop>=0.05)"
   ]
  },
  {
   "cell_type": "markdown",
   "metadata": {},
   "source": [
    "to be continued 😉!"
   ]
  }
 ],
 "metadata": {
  "kernelspec": {
   "display_name": "Python 3",
   "language": "python",
   "name": "python3"
  },
  "language_info": {
   "codemirror_mode": {
    "name": "ipython",
    "version": 3
   },
   "file_extension": ".py",
   "mimetype": "text/x-python",
   "name": "python",
   "nbconvert_exporter": "python",
   "pygments_lexer": "ipython3",
   "version": "3.9.6"
  }
 },
 "nbformat": 4,
 "nbformat_minor": 2
}
